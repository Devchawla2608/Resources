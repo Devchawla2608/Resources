{
 "cells": [
  {
   "cell_type": "code",
   "execution_count": null,
   "id": "31f14f67",
   "metadata": {},
   "outputs": [],
   "source": [
    "1.) Intro\n",
    "2.) Print\n",
    "3.) Variables\n",
    "4.) Naming Of Variables\n",
    "5.) Assignment of data to variables\n",
    "6.) typeof Operator -> <class str>\n",
    "7.) How data is stored in python\n",
    "8.) Id of address\n",
    "9.) Range of integers\n",
    "10.) Arithmatic Operators\n"
   ]
  },
  {
   "cell_type": "markdown",
   "id": "47bd3484",
   "metadata": {},
   "source": [
    "## Intro"
   ]
  },
  {
   "cell_type": "markdown",
   "id": "570bd660",
   "metadata": {},
   "source": [
    "## Hello World"
   ]
  },
  {
   "cell_type": "code",
   "execution_count": 1,
   "id": "f289118a",
   "metadata": {},
   "outputs": [
    {
     "name": "stdout",
     "output_type": "stream",
     "text": [
      "HelloWorld\n",
      "Hello\n"
     ]
    }
   ],
   "source": [
    "print(\"HelloWorld\")\n",
    "print(\"Hello\")"
   ]
  },
  {
   "cell_type": "markdown",
   "id": "fdb56577",
   "metadata": {},
   "source": [
    "## Variables"
   ]
  },
  {
   "cell_type": "code",
   "execution_count": 1,
   "id": "cc438957",
   "metadata": {},
   "outputs": [],
   "source": [
    "# Variables are the containers to store data\n",
    "# Variables in python are different we need not to mention what kind\n",
    "# of data a variable is going to store in future. \n",
    "# There is no need to mention data type"
   ]
  },
  {
   "cell_type": "code",
   "execution_count": 2,
   "id": "780a2aed",
   "metadata": {},
   "outputs": [
    {
     "data": {
      "text/plain": [
       "30"
      ]
     },
     "execution_count": 2,
     "metadata": {},
     "output_type": "execute_result"
    }
   ],
   "source": [
    "a = 10\n",
    "b = 20\n",
    "10\n",
    "a + b  \n",
    "# We did not printed but the output is printed becuase that is output \n",
    "# of last line of code in this cell . There are two ways to print output"
   ]
  },
  {
   "cell_type": "code",
   "execution_count": 3,
   "id": "ec05caa9",
   "metadata": {},
   "outputs": [
    {
     "name": "stdout",
     "output_type": "stream",
     "text": [
      "30\n"
     ]
    }
   ],
   "source": [
    "a = 10\n",
    "b = 20\n",
    "c = a + b\n",
    "print(c)"
   ]
  },
  {
   "cell_type": "code",
   "execution_count": null,
   "id": "7715ef7f",
   "metadata": {},
   "outputs": [],
   "source": [
    "# Naming of variables\n",
    "# 1. Variable names can only contain letters, numbers and underscores\n",
    "# 2. Variable names cannot start with a number\n",
    "# 3. Variable names are case sensitive\n",
    "# 4. Variable names cannot contain spaces, use camel case instead\n",
    "# 5. Variable names cannot contain special characters\n",
    "# 6. Variable names should be descriptive, without being too long"
   ]
  },
  {
   "cell_type": "markdown",
   "id": "3062ad0a",
   "metadata": {},
   "source": [
    "## Assigning different type of data to a varibale"
   ]
  },
  {
   "cell_type": "code",
   "execution_count": 4,
   "id": "38d1aaa1",
   "metadata": {},
   "outputs": [
    {
     "data": {
      "text/plain": [
       "'httha'"
      ]
     },
     "execution_count": 4,
     "metadata": {},
     "output_type": "execute_result"
    }
   ],
   "source": [
    "a = 10\n",
    "b = 20 \n",
    "a = \"httha\"\n",
    "a"
   ]
  },
  {
   "cell_type": "markdown",
   "id": "057d7814",
   "metadata": {},
   "source": [
    "## Type Operator"
   ]
  },
  {
   "cell_type": "code",
   "execution_count": 3,
   "id": "aa2d388a",
   "metadata": {},
   "outputs": [
    {
     "name": "stdout",
     "output_type": "stream",
     "text": [
      "<class 'str'>\n"
     ]
    },
    {
     "data": {
      "text/plain": [
       "int"
      ]
     },
     "execution_count": 3,
     "metadata": {},
     "output_type": "execute_result"
    }
   ],
   "source": [
    "a = \"abc\"\n",
    "print(type(a))\n",
    "a = 10\n",
    "a\n",
    "type(a)"
   ]
  },
  {
   "cell_type": "code",
   "execution_count": 6,
   "id": "c413cbf0",
   "metadata": {},
   "outputs": [
    {
     "name": "stdout",
     "output_type": "stream",
     "text": [
      "23\n",
      "3.4\n",
      "(3+5j)\n",
      "\n",
      "<class 'int'>\n",
      "<class 'float'>\n",
      "<class 'complex'>\n"
     ]
    }
   ],
   "source": [
    "a = 23\n",
    "b = 3.4\n",
    "c = 3+5j\n",
    "print(a)\n",
    "print(b)\n",
    "print(c)\n",
    "print()\n",
    "print(type(a))\n",
    "print(type(b))\n",
    "print(type(c))"
   ]
  },
  {
   "cell_type": "markdown",
   "id": "8aa971e1",
   "metadata": {},
   "source": [
    "## How data is stored in python"
   ]
  },
  {
   "cell_type": "code",
   "execution_count": 8,
   "id": "43dfa83c",
   "metadata": {},
   "outputs": [],
   "source": [
    "a = 10\n",
    "a = a+1\n",
    "# How it works\n",
    "\n",
    "# Before\n",
    "# a----->[Meta Data | 10]\n",
    "\n",
    "# After\n",
    "# a  -  >[Meta Data | 10]\n",
    "# a----->[Meta Data | 11]"
   ]
  },
  {
   "cell_type": "code",
   "execution_count": null,
   "id": "70a2f060",
   "metadata": {},
   "outputs": [],
   "source": [
    "# In python data is stored in memory and variable contains address of memory\n",
    "# This is why we can put any type of data in any variable because any time value\n",
    "# changes a new memory block is created and then variable starts points towards \n",
    "# the new memory space"
   ]
  },
  {
   "cell_type": "markdown",
   "id": "c0bb6cba",
   "metadata": {},
   "source": [
    "## ID"
   ]
  },
  {
   "cell_type": "code",
   "execution_count": null,
   "id": "6d2903eb",
   "metadata": {},
   "outputs": [],
   "source": [
    "# Id -> Id gives unique number then it will give unique number related to \n",
    "# this storage"
   ]
  },
  {
   "cell_type": "code",
   "execution_count": 9,
   "id": "bfd5b42a",
   "metadata": {},
   "outputs": [
    {
     "name": "stdout",
     "output_type": "stream",
     "text": [
      "140728648176712\n",
      "140728648176712\n"
     ]
    }
   ],
   "source": [
    "# Exception Both a and b pointing same address (Optimization) This is not same for all number\n",
    "# And python do this optimization between -5 to 256\n",
    "a = 10\n",
    "b = 10\n",
    "print(id(a))\n",
    "print(id(b))"
   ]
  },
  {
   "cell_type": "code",
   "execution_count": 10,
   "id": "63b9aa6d",
   "metadata": {},
   "outputs": [
    {
     "name": "stdout",
     "output_type": "stream",
     "text": [
      "1923104428496\n",
      "1923104437456\n"
     ]
    }
   ],
   "source": [
    "a = 1000\n",
    "b = 1000\n",
    "print(id(a))\n",
    "print(id(b))"
   ]
  },
  {
   "cell_type": "markdown",
   "id": "2680b276",
   "metadata": {},
   "source": [
    "## Range of Integers"
   ]
  },
  {
   "cell_type": "code",
   "execution_count": null,
   "id": "4eb7a2a5",
   "metadata": {},
   "outputs": [],
   "source": [
    "# In python there is not limit for a variable to store data \n",
    "#. The only limit is the memory"
   ]
  },
  {
   "cell_type": "markdown",
   "id": "8cf8e855",
   "metadata": {},
   "source": [
    "## Airthmatic Operators"
   ]
  },
  {
   "cell_type": "code",
   "execution_count": 6,
   "id": "056b14c5",
   "metadata": {},
   "outputs": [],
   "source": [
    "a = 10\n",
    "b = 20"
   ]
  },
  {
   "cell_type": "markdown",
   "id": "93d56ebc",
   "metadata": {},
   "source": [
    "## + Operator"
   ]
  },
  {
   "cell_type": "code",
   "execution_count": 5,
   "id": "cb56cdf2",
   "metadata": {},
   "outputs": [
    {
     "name": "stdout",
     "output_type": "stream",
     "text": [
      "30\n"
     ]
    }
   ],
   "source": [
    "c = a + b\n",
    "print(c)"
   ]
  },
  {
   "cell_type": "markdown",
   "id": "e08287e8",
   "metadata": {},
   "source": [
    "## - Operator"
   ]
  },
  {
   "cell_type": "code",
   "execution_count": 15,
   "id": "aa3f32cb",
   "metadata": {},
   "outputs": [
    {
     "name": "stdout",
     "output_type": "stream",
     "text": [
      "10\n"
     ]
    }
   ],
   "source": [
    "c = b - a\n",
    "print(c)"
   ]
  },
  {
   "cell_type": "markdown",
   "id": "1acaaaf5",
   "metadata": {},
   "source": [
    "## * Operator"
   ]
  },
  {
   "cell_type": "code",
   "execution_count": 16,
   "id": "ec759b7d",
   "metadata": {},
   "outputs": [
    {
     "name": "stdout",
     "output_type": "stream",
     "text": [
      "200\n"
     ]
    }
   ],
   "source": [
    "c = b*a\n",
    "print(c)"
   ]
  },
  {
   "cell_type": "markdown",
   "id": "2d234557",
   "metadata": {},
   "source": [
    "## / Operator"
   ]
  },
  {
   "cell_type": "code",
   "execution_count": 4,
   "id": "676b1215",
   "metadata": {},
   "outputs": [
    {
     "name": "stdout",
     "output_type": "stream",
     "text": [
      "2.0\n"
     ]
    }
   ],
   "source": [
    "c = b/a\n",
    "print(c)"
   ]
  },
  {
   "cell_type": "markdown",
   "id": "76006465",
   "metadata": {},
   "source": [
    "## // Operator (Int Division)"
   ]
  },
  {
   "cell_type": "code",
   "execution_count": 18,
   "id": "db34a2de",
   "metadata": {},
   "outputs": [
    {
     "name": "stdout",
     "output_type": "stream",
     "text": [
      "2\n"
     ]
    }
   ],
   "source": [
    "c = b//a\n",
    "print(c)"
   ]
  },
  {
   "cell_type": "markdown",
   "id": "96ae010b",
   "metadata": {},
   "source": [
    "## ** Operator (Power Operator)"
   ]
  },
  {
   "cell_type": "code",
   "execution_count": 19,
   "id": "6c833965",
   "metadata": {},
   "outputs": [
    {
     "name": "stdout",
     "output_type": "stream",
     "text": [
      "10240000000000\n"
     ]
    }
   ],
   "source": [
    "c = b**a\n",
    "print(c)"
   ]
  },
  {
   "cell_type": "markdown",
   "id": "66249753",
   "metadata": {},
   "source": [
    "## % Operator (Modulas Operator)"
   ]
  },
  {
   "cell_type": "code",
   "execution_count": 20,
   "id": "c1105dc6",
   "metadata": {},
   "outputs": [
    {
     "name": "stdout",
     "output_type": "stream",
     "text": [
      "0\n"
     ]
    }
   ],
   "source": [
    "c = b%a\n",
    "print(c)"
   ]
  },
  {
   "cell_type": "markdown",
   "id": "782f06b4",
   "metadata": {},
   "source": [
    "## Operator Precedence"
   ]
  },
  {
   "cell_type": "code",
   "execution_count": 21,
   "id": "d828753b",
   "metadata": {},
   "outputs": [
    {
     "data": {
      "text/plain": [
       "14"
      ]
     },
     "execution_count": 21,
     "metadata": {},
     "output_type": "execute_result"
    }
   ],
   "source": [
    "2+3*4 # 14 or 20"
   ]
  },
  {
   "cell_type": "code",
   "execution_count": 22,
   "id": "d327cfa2",
   "metadata": {},
   "outputs": [
    {
     "data": {
      "text/plain": [
       "1"
      ]
     },
     "execution_count": 22,
     "metadata": {},
     "output_type": "execute_result"
    }
   ],
   "source": [
    "2*3//4 # 0 or 1 "
   ]
  },
  {
   "cell_type": "code",
   "execution_count": null,
   "id": "92d63ce3",
   "metadata": {},
   "outputs": [],
   "source": [
    "# To avoid these confusion we should brackets"
   ]
  },
  {
   "cell_type": "markdown",
   "id": "4ff65c74",
   "metadata": {},
   "source": [
    "## Simple Interest"
   ]
  },
  {
   "cell_type": "code",
   "execution_count": 24,
   "id": "b2bf9d73",
   "metadata": {},
   "outputs": [
    {
     "data": {
      "text/plain": [
       "24"
      ]
     },
     "execution_count": 24,
     "metadata": {},
     "output_type": "execute_result"
    }
   ],
   "source": [
    "p = 100\n",
    "r = 12\n",
    "t = 2\n",
    "si = (p*r*t)//100\n",
    "si"
   ]
  },
  {
   "cell_type": "markdown",
   "id": "e03de9d3",
   "metadata": {},
   "source": [
    "## Farenhite to celcious"
   ]
  },
  {
   "cell_type": "code",
   "execution_count": 25,
   "id": "7335f81a",
   "metadata": {},
   "outputs": [
    {
     "data": {
      "text/plain": [
       "37"
      ]
     },
     "execution_count": 25,
     "metadata": {},
     "output_type": "execute_result"
    }
   ],
   "source": [
    "f = 100\n",
    "c = (f-32)*5//9\n",
    "c"
   ]
  },
  {
   "cell_type": "markdown",
   "id": "bf4d7377",
   "metadata": {},
   "source": [
    "## Taking Input from user"
   ]
  },
  {
   "cell_type": "code",
   "execution_count": 26,
   "id": "465398c8",
   "metadata": {},
   "outputs": [
    {
     "name": "stdout",
     "output_type": "stream",
     "text": [
      "5\n"
     ]
    },
    {
     "data": {
      "text/plain": [
       "'5'"
      ]
     },
     "execution_count": 26,
     "metadata": {},
     "output_type": "execute_result"
    }
   ],
   "source": [
    "input()"
   ]
  },
  {
   "cell_type": "code",
   "execution_count": 27,
   "id": "6a14ed35",
   "metadata": {},
   "outputs": [
    {
     "name": "stdout",
     "output_type": "stream",
     "text": [
      "5\n",
      "<class 'str'>\n",
      "5\n"
     ]
    }
   ],
   "source": [
    "a = input() # -> This will give you a string\n",
    "print(type(a))\n",
    "print(a)"
   ]
  },
  {
   "cell_type": "markdown",
   "id": "9cb7b2f8",
   "metadata": {},
   "source": [
    "## Int Input"
   ]
  },
  {
   "cell_type": "code",
   "execution_count": 28,
   "id": "ad093d28",
   "metadata": {},
   "outputs": [
    {
     "name": "stdout",
     "output_type": "stream",
     "text": [
      "3\n"
     ]
    }
   ],
   "source": [
    "b = 3.4\n",
    "c = int(b)\n",
    "print(c)"
   ]
  },
  {
   "cell_type": "code",
   "execution_count": 29,
   "id": "a7652f45",
   "metadata": {},
   "outputs": [
    {
     "name": "stdout",
     "output_type": "stream",
     "text": [
      "5\n",
      "5\n"
     ]
    }
   ],
   "source": [
    "b = int(input())\n",
    "print(b)"
   ]
  },
  {
   "cell_type": "code",
   "execution_count": 30,
   "id": "117c0f5f",
   "metadata": {},
   "outputs": [
    {
     "ename": "ValueError",
     "evalue": "invalid literal for int() with base 10: '3bb4'",
     "output_type": "error",
     "traceback": [
      "\u001b[1;31m---------------------------------------------------------------------------\u001b[0m",
      "\u001b[1;31mValueError\u001b[0m                                Traceback (most recent call last)",
      "Cell \u001b[1;32mIn[30], line 2\u001b[0m\n\u001b[0;32m      1\u001b[0m b \u001b[38;5;241m=\u001b[39m \u001b[38;5;124m'\u001b[39m\u001b[38;5;124m3bb4\u001b[39m\u001b[38;5;124m'\u001b[39m\n\u001b[1;32m----> 2\u001b[0m c \u001b[38;5;241m=\u001b[39m \u001b[38;5;28mint\u001b[39m(b)\n\u001b[0;32m      3\u001b[0m \u001b[38;5;28mprint\u001b[39m(c)\n",
      "\u001b[1;31mValueError\u001b[0m: invalid literal for int() with base 10: '3bb4'"
     ]
    }
   ],
   "source": [
    "b = '3bb4' # -> It will error \n",
    "c = int(b)\n",
    "print(c)"
   ]
  },
  {
   "cell_type": "markdown",
   "id": "abcb2bac",
   "metadata": {},
   "source": [
    "## Float Input "
   ]
  },
  {
   "cell_type": "code",
   "execution_count": 31,
   "id": "1b766d80",
   "metadata": {},
   "outputs": [
    {
     "name": "stdout",
     "output_type": "stream",
     "text": [
      "5\n",
      "5.0\n"
     ]
    }
   ],
   "source": [
    "c = float(input())\n",
    "print(c)"
   ]
  },
  {
   "cell_type": "code",
   "execution_count": 32,
   "id": "48b94e84",
   "metadata": {},
   "outputs": [
    {
     "ename": "ValueError",
     "evalue": "could not convert string to float: '4.5d'",
     "output_type": "error",
     "traceback": [
      "\u001b[1;31m---------------------------------------------------------------------------\u001b[0m",
      "\u001b[1;31mValueError\u001b[0m                                Traceback (most recent call last)",
      "Cell \u001b[1;32mIn[32], line 2\u001b[0m\n\u001b[0;32m      1\u001b[0m s \u001b[38;5;241m=\u001b[39m \u001b[38;5;124m\"\u001b[39m\u001b[38;5;124m4.5d\u001b[39m\u001b[38;5;124m\"\u001b[39m\n\u001b[1;32m----> 2\u001b[0m \u001b[38;5;28mfloat\u001b[39m(s)\n",
      "\u001b[1;31mValueError\u001b[0m: could not convert string to float: '4.5d'"
     ]
    }
   ],
   "source": [
    "s = \"4.5d\" # -> It will give error\n",
    "float(s)"
   ]
  },
  {
   "cell_type": "code",
   "execution_count": null,
   "id": "e4b20b86",
   "metadata": {},
   "outputs": [],
   "source": []
  },
  {
   "cell_type": "code",
   "execution_count": null,
   "id": "37e3bcd4",
   "metadata": {},
   "outputs": [],
   "source": []
  }
 ],
 "metadata": {
  "kernelspec": {
   "display_name": "Python 3 (ipykernel)",
   "language": "python",
   "name": "python3"
  },
  "language_info": {
   "codemirror_mode": {
    "name": "ipython",
    "version": 3
   },
   "file_extension": ".py",
   "mimetype": "text/x-python",
   "name": "python",
   "nbconvert_exporter": "python",
   "pygments_lexer": "ipython3",
   "version": "3.11.5"
  }
 },
 "nbformat": 4,
 "nbformat_minor": 5
}
