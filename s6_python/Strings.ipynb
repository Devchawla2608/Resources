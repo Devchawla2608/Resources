{
 "cells": [
  {
   "cell_type": "markdown",
   "id": "0d8f7b1b",
   "metadata": {},
   "source": [
    "## Strings"
   ]
  },
  {
   "cell_type": "raw",
   "id": "c566e233",
   "metadata": {},
   "source": [
    "String - Collection of characters"
   ]
  },
  {
   "cell_type": "code",
   "execution_count": 2,
   "id": "74f91d05",
   "metadata": {},
   "outputs": [
    {
     "name": "stdout",
     "output_type": "stream",
     "text": [
      "abc def ghi jkl\n"
     ]
    }
   ],
   "source": [
    "a = \"abc def\"\n",
    "b = 'ghi jkl'\n",
    "print(a , b)"
   ]
  },
  {
   "cell_type": "raw",
   "id": "0aadeaa1",
   "metadata": {},
   "source": [
    "In other languages single quotes are not used for string but in python there is nothing like characters so we can use single quotes for string as well"
   ]
  },
  {
   "cell_type": "code",
   "execution_count": 3,
   "id": "e0e45488",
   "metadata": {},
   "outputs": [
    {
     "data": {
      "text/plain": [
       "(str, str)"
      ]
     },
     "execution_count": 3,
     "metadata": {},
     "output_type": "execute_result"
    }
   ],
   "source": [
    "type(a) , type(b)"
   ]
  },
  {
   "cell_type": "code",
   "execution_count": 4,
   "id": "09aac53e",
   "metadata": {},
   "outputs": [
    {
     "data": {
      "text/plain": [
       "str"
      ]
     },
     "execution_count": 4,
     "metadata": {},
     "output_type": "execute_result"
    }
   ],
   "source": [
    "c = 'd'\n",
    "type(c)"
   ]
  },
  {
   "cell_type": "raw",
   "id": "9a865a6a",
   "metadata": {},
   "source": [
    "Characters in python is single character string"
   ]
  },
  {
   "cell_type": "code",
   "execution_count": 6,
   "id": "9ab11171",
   "metadata": {},
   "outputs": [
    {
     "data": {
      "text/plain": [
       "'d'"
      ]
     },
     "execution_count": 6,
     "metadata": {},
     "output_type": "execute_result"
    }
   ],
   "source": [
    "a[4]"
   ]
  },
  {
   "cell_type": "code",
   "execution_count": 7,
   "id": "f1c44796",
   "metadata": {},
   "outputs": [
    {
     "data": {
      "text/plain": [
       "str"
      ]
     },
     "execution_count": 7,
     "metadata": {},
     "output_type": "execute_result"
    }
   ],
   "source": [
    "type(a[0])"
   ]
  },
  {
   "cell_type": "markdown",
   "id": "cd2729f8",
   "metadata": {},
   "source": [
    "## Iteration in string"
   ]
  },
  {
   "cell_type": "code",
   "execution_count": 8,
   "id": "7d99cf53",
   "metadata": {},
   "outputs": [
    {
     "name": "stdout",
     "output_type": "stream",
     "text": [
      "a\n",
      "b\n",
      "c\n",
      " \n",
      "d\n",
      "e\n",
      "f\n"
     ]
    }
   ],
   "source": [
    "for i in a:\n",
    "    print(i)"
   ]
  },
  {
   "cell_type": "markdown",
   "id": "3c3eb310",
   "metadata": {},
   "source": [
    "## String are immutable in python"
   ]
  },
  {
   "cell_type": "raw",
   "id": "800a6180",
   "metadata": {},
   "source": [
    "string can not be change once it created but we can reassign becuase it will store new address"
   ]
  },
  {
   "cell_type": "code",
   "execution_count": 13,
   "id": "465cd236",
   "metadata": {},
   "outputs": [
    {
     "data": {
      "text/plain": [
       "'second'"
      ]
     },
     "execution_count": 13,
     "metadata": {},
     "output_type": "execute_result"
    }
   ],
   "source": [
    "a = \"First\"\n",
    "a = \"second\"\n",
    "a\n",
    "# Ressigned , a is not changed"
   ]
  },
  {
   "cell_type": "markdown",
   "id": "15e4d0ba",
   "metadata": {},
   "source": [
    "## String quotes"
   ]
  },
  {
   "cell_type": "code",
   "execution_count": 25,
   "id": "9c51e091",
   "metadata": {},
   "outputs": [
    {
     "name": "stdout",
     "output_type": "stream",
     "text": [
      "This is rahul's pen He said \"Life is great\" this is rahul's pen and he said \"Lift is great\"\n"
     ]
    }
   ],
   "source": [
    "a = \"This is rahul's pen\"\n",
    "b = 'He said \"Life is great\"'\n",
    "c = 'this is rahul\\'s pen and he said \"Lift is great\"'\n",
    "print(a,b,c)"
   ]
  },
  {
   "cell_type": "markdown",
   "id": "d196e523",
   "metadata": {},
   "source": [
    "## Strings inbuilt functions"
   ]
  },
  {
   "cell_type": "markdown",
   "id": "e6cbfc58",
   "metadata": {},
   "source": [
    "## Concatination"
   ]
  },
  {
   "cell_type": "code",
   "execution_count": 21,
   "id": "f88faf7b",
   "metadata": {},
   "outputs": [
    {
     "data": {
      "text/plain": [
       "'This is rahul\\'s penHe said \"Life is great\"'"
      ]
     },
     "execution_count": 21,
     "metadata": {},
     "output_type": "execute_result"
    }
   ],
   "source": [
    "a+b"
   ]
  },
  {
   "cell_type": "code",
   "execution_count": 26,
   "id": "e14f441d",
   "metadata": {},
   "outputs": [
    {
     "name": "stdout",
     "output_type": "stream",
     "text": [
      "This is rahul's penHe said \"Life is great\"\n"
     ]
    }
   ],
   "source": [
    "a = a + b\n",
    "print(a)"
   ]
  },
  {
   "cell_type": "markdown",
   "id": "5c33d374",
   "metadata": {},
   "source": [
    "## Comparison"
   ]
  },
  {
   "cell_type": "code",
   "execution_count": 27,
   "id": "273bf5c9",
   "metadata": {},
   "outputs": [
    {
     "data": {
      "text/plain": [
       "False"
      ]
     },
     "execution_count": 27,
     "metadata": {},
     "output_type": "execute_result"
    }
   ],
   "source": [
    "a == b"
   ]
  },
  {
   "cell_type": "code",
   "execution_count": 28,
   "id": "71903892",
   "metadata": {},
   "outputs": [
    {
     "data": {
      "text/plain": [
       "True"
      ]
     },
     "execution_count": 28,
     "metadata": {},
     "output_type": "execute_result"
    }
   ],
   "source": [
    "a>b\n",
    "# If a string is lexicographically larger than second string"
   ]
  },
  {
   "cell_type": "code",
   "execution_count": 31,
   "id": "e8a56960",
   "metadata": {},
   "outputs": [
    {
     "data": {
      "text/plain": [
       "False"
      ]
     },
     "execution_count": 31,
     "metadata": {},
     "output_type": "execute_result"
    }
   ],
   "source": [
    "a<b"
   ]
  },
  {
   "cell_type": "code",
   "execution_count": 30,
   "id": "7339451a",
   "metadata": {},
   "outputs": [
    {
     "data": {
      "text/plain": [
       "True"
      ]
     },
     "execution_count": 30,
     "metadata": {},
     "output_type": "execute_result"
    }
   ],
   "source": [
    "a>=b"
   ]
  },
  {
   "cell_type": "code",
   "execution_count": 29,
   "id": "feb10095",
   "metadata": {},
   "outputs": [
    {
     "data": {
      "text/plain": [
       "False"
      ]
     },
     "execution_count": 29,
     "metadata": {},
     "output_type": "execute_result"
    }
   ],
   "source": [
    "a<=b"
   ]
  },
  {
   "cell_type": "markdown",
   "id": "cc77bb9f",
   "metadata": {},
   "source": [
    "## Split"
   ]
  },
  {
   "cell_type": "code",
   "execution_count": 35,
   "id": "35faa446",
   "metadata": {},
   "outputs": [
    {
     "data": {
      "text/plain": [
       "['this', 'is', 'a', 'str']"
      ]
     },
     "execution_count": 35,
     "metadata": {},
     "output_type": "execute_result"
    }
   ],
   "source": [
    "a = \"this is a str\"\n",
    "a.split()\n",
    "# Split have default delimeter is a white space . Split returns a list"
   ]
  },
  {
   "cell_type": "code",
   "execution_count": 33,
   "id": "e5f87919",
   "metadata": {},
   "outputs": [
    {
     "data": {
      "text/plain": [
       "['this is a str']"
      ]
     },
     "execution_count": 33,
     "metadata": {},
     "output_type": "execute_result"
    }
   ],
   "source": [
    "a.split(\",\")"
   ]
  },
  {
   "cell_type": "code",
   "execution_count": 34,
   "id": "db70c946",
   "metadata": {},
   "outputs": [
    {
     "data": {
      "text/plain": [
       "['th', ' ', ' a str']"
      ]
     },
     "execution_count": 34,
     "metadata": {},
     "output_type": "execute_result"
    }
   ],
   "source": [
    "a.split(\"is\")"
   ]
  },
  {
   "cell_type": "markdown",
   "id": "f4b40939",
   "metadata": {},
   "source": [
    "## Replace"
   ]
  },
  {
   "cell_type": "code",
   "execution_count": 37,
   "id": "aadaf29f",
   "metadata": {},
   "outputs": [
    {
     "data": {
      "text/plain": [
       "'thare are a str'"
      ]
     },
     "execution_count": 37,
     "metadata": {},
     "output_type": "execute_result"
    }
   ],
   "source": [
    "a.replace(\"is\" , \"are\") \n",
    "# It will not change string it will create a new string"
   ]
  },
  {
   "cell_type": "markdown",
   "id": "64219c49",
   "metadata": {},
   "source": [
    "## Find"
   ]
  },
  {
   "cell_type": "code",
   "execution_count": 38,
   "id": "a16feadc",
   "metadata": {},
   "outputs": [
    {
     "data": {
      "text/plain": [
       "2"
      ]
     },
     "execution_count": 38,
     "metadata": {},
     "output_type": "execute_result"
    }
   ],
   "source": [
    "a.find(\"is\")"
   ]
  },
  {
   "cell_type": "code",
   "execution_count": 39,
   "id": "6741b37c",
   "metadata": {},
   "outputs": [
    {
     "data": {
      "text/plain": [
       "-1"
      ]
     },
     "execution_count": 39,
     "metadata": {},
     "output_type": "execute_result"
    }
   ],
   "source": [
    "a.find(\"isff\")"
   ]
  },
  {
   "cell_type": "markdown",
   "id": "fccb0eee",
   "metadata": {},
   "source": [
    "## Upper"
   ]
  },
  {
   "cell_type": "code",
   "execution_count": 40,
   "id": "4a86232c",
   "metadata": {},
   "outputs": [
    {
     "data": {
      "text/plain": [
       "'THIS IS A STR'"
      ]
     },
     "execution_count": 40,
     "metadata": {},
     "output_type": "execute_result"
    }
   ],
   "source": [
    "a.upper()"
   ]
  },
  {
   "cell_type": "markdown",
   "id": "ff7d4e9b",
   "metadata": {},
   "source": [
    "## Lower"
   ]
  },
  {
   "cell_type": "code",
   "execution_count": 41,
   "id": "44821a88",
   "metadata": {},
   "outputs": [
    {
     "data": {
      "text/plain": [
       "'this is a str'"
      ]
     },
     "execution_count": 41,
     "metadata": {},
     "output_type": "execute_result"
    }
   ],
   "source": [
    "a.lower()"
   ]
  },
  {
   "cell_type": "markdown",
   "id": "e953bfd0",
   "metadata": {},
   "source": [
    "## isupper"
   ]
  },
  {
   "cell_type": "code",
   "execution_count": 43,
   "id": "8a078fc2",
   "metadata": {},
   "outputs": [
    {
     "data": {
      "text/plain": [
       "False"
      ]
     },
     "execution_count": 43,
     "metadata": {},
     "output_type": "execute_result"
    }
   ],
   "source": [
    "a.isupper()"
   ]
  },
  {
   "cell_type": "markdown",
   "id": "326204c8",
   "metadata": {},
   "source": [
    "## islower"
   ]
  },
  {
   "cell_type": "code",
   "execution_count": 44,
   "id": "efcd1d93",
   "metadata": {},
   "outputs": [
    {
     "data": {
      "text/plain": [
       "True"
      ]
     },
     "execution_count": 44,
     "metadata": {},
     "output_type": "execute_result"
    }
   ],
   "source": [
    "a.islower()"
   ]
  },
  {
   "cell_type": "markdown",
   "id": "fc00feee",
   "metadata": {},
   "source": [
    "## isalpha"
   ]
  },
  {
   "cell_type": "code",
   "execution_count": 47,
   "id": "91b61d66",
   "metadata": {},
   "outputs": [
    {
     "data": {
      "text/plain": [
       "False"
      ]
     },
     "execution_count": 47,
     "metadata": {},
     "output_type": "execute_result"
    }
   ],
   "source": [
    "a.isalpha()\n",
    "# Does contains only alphabets false becuase it contains white spaces"
   ]
  },
  {
   "cell_type": "markdown",
   "id": "e6180abb",
   "metadata": {},
   "source": [
    "## startswith"
   ]
  },
  {
   "cell_type": "code",
   "execution_count": 48,
   "id": "6e9d3c88",
   "metadata": {},
   "outputs": [
    {
     "data": {
      "text/plain": [
       "False"
      ]
     },
     "execution_count": 48,
     "metadata": {},
     "output_type": "execute_result"
    }
   ],
   "source": [
    "a.startswith(\"str\")"
   ]
  },
  {
   "cell_type": "code",
   "execution_count": 49,
   "id": "86337411",
   "metadata": {},
   "outputs": [
    {
     "data": {
      "text/plain": [
       "True"
      ]
     },
     "execution_count": 49,
     "metadata": {},
     "output_type": "execute_result"
    }
   ],
   "source": [
    "a.endswith(\"str\")"
   ]
  },
  {
   "cell_type": "markdown",
   "id": "bce95012",
   "metadata": {},
   "source": [
    "## Substring"
   ]
  },
  {
   "cell_type": "markdown",
   "id": "6fb7906f",
   "metadata": {},
   "source": [
    "## Slicing"
   ]
  },
  {
   "cell_type": "code",
   "execution_count": 53,
   "id": "4aa4b31f",
   "metadata": {},
   "outputs": [],
   "source": [
    "a = \"This is slicing\""
   ]
  },
  {
   "cell_type": "raw",
   "id": "5bf81b56",
   "metadata": {},
   "source": [
    "a[si] -> Only first index\n",
    "a[si:ei] -> from first index to end index-1\n",
    "a[si] -> Only first index"
   ]
  },
  {
   "cell_type": "code",
   "execution_count": 54,
   "id": "0cdae919",
   "metadata": {},
   "outputs": [
    {
     "data": {
      "text/plain": [
       "'i'"
      ]
     },
     "execution_count": 54,
     "metadata": {},
     "output_type": "execute_result"
    }
   ],
   "source": [
    "a[2]"
   ]
  },
  {
   "cell_type": "code",
   "execution_count": 55,
   "id": "01e413fa",
   "metadata": {},
   "outputs": [
    {
     "data": {
      "text/plain": [
       "'is '"
      ]
     },
     "execution_count": 55,
     "metadata": {},
     "output_type": "execute_result"
    }
   ],
   "source": [
    "a[2:5]"
   ]
  },
  {
   "cell_type": "code",
   "execution_count": 56,
   "id": "feba7a4a",
   "metadata": {},
   "outputs": [
    {
     "data": {
      "text/plain": [
       "'is sl'"
      ]
     },
     "execution_count": 56,
     "metadata": {},
     "output_type": "execute_result"
    }
   ],
   "source": [
    "a[5:10]"
   ]
  },
  {
   "cell_type": "code",
   "execution_count": 57,
   "id": "2eb25ef6",
   "metadata": {},
   "outputs": [
    {
     "data": {
      "text/plain": [
       "'is slicing'"
      ]
     },
     "execution_count": 57,
     "metadata": {},
     "output_type": "execute_result"
    }
   ],
   "source": [
    "a[5:]\n",
    "# End index will be end of string"
   ]
  },
  {
   "cell_type": "code",
   "execution_count": null,
   "id": "8a04832d",
   "metadata": {},
   "outputs": [],
   "source": [
    "a[:4]\n",
    "# start index will be start to index"
   ]
  },
  {
   "cell_type": "code",
   "execution_count": null,
   "id": "4d9f16fd",
   "metadata": {},
   "outputs": [],
   "source": [
    "a[:]\n",
    "# whole string"
   ]
  },
  {
   "cell_type": "raw",
   "id": "cb1aee48",
   "metadata": {},
   "source": [
    "a[start:end:skip]"
   ]
  },
  {
   "cell_type": "code",
   "execution_count": 58,
   "id": "3e620afc",
   "metadata": {},
   "outputs": [
    {
     "data": {
      "text/plain": [
       "'i ss'"
      ]
     },
     "execution_count": 58,
     "metadata": {},
     "output_type": "execute_result"
    }
   ],
   "source": [
    "a[2:10:2]"
   ]
  },
  {
   "cell_type": "code",
   "execution_count": 59,
   "id": "b88f7c00",
   "metadata": {},
   "outputs": [
    {
     "data": {
      "text/plain": [
       "''"
      ]
     },
     "execution_count": 59,
     "metadata": {},
     "output_type": "execute_result"
    }
   ],
   "source": [
    "a[2:10:-1]"
   ]
  },
  {
   "cell_type": "code",
   "execution_count": 62,
   "id": "216c611c",
   "metadata": {},
   "outputs": [
    {
     "data": {
      "text/plain": [
       "'ils si s'"
      ]
     },
     "execution_count": 62,
     "metadata": {},
     "output_type": "execute_result"
    }
   ],
   "source": [
    "a[10:2:-1]\n",
    "# It will go till 3(end-1 | end+1)"
   ]
  },
  {
   "cell_type": "markdown",
   "id": "8053818d",
   "metadata": {},
   "source": [
    "## Replace x with y"
   ]
  },
  {
   "cell_type": "code",
   "execution_count": 64,
   "id": "8dca5e7c",
   "metadata": {},
   "outputs": [
    {
     "name": "stdout",
     "output_type": "stream",
     "text": [
      "asdxsdasdy\n"
     ]
    },
    {
     "data": {
      "text/plain": [
       "'asdysdasdy'"
      ]
     },
     "execution_count": 64,
     "metadata": {},
     "output_type": "execute_result"
    }
   ],
   "source": [
    "# Replace First occurance \n",
    "s = input()\n",
    "a = 'x'\n",
    "b = 'y'\n",
    "p = s.find(a)\n",
    "if p != -1:\n",
    "    ans = s[:p] + b + s[p+1:]\n",
    "ans"
   ]
  },
  {
   "cell_type": "code",
   "execution_count": null,
   "id": "3a1f0117",
   "metadata": {},
   "outputs": [],
   "source": [
    "# Replace All occurance "
   ]
  },
  {
   "cell_type": "code",
   "execution_count": 67,
   "id": "6222d018",
   "metadata": {},
   "outputs": [
    {
     "name": "stdout",
     "output_type": "stream",
     "text": [
      "xasx\n"
     ]
    },
    {
     "data": {
      "text/plain": [
       "'yasy'"
      ]
     },
     "execution_count": 67,
     "metadata": {},
     "output_type": "execute_result"
    }
   ],
   "source": [
    "s = input()\n",
    "a = 'x'\n",
    "b = 'y'\n",
    "ans = s\n",
    "while s.find(a) != -1:    \n",
    "    p = s.find(a)\n",
    "    if p != -1:\n",
    "        ans = s[:p] + b + s[p+1:]\n",
    "    s = ans\n",
    "s\n"
   ]
  },
  {
   "cell_type": "code",
   "execution_count": 1,
   "id": "c83fb1e6",
   "metadata": {},
   "outputs": [],
   "source": [
    "# 'python' is same as \"python\" \n",
    "# Be carefull and do not mix 'python\" and \"python'"
   ]
  },
  {
   "cell_type": "code",
   "execution_count": 3,
   "id": "83e19195",
   "metadata": {},
   "outputs": [
    {
     "name": "stdout",
     "output_type": "stream",
     "text": [
      "python is best language for data science and in this course we are going to learn python\n"
     ]
    }
   ],
   "source": [
    "s = \"python is best language for data science\"\n",
    "t = 'in this course we are going to learn python'\n",
    "print(s + ' and ' + t)"
   ]
  },
  {
   "cell_type": "code",
   "execution_count": null,
   "id": "4bb81c57",
   "metadata": {},
   "outputs": [],
   "source": [
    "# + is used to concatinate strings"
   ]
  },
  {
   "cell_type": "code",
   "execution_count": 4,
   "id": "7a9c24a2",
   "metadata": {},
   "outputs": [
    {
     "data": {
      "text/plain": [
       "str"
      ]
     },
     "execution_count": 4,
     "metadata": {},
     "output_type": "execute_result"
    }
   ],
   "source": [
    "s = \"Python is a good language\"\n",
    "t = 'Its good for data science'\n",
    "type(s)"
   ]
  },
  {
   "cell_type": "code",
   "execution_count": 7,
   "id": "9d60bbbe",
   "metadata": {},
   "outputs": [],
   "source": [
    "# print(s , 12 , \"Hello\")\n",
    "# print is a multi variable argument function"
   ]
  },
  {
   "cell_type": "code",
   "execution_count": 11,
   "id": "e3340679",
   "metadata": {},
   "outputs": [
    {
     "name": "stdout",
     "output_type": "stream",
     "text": [
      "Python is a good language . Its good for data science\n"
     ]
    }
   ],
   "source": [
    "# Concate\n",
    "v = s + ' . ' + t\n",
    "print(v)"
   ]
  },
  {
   "cell_type": "code",
   "execution_count": 18,
   "id": "562d9b39",
   "metadata": {},
   "outputs": [
    {
     "name": "stdout",
     "output_type": "stream",
     "text": [
      "The price of this book 12\n"
     ]
    }
   ],
   "source": [
    "price = 12\n",
    "sentence = \"The price of this book\"\n",
    "# result = sentence + \" is \" + price\n",
    "# It will give an error becuase we can not just add string and integer\n",
    "# Way to concate string and integer\n",
    "# 1.) Change integer to string\n",
    "result = sentence + \" is \" + str(price)\n",
    "result\n",
    "# 2.) Way 2\n",
    "print(sentence , price)\n",
    "# print is a multiargument function . It makes sure the space between the \n",
    "# arguments"
   ]
  },
  {
   "cell_type": "code",
   "execution_count": 19,
   "id": "4fd84476",
   "metadata": {},
   "outputs": [
    {
     "name": "stdout",
     "output_type": "stream",
     "text": [
      "\n",
      "    This is the first line of string,\n",
      "    and here is the second line,\n",
      "    and here is the third and final line.\n",
      "\n"
     ]
    }
   ],
   "source": [
    "# Multiline String\n",
    "multiline = \"\"\"\n",
    "    This is the first line of string,\n",
    "    and here is the second line,\n",
    "    and here is the third and final line.\n",
    "\"\"\"\n",
    "print(multiline)"
   ]
  },
  {
   "cell_type": "markdown",
   "id": "caa7e93b",
   "metadata": {},
   "source": [
    "## Space is a character in python"
   ]
  },
  {
   "cell_type": "code",
   "execution_count": 20,
   "id": "8ba04ab8",
   "metadata": {},
   "outputs": [
    {
     "name": "stdout",
     "output_type": "stream",
     "text": [
      "The following options are avaliable:\n",
      "    -a : does nothing\n",
      "    -b : also does nothing\n",
      "\n"
     ]
    }
   ],
   "source": [
    "print(\"\"\"The following options are avaliable:\n",
    "    -a : does nothing\n",
    "    -b : also does nothing\n",
    "\"\"\")"
   ]
  },
  {
   "cell_type": "markdown",
   "id": "65ee363c",
   "metadata": {},
   "source": [
    "## String Accessing"
   ]
  },
  {
   "cell_type": "markdown",
   "id": "6ea60280",
   "metadata": {},
   "source": [
    "## Indexing"
   ]
  },
  {
   "cell_type": "code",
   "execution_count": 23,
   "id": "d5d466fd",
   "metadata": {},
   "outputs": [],
   "source": [
    "a = \"Game of Programming\""
   ]
  },
  {
   "cell_type": "code",
   "execution_count": 21,
   "id": "387750fb",
   "metadata": {},
   "outputs": [],
   "source": [
    "# Indexing starts from integer 0\n",
    "# When a space is printed then nothing will happen\n",
    "# Indexing used with the help of [] square brackets"
   ]
  },
  {
   "cell_type": "markdown",
   "id": "bb48fd1a",
   "metadata": {},
   "source": [
    "## Substring | Slicing"
   ]
  },
  {
   "cell_type": "code",
   "execution_count": 25,
   "id": "f47ddd7e",
   "metadata": {},
   "outputs": [
    {
     "data": {
      "text/plain": [
       "'e of '"
      ]
     },
     "execution_count": 25,
     "metadata": {},
     "output_type": "execute_result"
    }
   ],
   "source": [
    "a[3:8] # a[Included:Excluded]"
   ]
  },
  {
   "cell_type": "code",
   "execution_count": 26,
   "id": "25bcfc95",
   "metadata": {},
   "outputs": [
    {
     "name": "stdout",
     "output_type": "stream",
     "text": [
      "r\n"
     ]
    }
   ],
   "source": [
    "s = \"How are you and who are you\"\n",
    "print(s[5])"
   ]
  },
  {
   "cell_type": "code",
   "execution_count": 27,
   "id": "0bb096c5",
   "metadata": {},
   "outputs": [
    {
     "data": {
      "text/plain": [
       "str"
      ]
     },
     "execution_count": 27,
     "metadata": {},
     "output_type": "execute_result"
    }
   ],
   "source": [
    "type(s[5])"
   ]
  },
  {
   "cell_type": "code",
   "execution_count": null,
   "id": "05810f93",
   "metadata": {},
   "outputs": [],
   "source": [
    "## There is no rule of character in python"
   ]
  },
  {
   "cell_type": "code",
   "execution_count": 29,
   "id": "2e4d56f6",
   "metadata": {},
   "outputs": [
    {
     "data": {
      "text/plain": [
       "' are y'"
      ]
     },
     "execution_count": 29,
     "metadata": {},
     "output_type": "execute_result"
    }
   ],
   "source": [
    "s[3:9]"
   ]
  },
  {
   "cell_type": "code",
   "execution_count": 30,
   "id": "a606b72d",
   "metadata": {},
   "outputs": [
    {
     "data": {
      "text/plain": [
       "'How are yo'"
      ]
     },
     "execution_count": 30,
     "metadata": {},
     "output_type": "execute_result"
    }
   ],
   "source": [
    "s[0:10]"
   ]
  },
  {
   "cell_type": "markdown",
   "id": "b217b798",
   "metadata": {},
   "source": [
    "# We can use negative index which is indexing from right side"
   ]
  },
  {
   "cell_type": "code",
   "execution_count": 31,
   "id": "3b5d05b5",
   "metadata": {},
   "outputs": [
    {
     "data": {
      "text/plain": [
       "'u'"
      ]
     },
     "execution_count": 31,
     "metadata": {},
     "output_type": "execute_result"
    }
   ],
   "source": [
    "s[-1]"
   ]
  },
  {
   "cell_type": "code",
   "execution_count": 32,
   "id": "6a01d8ba",
   "metadata": {},
   "outputs": [
    {
     "data": {
      "text/plain": [
       "'y'"
      ]
     },
     "execution_count": 32,
     "metadata": {},
     "output_type": "execute_result"
    }
   ],
   "source": [
    "s[-3]"
   ]
  },
  {
   "cell_type": "code",
   "execution_count": 33,
   "id": "e2d3149c",
   "metadata": {},
   "outputs": [
    {
     "data": {
      "text/plain": [
       "' are '"
      ]
     },
     "execution_count": 33,
     "metadata": {},
     "output_type": "execute_result"
    }
   ],
   "source": [
    "s[-8:-3]"
   ]
  },
  {
   "cell_type": "code",
   "execution_count": 34,
   "id": "b9ac8d8e",
   "metadata": {},
   "outputs": [
    {
     "data": {
      "text/plain": [
       "' who are '"
      ]
     },
     "execution_count": 34,
     "metadata": {},
     "output_type": "execute_result"
    }
   ],
   "source": [
    "s[-12:-3]"
   ]
  },
  {
   "cell_type": "markdown",
   "id": "a3868fe0",
   "metadata": {},
   "source": [
    "## Strings are Immutable"
   ]
  },
  {
   "cell_type": "markdown",
   "id": "7a55f351",
   "metadata": {},
   "source": [
    "## We can not change the elements in the string after creating of string . We can reassign but can not change"
   ]
  },
  {
   "cell_type": "code",
   "execution_count": 37,
   "id": "17b70a90",
   "metadata": {},
   "outputs": [
    {
     "ename": "TypeError",
     "evalue": "'str' object does not support item assignment",
     "output_type": "error",
     "traceback": [
      "\u001b[1;31m---------------------------------------------------------------------------\u001b[0m",
      "\u001b[1;31mTypeError\u001b[0m                                 Traceback (most recent call last)",
      "Cell \u001b[1;32mIn[37], line 1\u001b[0m\n\u001b[1;32m----> 1\u001b[0m s[\u001b[38;5;241m1\u001b[39m] \u001b[38;5;241m=\u001b[39m \u001b[38;5;124m'\u001b[39m\u001b[38;5;124mf\u001b[39m\u001b[38;5;124m'\u001b[39m\n",
      "\u001b[1;31mTypeError\u001b[0m: 'str' object does not support item assignment"
     ]
    }
   ],
   "source": [
    "s[1] = 'f'\n",
    "# It will give an error"
   ]
  },
  {
   "cell_type": "code",
   "execution_count": 39,
   "id": "1408a9df",
   "metadata": {},
   "outputs": [],
   "source": [
    "# Slicing it use to fetch sub structure"
   ]
  },
  {
   "cell_type": "code",
   "execution_count": 42,
   "id": "85cc855f",
   "metadata": {},
   "outputs": [
    {
     "data": {
      "text/plain": [
       "'Hwaeyu'"
      ]
     },
     "execution_count": 42,
     "metadata": {},
     "output_type": "execute_result"
    }
   ],
   "source": [
    "s[0:12:2]\n",
    "# s[start : end : step]\n",
    "# Default\n",
    "# end = string of size\n",
    "# start = 0\n",
    "# step = 1"
   ]
  },
  {
   "cell_type": "code",
   "execution_count": 43,
   "id": "ac0ce465",
   "metadata": {},
   "outputs": [
    {
     "data": {
      "text/plain": [
       "'How are you '"
      ]
     },
     "execution_count": 43,
     "metadata": {},
     "output_type": "execute_result"
    }
   ],
   "source": [
    "s[:12]"
   ]
  },
  {
   "cell_type": "code",
   "execution_count": 44,
   "id": "a8b9ed11",
   "metadata": {},
   "outputs": [
    {
     "data": {
      "text/plain": [
       "'How are you and'"
      ]
     },
     "execution_count": 44,
     "metadata": {},
     "output_type": "execute_result"
    }
   ],
   "source": [
    "s[:15]"
   ]
  },
  {
   "cell_type": "code",
   "execution_count": 45,
   "id": "2e2de224",
   "metadata": {},
   "outputs": [
    {
     "data": {
      "text/plain": [
       "'How are you and who are you'"
      ]
     },
     "execution_count": 45,
     "metadata": {},
     "output_type": "execute_result"
    }
   ],
   "source": [
    "s[:]"
   ]
  },
  {
   "cell_type": "code",
   "execution_count": 46,
   "id": "c9070eb0",
   "metadata": {},
   "outputs": [
    {
     "data": {
      "text/plain": [
       "'How are you and who are you'"
      ]
     },
     "execution_count": 46,
     "metadata": {},
     "output_type": "execute_result"
    }
   ],
   "source": [
    "s[::1]"
   ]
  },
  {
   "cell_type": "markdown",
   "id": "bf1d0a15",
   "metadata": {},
   "source": [
    "## Reversing the string"
   ]
  },
  {
   "cell_type": "code",
   "execution_count": 47,
   "id": "d37482f5",
   "metadata": {},
   "outputs": [
    {
     "data": {
      "text/plain": [
       "'uoy era ohw dna uoy era woH'"
      ]
     },
     "execution_count": 47,
     "metadata": {},
     "output_type": "execute_result"
    }
   ],
   "source": [
    "s[::-1]"
   ]
  },
  {
   "cell_type": "markdown",
   "id": "6eeef601",
   "metadata": {},
   "source": [
    "## Length"
   ]
  },
  {
   "cell_type": "code",
   "execution_count": 2,
   "id": "934f38ec",
   "metadata": {},
   "outputs": [],
   "source": [
    "a = \"    A lot Of Spaces at The    beGinning and end   \"\n",
    "\n",
    "# We can say them as methods or functions\n",
    "# Different between method and function\n",
    "# 1.) Method is associated with an objecct but function not and we call\n",
    "# method using a.strip() not strip(a)"
   ]
  },
  {
   "cell_type": "code",
   "execution_count": 5,
   "id": "ce683d08",
   "metadata": {},
   "outputs": [],
   "source": [
    "# Strip Removes all the spaces from front and end and new string will be \n",
    "# created becuase string are immutable so we can not change the same \n",
    "# string . Strip will not remove from middle between the string"
   ]
  },
  {
   "cell_type": "code",
   "execution_count": 6,
   "id": "58c62356",
   "metadata": {},
   "outputs": [
    {
     "data": {
      "text/plain": [
       "'A lot Of Spaces at The    beGinning and end'"
      ]
     },
     "execution_count": 6,
     "metadata": {},
     "output_type": "execute_result"
    }
   ],
   "source": [
    "b = a.strip()\n",
    "b"
   ]
  },
  {
   "cell_type": "markdown",
   "id": "a005ee71",
   "metadata": {},
   "source": [
    "## Lower "
   ]
  },
  {
   "cell_type": "code",
   "execution_count": 7,
   "id": "3be638bb",
   "metadata": {},
   "outputs": [
    {
     "name": "stdout",
     "output_type": "stream",
     "text": [
      "    a lot of spaces at the    beginning and end   \n"
     ]
    }
   ],
   "source": [
    "print(a.lower())"
   ]
  },
  {
   "cell_type": "markdown",
   "id": "be84bf4a",
   "metadata": {},
   "source": [
    "## Upper"
   ]
  },
  {
   "cell_type": "code",
   "execution_count": 8,
   "id": "aaa49e95",
   "metadata": {},
   "outputs": [
    {
     "name": "stdout",
     "output_type": "stream",
     "text": [
      "A LOT OF SPACES AT THE    BEGINNING AND END\n"
     ]
    }
   ],
   "source": [
    "print(b.upper())"
   ]
  },
  {
   "cell_type": "code",
   "execution_count": 10,
   "id": "07113e94",
   "metadata": {},
   "outputs": [
    {
     "data": {
      "text/plain": [
       "'    a lot of spaces at the    beginning and end   '"
      ]
     },
     "execution_count": 10,
     "metadata": {},
     "output_type": "execute_result"
    }
   ],
   "source": [
    "c = a.lower()\n",
    "c"
   ]
  },
  {
   "cell_type": "code",
   "execution_count": null,
   "id": "3fae9812",
   "metadata": {},
   "outputs": [],
   "source": [
    "# Character which we can not change to upper or lower those will not \n",
    "# change"
   ]
  },
  {
   "cell_type": "markdown",
   "id": "ab595c6a",
   "metadata": {},
   "source": [
    "## Replace"
   ]
  },
  {
   "cell_type": "code",
   "execution_count": 12,
   "id": "9d98c02b",
   "metadata": {},
   "outputs": [
    {
     "data": {
      "text/plain": [
       "'    A lot Of Spaces at The    aeGinning and end   '"
      ]
     },
     "execution_count": 12,
     "metadata": {},
     "output_type": "execute_result"
    }
   ],
   "source": [
    "d = a.replace('b' , 'a')\n",
    "d"
   ]
  },
  {
   "cell_type": "markdown",
   "id": "0615f24d",
   "metadata": {},
   "source": [
    "## split"
   ]
  },
  {
   "cell_type": "code",
   "execution_count": 14,
   "id": "d5879a63",
   "metadata": {},
   "outputs": [
    {
     "data": {
      "text/plain": [
       "['abc', 'def', 'hgydfa', 'yy23']"
      ]
     },
     "execution_count": 14,
     "metadata": {},
     "output_type": "execute_result"
    }
   ],
   "source": [
    "a = \"abc;def;hgydfa;yy23\"\n",
    "L = a.split(';')\n",
    "L\n",
    "a."
   ]
  },
  {
   "cell_type": "markdown",
   "id": "79f00bf0",
   "metadata": {},
   "source": [
    "## Details "
   ]
  },
  {
   "cell_type": "code",
   "execution_count": 16,
   "id": "74b9c35d",
   "metadata": {},
   "outputs": [],
   "source": [
    "a.count?"
   ]
  },
  {
   "cell_type": "markdown",
   "id": "3ccab422",
   "metadata": {},
   "source": [
    "## Help"
   ]
  },
  {
   "cell_type": "code",
   "execution_count": null,
   "id": "957b1ffc",
   "metadata": {},
   "outputs": [],
   "source": [
    "help(a.count)"
   ]
  },
  {
   "cell_type": "markdown",
   "id": "84d25dc1",
   "metadata": {},
   "source": [
    "## In with string"
   ]
  },
  {
   "cell_type": "code",
   "execution_count": 18,
   "id": "4a99d96d",
   "metadata": {},
   "outputs": [
    {
     "name": "stdout",
     "output_type": "stream",
     "text": [
      "True\n"
     ]
    }
   ],
   "source": [
    "print(\"at\" in \"asdsatasda\")"
   ]
  },
  {
   "cell_type": "code",
   "execution_count": 19,
   "id": "4b1e4566",
   "metadata": {},
   "outputs": [
    {
     "name": "stdout",
     "output_type": "stream",
     "text": [
      "False\n"
     ]
    }
   ],
   "source": [
    "print(\"at\" in \"asdasfeascage\")"
   ]
  },
  {
   "cell_type": "markdown",
   "id": "cbd6ff86",
   "metadata": {},
   "source": [
    "## Compare"
   ]
  },
  {
   "cell_type": "code",
   "execution_count": 20,
   "id": "7120b30a",
   "metadata": {},
   "outputs": [
    {
     "data": {
      "text/plain": [
       "True"
      ]
     },
     "execution_count": 20,
     "metadata": {},
     "output_type": "execute_result"
    }
   ],
   "source": [
    "\"abc\" == \"abc\""
   ]
  },
  {
   "cell_type": "code",
   "execution_count": 23,
   "id": "1fcdc7d1",
   "metadata": {},
   "outputs": [
    {
     "data": {
      "text/plain": [
       "True"
      ]
     },
     "execution_count": 23,
     "metadata": {},
     "output_type": "execute_result"
    }
   ],
   "source": [
    "\"abc\" < \"def\"\n",
    "\n",
    "# It is working on alphabetic order lexographically order"
   ]
  },
  {
   "cell_type": "code",
   "execution_count": 26,
   "id": "0ea19a0a",
   "metadata": {},
   "outputs": [
    {
     "data": {
      "text/plain": [
       "False"
      ]
     },
     "execution_count": 26,
     "metadata": {},
     "output_type": "execute_result"
    }
   ],
   "source": [
    "\"abc\" > \"def\""
   ]
  },
  {
   "cell_type": "code",
   "execution_count": 25,
   "id": "61a5603d",
   "metadata": {},
   "outputs": [
    {
     "data": {
      "text/plain": [
       "True"
      ]
     },
     "execution_count": 25,
     "metadata": {},
     "output_type": "execute_result"
    }
   ],
   "source": [
    "\"abc\" <= \"def\""
   ]
  },
  {
   "cell_type": "code",
   "execution_count": 24,
   "id": "dbe7d5e5",
   "metadata": {},
   "outputs": [
    {
     "data": {
      "text/plain": [
       "False"
      ]
     },
     "execution_count": 24,
     "metadata": {},
     "output_type": "execute_result"
    }
   ],
   "source": [
    "\"abc\" >= \"def\""
   ]
  },
  {
   "cell_type": "code",
   "execution_count": 27,
   "id": "e573a98b",
   "metadata": {},
   "outputs": [
    {
     "data": {
      "text/plain": [
       "True"
      ]
     },
     "execution_count": 27,
     "metadata": {},
     "output_type": "execute_result"
    }
   ],
   "source": [
    "\"abc\" != \"def\""
   ]
  },
  {
   "cell_type": "markdown",
   "id": "b947d6e7",
   "metadata": {},
   "source": [
    "# Escape Characters"
   ]
  },
  {
   "cell_type": "code",
   "execution_count": 29,
   "id": "42447592",
   "metadata": {},
   "outputs": [
    {
     "name": "stdout",
     "output_type": "stream",
     "text": [
      "We are learning \"strings\" here\n"
     ]
    }
   ],
   "source": [
    "print(\"We are learning \\\"strings\\\" here\")"
   ]
  },
  {
   "cell_type": "code",
   "execution_count": null,
   "id": "78dcc3ed",
   "metadata": {},
   "outputs": [],
   "source": [
    "print(\"We are learning 'strings' here\")"
   ]
  },
  {
   "cell_type": "code",
   "execution_count": null,
   "id": "0befd043",
   "metadata": {},
   "outputs": [],
   "source": [
    "\\n"
   ]
  },
  {
   "cell_type": "code",
   "execution_count": 30,
   "id": "d11b147f",
   "metadata": {},
   "outputs": [
    {
     "name": "stdout",
     "output_type": "stream",
     "text": [
      "We are learning \n",
      " 'strings' here\n"
     ]
    }
   ],
   "source": [
    "print(\"We are learning \\n 'strings' here\")"
   ]
  },
  {
   "cell_type": "code",
   "execution_count": 31,
   "id": "b13fe86f",
   "metadata": {},
   "outputs": [
    {
     "name": "stdout",
     "output_type": "stream",
     "text": [
      "We are learning \t 'strings' here\n"
     ]
    }
   ],
   "source": [
    "print(\"We are learning \\t 'strings' here\") "
   ]
  },
  {
   "cell_type": "markdown",
   "id": "3ae15669",
   "metadata": {},
   "source": [
    "## Print Address"
   ]
  },
  {
   "cell_type": "code",
   "execution_count": 35,
   "id": "9c16acbf",
   "metadata": {},
   "outputs": [
    {
     "name": "stdout",
     "output_type": "stream",
     "text": [
      "c:\\name\\drive\n",
      "c:\\\\name\\drive\n"
     ]
    }
   ],
   "source": [
    "print(\"c:\\\\name\\drive\")\n",
    "print(r\"c:\\\\name\\drive\") # - Row strings "
   ]
  },
  {
   "cell_type": "code",
   "execution_count": null,
   "id": "bb8dd50e",
   "metadata": {},
   "outputs": [],
   "source": []
  },
  {
   "cell_type": "code",
   "execution_count": null,
   "id": "bb3134e3",
   "metadata": {},
   "outputs": [],
   "source": []
  },
  {
   "cell_type": "code",
   "execution_count": null,
   "id": "980479d7",
   "metadata": {},
   "outputs": [],
   "source": []
  },
  {
   "cell_type": "code",
   "execution_count": null,
   "id": "bd615c77",
   "metadata": {},
   "outputs": [],
   "source": []
  },
  {
   "cell_type": "code",
   "execution_count": null,
   "id": "f06184dd",
   "metadata": {},
   "outputs": [],
   "source": []
  },
  {
   "cell_type": "code",
   "execution_count": null,
   "id": "6557dc93",
   "metadata": {},
   "outputs": [],
   "source": []
  },
  {
   "cell_type": "code",
   "execution_count": null,
   "id": "9ab2c345",
   "metadata": {},
   "outputs": [],
   "source": []
  },
  {
   "cell_type": "code",
   "execution_count": null,
   "id": "9a8ca66b",
   "metadata": {},
   "outputs": [],
   "source": []
  }
 ],
 "metadata": {
  "kernelspec": {
   "display_name": "Python 3 (ipykernel)",
   "language": "python",
   "name": "python3"
  },
  "language_info": {
   "codemirror_mode": {
    "name": "ipython",
    "version": 3
   },
   "file_extension": ".py",
   "mimetype": "text/x-python",
   "name": "python",
   "nbconvert_exporter": "python",
   "pygments_lexer": "ipython3",
   "version": "3.11.5"
  }
 },
 "nbformat": 4,
 "nbformat_minor": 5
}
