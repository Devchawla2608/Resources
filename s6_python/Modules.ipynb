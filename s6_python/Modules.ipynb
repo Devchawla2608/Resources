{
 "cells": [
  {
   "cell_type": "markdown",
   "id": "5e75de12",
   "metadata": {},
   "source": [
    "## Module"
   ]
  },
  {
   "cell_type": "raw",
   "id": "271e0c97",
   "metadata": {},
   "source": [
    "Module - It is kind of python file which can contains python code and\n",
    "we can import that file/module in different files"
   ]
  },
  {
   "cell_type": "markdown",
   "id": "54e4b6ee",
   "metadata": {},
   "source": [
    "## Syntax"
   ]
  },
  {
   "cell_type": "raw",
   "id": "b4c7dddf",
   "metadata": {},
   "source": [
    "import sys\n",
    "sys.path.append('D:/mymodules/')\n",
    "import myfuncs as f\n",
    "f.printMe(\"Hello\")"
   ]
  },
  {
   "cell_type": "code",
   "execution_count": null,
   "id": "a8359ddb",
   "metadata": {},
   "outputs": [],
   "source": [
    "## We have to import sys and have to set path to search path"
   ]
  },
  {
   "cell_type": "code",
   "execution_count": 1,
   "id": "b24c75e2",
   "metadata": {},
   "outputs": [],
   "source": [
    "import sys\n",
    "sys.path.append('D:\\Data science\\Modules')"
   ]
  },
  {
   "cell_type": "code",
   "execution_count": 3,
   "id": "571e0e80",
   "metadata": {},
   "outputs": [],
   "source": [
    "import Module as module"
   ]
  },
  {
   "cell_type": "code",
   "execution_count": 5,
   "id": "5cc9cb8a",
   "metadata": {},
   "outputs": [],
   "source": [
    "# How to check Implementation of functions"
   ]
  },
  {
   "cell_type": "code",
   "execution_count": 4,
   "id": "2360cc5b",
   "metadata": {},
   "outputs": [],
   "source": [
    "module.checkIfNotNumeric??"
   ]
  },
  {
   "cell_type": "code",
   "execution_count": 9,
   "id": "b26ad6ba",
   "metadata": {},
   "outputs": [
    {
     "data": {
      "text/plain": [
       "14"
      ]
     },
     "execution_count": 9,
     "metadata": {},
     "output_type": "execute_result"
    }
   ],
   "source": [
    "l = [2,3,4,5]\n",
    "c = module.addAllNumerics(l)\n",
    "c"
   ]
  },
  {
   "cell_type": "code",
   "execution_count": null,
   "id": "092f78ce",
   "metadata": {},
   "outputs": [],
   "source": [
    "# If i want only some of the function"
   ]
  },
  {
   "cell_type": "code",
   "execution_count": 11,
   "id": "c05d175a",
   "metadata": {},
   "outputs": [],
   "source": [
    "from Module import addAllNumerics as  add"
   ]
  },
  {
   "cell_type": "code",
   "execution_count": 14,
   "id": "00d2e5c8",
   "metadata": {},
   "outputs": [
    {
     "data": {
      "text/plain": [
       "10"
      ]
     },
     "execution_count": 14,
     "metadata": {},
     "output_type": "execute_result"
    }
   ],
   "source": [
    "d = add([1,2,3,4])\n",
    "d"
   ]
  },
  {
   "cell_type": "raw",
   "id": "cc6acf7e",
   "metadata": {},
   "source": [
    "Package - Modules which are arranged in directory structure which \n",
    "generally in same way is know as package . We will se some packages\n",
    "numpy , matplotlib , pandas"
   ]
  },
  {
   "cell_type": "code",
   "execution_count": 15,
   "id": "5ed438a3",
   "metadata": {},
   "outputs": [
    {
     "data": {
      "text/plain": [
       "'Python Course'"
      ]
     },
     "execution_count": 15,
     "metadata": {},
     "output_type": "execute_result"
    }
   ],
   "source": [
    "module.myName"
   ]
  },
  {
   "cell_type": "markdown",
   "id": "fc0c4cf4",
   "metadata": {},
   "source": [
    "## Practice Functions"
   ]
  },
  {
   "cell_type": "code",
   "execution_count": null,
   "id": "9699d082",
   "metadata": {},
   "outputs": [],
   "source": []
  },
  {
   "cell_type": "code",
   "execution_count": null,
   "id": "1d302513",
   "metadata": {},
   "outputs": [],
   "source": []
  },
  {
   "cell_type": "code",
   "execution_count": null,
   "id": "5d669813",
   "metadata": {},
   "outputs": [],
   "source": []
  },
  {
   "cell_type": "code",
   "execution_count": null,
   "id": "b3d21cef",
   "metadata": {},
   "outputs": [],
   "source": []
  },
  {
   "cell_type": "code",
   "execution_count": null,
   "id": "77619ded",
   "metadata": {},
   "outputs": [],
   "source": []
  },
  {
   "cell_type": "code",
   "execution_count": null,
   "id": "7967f885",
   "metadata": {},
   "outputs": [],
   "source": []
  }
 ],
 "metadata": {
  "kernelspec": {
   "display_name": "Python 3 (ipykernel)",
   "language": "python",
   "name": "python3"
  },
  "language_info": {
   "codemirror_mode": {
    "name": "ipython",
    "version": 3
   },
   "file_extension": ".py",
   "mimetype": "text/x-python",
   "name": "python",
   "nbconvert_exporter": "python",
   "pygments_lexer": "ipython3",
   "version": "3.11.5"
  }
 },
 "nbformat": 4,
 "nbformat_minor": 5
}
