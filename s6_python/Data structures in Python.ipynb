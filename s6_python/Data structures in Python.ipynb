{
 "cells": [
  {
   "cell_type": "raw",
   "id": "4f1c717c",
   "metadata": {},
   "source": [
    "Data structures - Collection of data of hetrogeneous "
   ]
  },
  {
   "cell_type": "code",
   "execution_count": 3,
   "id": "bb9eeb74",
   "metadata": {},
   "outputs": [
    {
     "name": "stdout",
     "output_type": "stream",
     "text": [
      "List        : Ordered Changeable          Duplicates\n",
      "Tuple       : Ordered Unchangeable        Duplicates\n",
      "Set         : Unordered Addable/removable No Duplicates\n",
      "Dictinonary : Unordered changeable        No Duplicate\n",
      "    \n"
     ]
    }
   ],
   "source": [
    "print(\"\"\"List        : Ordered Changeable          Duplicates\n",
    "Tuple       : Ordered Unchangeable        Duplicates\n",
    "Set         : Unordered Addable/removable No Duplicates\n",
    "Dictinonary : Unordered changeable        No Duplicate\n",
    "    \"\"\")"
   ]
  },
  {
   "cell_type": "markdown",
   "id": "86b50a43",
   "metadata": {},
   "source": [
    "## List"
   ]
  },
  {
   "cell_type": "code",
   "execution_count": 7,
   "id": "f6801233",
   "metadata": {},
   "outputs": [
    {
     "name": "stdout",
     "output_type": "stream",
     "text": [
      "<class 'list'>\n",
      "<class 'tuple'>\n",
      "<class 'set'>\n",
      "<class 'dict'>\n"
     ]
    }
   ],
   "source": [
    "L = [1,3,4.9,\"Ram\",3]\n",
    "T = (1,3,4.9,\"Shyam\",3)\n",
    "S = {1,3,4.9,\"Vyam\",3}\n",
    "D = {23:\"Twothree\" , \"Fivethree\":53,4.5:'Fourpointfive'}\n",
    "print(type(L))\n",
    "print(type(T))\n",
    "print(type(S))\n",
    "print(type(D))"
   ]
  },
  {
   "cell_type": "raw",
   "id": "9323b5e7",
   "metadata": {},
   "source": [
    "In a statically typed language, data types are defined during compile time and cannot change during runtime. This behavior is because of static type checking. In contrast, dynamic typing allows variables to change their data type during runtime."
   ]
  },
  {
   "cell_type": "markdown",
   "id": "d44e600c",
   "metadata": {},
   "source": [
    "## Access Method - []"
   ]
  },
  {
   "cell_type": "code",
   "execution_count": 8,
   "id": "5eb0de34",
   "metadata": {},
   "outputs": [
    {
     "name": "stdout",
     "output_type": "stream",
     "text": [
      "3\n"
     ]
    }
   ],
   "source": [
    "print(L[1])"
   ]
  },
  {
   "cell_type": "code",
   "execution_count": 15,
   "id": "840ae592",
   "metadata": {},
   "outputs": [
    {
     "data": {
      "text/plain": [
       "[1, 3, 4.9, 'Ram', 3]"
      ]
     },
     "execution_count": 15,
     "metadata": {},
     "output_type": "execute_result"
    }
   ],
   "source": [
    "L"
   ]
  },
  {
   "cell_type": "markdown",
   "id": "cafa89cc",
   "metadata": {},
   "source": [
    "## Indexing"
   ]
  },
  {
   "cell_type": "code",
   "execution_count": 16,
   "id": "74c7f9dd",
   "metadata": {},
   "outputs": [
    {
     "data": {
      "text/plain": [
       "3"
      ]
     },
     "execution_count": 16,
     "metadata": {},
     "output_type": "execute_result"
    }
   ],
   "source": [
    "L[1]"
   ]
  },
  {
   "cell_type": "markdown",
   "id": "98793c4c",
   "metadata": {},
   "source": [
    "## Sub List (Slicing)"
   ]
  },
  {
   "cell_type": "code",
   "execution_count": 17,
   "id": "910ad7e9",
   "metadata": {},
   "outputs": [
    {
     "data": {
      "text/plain": [
       "[3, 4.9]"
      ]
     },
     "execution_count": 17,
     "metadata": {},
     "output_type": "execute_result"
    }
   ],
   "source": [
    "L[1:3]"
   ]
  },
  {
   "cell_type": "code",
   "execution_count": 18,
   "id": "bcaed9b0",
   "metadata": {},
   "outputs": [
    {
     "data": {
      "text/plain": [
       "[3, 'Ram', 4.9, 3, 1]"
      ]
     },
     "execution_count": 18,
     "metadata": {},
     "output_type": "execute_result"
    }
   ],
   "source": [
    "L[::-1]"
   ]
  },
  {
   "cell_type": "raw",
   "id": "23e42e56",
   "metadata": {},
   "source": [
    "List are mutable and we can change list means we can add and remove \n",
    "elements from list"
   ]
  },
  {
   "cell_type": "raw",
   "id": "d19a965d",
   "metadata": {},
   "source": [
    "Can Concatinate two list using + Operator\n",
    "Can add element using + operator\n",
    "Can add element using append operator which is way faster"
   ]
  },
  {
   "cell_type": "code",
   "execution_count": null,
   "id": "af8c62a9",
   "metadata": {},
   "outputs": [],
   "source": [
    "# When we do slicing in simple list and tuple it will create a totally \n",
    "# different memory\n",
    "L3 = L[1:3]\n",
    "L3[1] = 5\n",
    "print"
   ]
  },
  {
   "cell_type": "markdown",
   "id": "547870b8",
   "metadata": {},
   "source": [
    "## Add Elements In List"
   ]
  },
  {
   "cell_type": "code",
   "execution_count": 24,
   "id": "417257c3",
   "metadata": {},
   "outputs": [
    {
     "data": {
      "text/plain": [
       "[1, 3, 4.9, 'Ram', 3, 5, 5]"
      ]
     },
     "execution_count": 24,
     "metadata": {},
     "output_type": "execute_result"
    }
   ],
   "source": [
    "L.append(5)\n",
    "L"
   ]
  },
  {
   "cell_type": "code",
   "execution_count": 26,
   "id": "b9aa47df",
   "metadata": {},
   "outputs": [
    {
     "data": {
      "text/plain": [
       "[1, 3, 4.9, 'Ram', 3, 5, 5, 7, 7]"
      ]
     },
     "execution_count": 26,
     "metadata": {},
     "output_type": "execute_result"
    }
   ],
   "source": [
    "L = L + [7]\n",
    "L"
   ]
  },
  {
   "cell_type": "markdown",
   "id": "a3e24f03",
   "metadata": {},
   "source": [
    "## Delete Element In List"
   ]
  },
  {
   "cell_type": "code",
   "execution_count": 29,
   "id": "e19e863c",
   "metadata": {},
   "outputs": [],
   "source": [
    "del L[1]# - Delete Whole list"
   ]
  },
  {
   "cell_type": "code",
   "execution_count": null,
   "id": "209af248",
   "metadata": {},
   "outputs": [],
   "source": [
    "del L # - Delete Whole list"
   ]
  },
  {
   "cell_type": "code",
   "execution_count": 42,
   "id": "426f6b6b",
   "metadata": {},
   "outputs": [
    {
     "data": {
      "text/plain": [
       "[1, 4.9, 'Ram', 3, 5, 5, 7, 7]"
      ]
     },
     "execution_count": 42,
     "metadata": {},
     "output_type": "execute_result"
    }
   ],
   "source": [
    "L"
   ]
  },
  {
   "cell_type": "code",
   "execution_count": 46,
   "id": "c14fe326",
   "metadata": {},
   "outputs": [
    {
     "name": "stdout",
     "output_type": "stream",
     "text": [
      "[1, 2, 'Ram', 3, 5, 5, 7, 7]\n",
      "[1, 2, 'Ram', 3, 5, 5, 7, 7]\n"
     ]
    }
   ],
   "source": [
    "L2 = L\n",
    "L2\n",
    "# Both are not different things both are pointing to same address\n",
    "# If i change some in L it will happen in L2 as well\n",
    "# It is knonwn as referencing\n",
    "L[1] = 2\n",
    "print(L)\n",
    "print(L2)"
   ]
  },
  {
   "cell_type": "markdown",
   "id": "34febce5",
   "metadata": {},
   "source": [
    "## Copy function"
   ]
  },
  {
   "cell_type": "code",
   "execution_count": 49,
   "id": "4e38b50f",
   "metadata": {},
   "outputs": [
    {
     "name": "stdout",
     "output_type": "stream",
     "text": [
      "[1, 4.9, 'Ram', 3, 5, 5, 7, 7]\n",
      "[1, 2, 'Ram', 3, 5, 5, 7, 7]\n"
     ]
    }
   ],
   "source": [
    "L3 = L.copy()\n",
    "L3\n",
    "L[1] = 4.9\n",
    "print(L)\n",
    "print(L3)"
   ]
  },
  {
   "cell_type": "code",
   "execution_count": null,
   "id": "91af4e6e",
   "metadata": {},
   "outputs": [],
   "source": []
  },
  {
   "cell_type": "code",
   "execution_count": null,
   "id": "eae8b01a",
   "metadata": {},
   "outputs": [],
   "source": []
  },
  {
   "cell_type": "code",
   "execution_count": null,
   "id": "b3c89378",
   "metadata": {},
   "outputs": [],
   "source": []
  },
  {
   "cell_type": "markdown",
   "id": "dd348e94",
   "metadata": {},
   "source": [
    "## Tuple"
   ]
  },
  {
   "cell_type": "markdown",
   "id": "2aa08822",
   "metadata": {},
   "source": [
    "## Access Method - []"
   ]
  },
  {
   "cell_type": "code",
   "execution_count": 9,
   "id": "567924cf",
   "metadata": {},
   "outputs": [
    {
     "name": "stdout",
     "output_type": "stream",
     "text": [
      "3\n"
     ]
    }
   ],
   "source": [
    "print(T[1])"
   ]
  },
  {
   "cell_type": "code",
   "execution_count": 19,
   "id": "25611c1a",
   "metadata": {
    "scrolled": true
   },
   "outputs": [
    {
     "data": {
      "text/plain": [
       "(1, 3, 4.9, 'Shyam', 3)"
      ]
     },
     "execution_count": 19,
     "metadata": {},
     "output_type": "execute_result"
    }
   ],
   "source": [
    "T"
   ]
  },
  {
   "cell_type": "markdown",
   "id": "23cf04d0",
   "metadata": {},
   "source": [
    "## Indexing "
   ]
  },
  {
   "cell_type": "code",
   "execution_count": 22,
   "id": "538ac05a",
   "metadata": {},
   "outputs": [
    {
     "data": {
      "text/plain": [
       "3"
      ]
     },
     "execution_count": 22,
     "metadata": {},
     "output_type": "execute_result"
    }
   ],
   "source": [
    "T[1]"
   ]
  },
  {
   "cell_type": "markdown",
   "id": "0e70d88c",
   "metadata": {},
   "source": [
    "## Sub Tuples (Slicing)"
   ]
  },
  {
   "cell_type": "code",
   "execution_count": 20,
   "id": "3ec2c57b",
   "metadata": {},
   "outputs": [
    {
     "data": {
      "text/plain": [
       "(3, 4.9)"
      ]
     },
     "execution_count": 20,
     "metadata": {},
     "output_type": "execute_result"
    }
   ],
   "source": [
    "T[1:3]"
   ]
  },
  {
   "cell_type": "code",
   "execution_count": 21,
   "id": "5603558e",
   "metadata": {},
   "outputs": [
    {
     "data": {
      "text/plain": [
       "(3, 'Shyam', 4.9, 3, 1)"
      ]
     },
     "execution_count": 21,
     "metadata": {},
     "output_type": "execute_result"
    }
   ],
   "source": [
    "T[::-1]"
   ]
  },
  {
   "cell_type": "raw",
   "id": "aaca5d51",
   "metadata": {},
   "source": [
    "Tuples are immutable so we can not change tuple means can not delete \n",
    "updatae or add elements"
   ]
  },
  {
   "cell_type": "markdown",
   "id": "06c34c0e",
   "metadata": {},
   "source": [
    "## Add two tuples"
   ]
  },
  {
   "cell_type": "code",
   "execution_count": 31,
   "id": "f1ff425e",
   "metadata": {},
   "outputs": [
    {
     "data": {
      "text/plain": [
       "('a', 'b', 45, 'Ram', 'Shyam', 42.5)"
      ]
     },
     "execution_count": 31,
     "metadata": {},
     "output_type": "execute_result"
    }
   ],
   "source": [
    "T1 = ('a' , 'b' , 45)\n",
    "T2 = ('Ram' , 'Shyam' , 42.5)\n",
    "T3 = T1 + T2\n",
    "T3\n",
    "# New Memory will be created because we can not change the list"
   ]
  },
  {
   "cell_type": "code",
   "execution_count": null,
   "id": "50580ddb",
   "metadata": {},
   "outputs": [],
   "source": [
    "# We can not delete elements from tuples"
   ]
  },
  {
   "cell_type": "code",
   "execution_count": null,
   "id": "2b8289e5",
   "metadata": {},
   "outputs": [],
   "source": [
    "# Copy funciton is not avaliable in tuples"
   ]
  },
  {
   "cell_type": "code",
   "execution_count": null,
   "id": "824cf148",
   "metadata": {},
   "outputs": [],
   "source": []
  },
  {
   "cell_type": "code",
   "execution_count": null,
   "id": "af2e6da6",
   "metadata": {},
   "outputs": [],
   "source": []
  },
  {
   "cell_type": "code",
   "execution_count": null,
   "id": "2b4c8bc7",
   "metadata": {},
   "outputs": [],
   "source": []
  },
  {
   "cell_type": "code",
   "execution_count": null,
   "id": "fd188cd8",
   "metadata": {},
   "outputs": [],
   "source": []
  },
  {
   "cell_type": "code",
   "execution_count": null,
   "id": "f65f4ba7",
   "metadata": {},
   "outputs": [],
   "source": []
  },
  {
   "cell_type": "markdown",
   "id": "9e81b3fa",
   "metadata": {},
   "source": [
    "## Set"
   ]
  },
  {
   "cell_type": "markdown",
   "id": "d43a4c9c",
   "metadata": {},
   "source": [
    "## Access Method - in"
   ]
  },
  {
   "cell_type": "code",
   "execution_count": 10,
   "id": "5c8e3211",
   "metadata": {},
   "outputs": [
    {
     "name": "stdout",
     "output_type": "stream",
     "text": [
      "True\n"
     ]
    }
   ],
   "source": [
    "print(3 in S)"
   ]
  },
  {
   "cell_type": "code",
   "execution_count": 14,
   "id": "64a48d86",
   "metadata": {},
   "outputs": [
    {
     "data": {
      "text/plain": [
       "{1, 3, 4.9, 'Vyam'}"
      ]
     },
     "execution_count": 14,
     "metadata": {},
     "output_type": "execute_result"
    }
   ],
   "source": [
    "S\n",
    "# S does not contain duplicates and do not maintain order"
   ]
  },
  {
   "cell_type": "raw",
   "id": "e623f799",
   "metadata": {},
   "source": [
    "We can add new elements in set using add function and if we want to add \n",
    "more than one element than we can use update method as well"
   ]
  },
  {
   "cell_type": "code",
   "execution_count": 36,
   "id": "c562ebb7",
   "metadata": {},
   "outputs": [
    {
     "data": {
      "text/plain": [
       "{1, 23, 3, 4.9, 56, 'Vyam', 'game'}"
      ]
     },
     "execution_count": 36,
     "metadata": {},
     "output_type": "execute_result"
    }
   ],
   "source": [
    "S.add(56)\n",
    "S"
   ]
  },
  {
   "cell_type": "code",
   "execution_count": 34,
   "id": "cc39e252",
   "metadata": {},
   "outputs": [],
   "source": [
    "# Multiple Addition\n",
    "S.update({23,\"game\" , 1})"
   ]
  },
  {
   "cell_type": "code",
   "execution_count": 35,
   "id": "bc3b2863",
   "metadata": {},
   "outputs": [],
   "source": [
    "# We can remove element from set using remove"
   ]
  },
  {
   "cell_type": "code",
   "execution_count": 37,
   "id": "519c7ab5",
   "metadata": {},
   "outputs": [
    {
     "data": {
      "text/plain": [
       "{23: 'Twothree', 'Fivethree': 53, 4.5: 'Fourpointfive'}"
      ]
     },
     "execution_count": 37,
     "metadata": {},
     "output_type": "execute_result"
    }
   ],
   "source": [
    "D"
   ]
  },
  {
   "cell_type": "markdown",
   "id": "7bb53391",
   "metadata": {},
   "source": [
    "## Copy function"
   ]
  },
  {
   "cell_type": "code",
   "execution_count": 52,
   "id": "13af73a6",
   "metadata": {},
   "outputs": [
    {
     "name": "stdout",
     "output_type": "stream",
     "text": [
      "{1, 'Vyam', 3, 4.9, 'game', 23, 56}\n",
      "{1, 'Vyam', 3, 4.9, 'game', 23, 56}\n"
     ]
    }
   ],
   "source": [
    "S3 = S.copy()\n",
    "print(S)\n",
    "print(S3)"
   ]
  },
  {
   "cell_type": "code",
   "execution_count": null,
   "id": "8ddc449b",
   "metadata": {},
   "outputs": [],
   "source": []
  },
  {
   "cell_type": "code",
   "execution_count": null,
   "id": "f6acf249",
   "metadata": {},
   "outputs": [],
   "source": []
  },
  {
   "cell_type": "markdown",
   "id": "a6fd568e",
   "metadata": {},
   "source": [
    "## Dictinonary"
   ]
  },
  {
   "cell_type": "markdown",
   "id": "b0d64f04",
   "metadata": {},
   "source": [
    "## Access Method - []"
   ]
  },
  {
   "cell_type": "code",
   "execution_count": 11,
   "id": "02eb5bf0",
   "metadata": {},
   "outputs": [
    {
     "name": "stdout",
     "output_type": "stream",
     "text": [
      "Twothree\n"
     ]
    }
   ],
   "source": [
    "print(D[23])"
   ]
  },
  {
   "cell_type": "markdown",
   "id": "7ef518b4",
   "metadata": {},
   "source": [
    "## Insertion in Dict"
   ]
  },
  {
   "cell_type": "code",
   "execution_count": 41,
   "id": "0f17a46f",
   "metadata": {},
   "outputs": [
    {
     "data": {
      "text/plain": [
       "{23: 'Twothree', 'Fivethree': 53, 4.5: 'Fourpointfive', 'New Key': 'New Value'}"
      ]
     },
     "execution_count": 41,
     "metadata": {},
     "output_type": "execute_result"
    }
   ],
   "source": [
    "D"
   ]
  },
  {
   "cell_type": "code",
   "execution_count": 39,
   "id": "dbc5d651",
   "metadata": {},
   "outputs": [
    {
     "data": {
      "text/plain": [
       "{23: 'Twothree', 'Fivethree': 53, 4.5: 'Fourpointfive', 'New Key': 'New Value'}"
      ]
     },
     "execution_count": 39,
     "metadata": {},
     "output_type": "execute_result"
    }
   ],
   "source": [
    "D['New Key'] = \"New Value\"\n",
    "D"
   ]
  },
  {
   "cell_type": "markdown",
   "id": "5cda7c4c",
   "metadata": {},
   "source": [
    "## Concatination of Two Dict Not Possible"
   ]
  },
  {
   "cell_type": "code",
   "execution_count": null,
   "id": "2e7635c9",
   "metadata": {},
   "outputs": [],
   "source": [
    "D2 = {1:2 , \"S\":\"R\"}\n",
    "D3 = D + D2\n",
    "D3"
   ]
  },
  {
   "cell_type": "markdown",
   "id": "3b4271cc",
   "metadata": {},
   "source": [
    "## Delete"
   ]
  },
  {
   "cell_type": "code",
   "execution_count": null,
   "id": "d29a0b50",
   "metadata": {},
   "outputs": [],
   "source": [
    "We can delete the element from dict using del"
   ]
  },
  {
   "cell_type": "code",
   "execution_count": null,
   "id": "d9279566",
   "metadata": {},
   "outputs": [],
   "source": [
    "del D[\"Val\"]\n",
    "del D"
   ]
  },
  {
   "cell_type": "code",
   "execution_count": null,
   "id": "993cb34a",
   "metadata": {},
   "outputs": [],
   "source": [
    "# Dictnoray is kind of set of unique pairs to add we can use update as \n",
    "# well"
   ]
  },
  {
   "cell_type": "markdown",
   "id": "d32a322e",
   "metadata": {},
   "source": [
    "## Copy Function"
   ]
  },
  {
   "cell_type": "code",
   "execution_count": 53,
   "id": "18081892",
   "metadata": {},
   "outputs": [
    {
     "name": "stdout",
     "output_type": "stream",
     "text": [
      "{23: 'Twothree', 'Fivethree': 53, 4.5: 'Fourpointfive', 'New Key': 'New Value'}\n",
      "{23: 'Twothree', 'Fivethree': 53, 4.5: 'Fourpointfive', 'New Key': 'New Value'}\n"
     ]
    }
   ],
   "source": [
    "D3 = D.copy()\n",
    "print(D)\n",
    "print(D3)"
   ]
  },
  {
   "cell_type": "code",
   "execution_count": null,
   "id": "3d7b18f6",
   "metadata": {},
   "outputs": [],
   "source": []
  },
  {
   "cell_type": "markdown",
   "id": "6bdf9ebc",
   "metadata": {},
   "source": [
    "## Methods for list"
   ]
  },
  {
   "cell_type": "code",
   "execution_count": 2,
   "id": "bfeef49a",
   "metadata": {},
   "outputs": [],
   "source": [
    "L = [1,2,3,4,5]\n"
   ]
  },
  {
   "cell_type": "raw",
   "id": "f69b7c8d",
   "metadata": {},
   "source": [
    "Append\n",
    "# Append element in end of list"
   ]
  },
  {
   "cell_type": "code",
   "execution_count": 3,
   "id": "44a7bcc7",
   "metadata": {},
   "outputs": [],
   "source": [
    "L.append(6)"
   ]
  },
  {
   "cell_type": "raw",
   "id": "b0c46734",
   "metadata": {},
   "source": [
    "Clear\n",
    "# Clear the list"
   ]
  },
  {
   "cell_type": "code",
   "execution_count": null,
   "id": "6252bb34",
   "metadata": {},
   "outputs": [],
   "source": [
    "L.clear()"
   ]
  },
  {
   "cell_type": "raw",
   "id": "a24c24d7",
   "metadata": {},
   "source": [
    "Pop\n",
    "# Delete the last element if index is not given or if index is given then\n",
    "# delete that element "
   ]
  },
  {
   "cell_type": "raw",
   "id": "5773ccf8",
   "metadata": {},
   "source": [
    "Reverse \n",
    "# Reverse the list"
   ]
  },
  {
   "cell_type": "code",
   "execution_count": null,
   "id": "edc09e9f",
   "metadata": {},
   "outputs": [],
   "source": [
    "L.reverse()"
   ]
  },
  {
   "cell_type": "code",
   "execution_count": 4,
   "id": "20e9dd54",
   "metadata": {},
   "outputs": [
    {
     "data": {
      "text/plain": [
       "[6, 5, 4, 3, 2, 1]"
      ]
     },
     "execution_count": 4,
     "metadata": {},
     "output_type": "execute_result"
    }
   ],
   "source": [
    "L[::-1]"
   ]
  },
  {
   "cell_type": "code",
   "execution_count": null,
   "id": "2f10c584",
   "metadata": {},
   "outputs": [],
   "source": [
    "# Any kind of data can be stored in any kind of data structure"
   ]
  },
  {
   "cell_type": "markdown",
   "id": "ecd62b2d",
   "metadata": {},
   "source": [
    "# Abstraction of these Data structure"
   ]
  },
  {
   "cell_type": "code",
   "execution_count": 7,
   "id": "ab67f6dc",
   "metadata": {},
   "outputs": [
    {
     "data": {
      "text/plain": [
       "[[1, 2, 3, 4, 5, 6], 23, 2.3, '23', True]"
      ]
     },
     "execution_count": 7,
     "metadata": {},
     "output_type": "execute_result"
    }
   ],
   "source": [
    "L1 = [L  , 23 , 2.3 , \"23\" , True]\n",
    "L1"
   ]
  },
  {
   "cell_type": "code",
   "execution_count": 8,
   "id": "f690349f",
   "metadata": {},
   "outputs": [
    {
     "data": {
      "text/plain": [
       "[0, 1, 4, 9, 16, 25, 36, 49, 64, 81]"
      ]
     },
     "execution_count": 8,
     "metadata": {},
     "output_type": "execute_result"
    }
   ],
   "source": [
    "L3 = [x**2 for x in range(10)]\n",
    "L3"
   ]
  },
  {
   "cell_type": "code",
   "execution_count": 9,
   "id": "f7650f0f",
   "metadata": {},
   "outputs": [
    {
     "data": {
      "text/plain": [
       "{4, 25, 64, 121, 196, 289}"
      ]
     },
     "execution_count": 9,
     "metadata": {},
     "output_type": "execute_result"
    }
   ],
   "source": [
    "S3 = {x**2 for x in range(2,20,3)}\n",
    "S3"
   ]
  },
  {
   "cell_type": "code",
   "execution_count": 13,
   "id": "694832a6",
   "metadata": {},
   "outputs": [],
   "source": [
    "def getDataFromUser():\n",
    "    D = {}\n",
    "    while True:\n",
    "        studentId = int(input(\"Enter Student Id\"))\n",
    "        marksList = input(\"Enter the marks by comma separted values : \")\n",
    "        moreStudents = input(\"Enter 'no' to quit \")\n",
    "        if(studentId in D):\n",
    "            print(studentId , \"Also present\")\n",
    "        else:\n",
    "            D[studentId] = marksList.split(',')\n",
    "        if moreStudents.lower() == \"no\":\n",
    "            return D\n"
   ]
  },
  {
   "cell_type": "code",
   "execution_count": 18,
   "id": "869bf84f",
   "metadata": {},
   "outputs": [
    {
     "name": "stdout",
     "output_type": "stream",
     "text": [
      "Enter Student Id1\n",
      "Enter the marks by comma separted values : 1,2,3,56\n",
      "Enter 'no' to quit gfh\n",
      "Enter Student Id2\n",
      "Enter the marks by comma separted values : 1,2,58,69\n",
      "Enter 'no' to quit no\n",
      "15\n",
      "32\n"
     ]
    }
   ],
   "source": [
    "D = getDataFromUser()\n",
    "for x in D:\n",
    "    L = D[x]\n",
    "    sum = 0\n",
    "    for marks in L:\n",
    "        sum = sum + int(marks)\n",
    "    print(sum//len(L))"
   ]
  },
  {
   "cell_type": "code",
   "execution_count": null,
   "id": "abbf233e",
   "metadata": {},
   "outputs": [],
   "source": []
  },
  {
   "cell_type": "code",
   "execution_count": null,
   "id": "296bf00e",
   "metadata": {},
   "outputs": [],
   "source": []
  },
  {
   "cell_type": "code",
   "execution_count": null,
   "id": "97c393c4",
   "metadata": {},
   "outputs": [],
   "source": []
  },
  {
   "cell_type": "code",
   "execution_count": null,
   "id": "57339562",
   "metadata": {},
   "outputs": [],
   "source": []
  },
  {
   "cell_type": "code",
   "execution_count": null,
   "id": "509344ae",
   "metadata": {},
   "outputs": [],
   "source": []
  },
  {
   "cell_type": "code",
   "execution_count": null,
   "id": "468010ed",
   "metadata": {},
   "outputs": [],
   "source": []
  },
  {
   "cell_type": "code",
   "execution_count": null,
   "id": "dbc8d8d8",
   "metadata": {},
   "outputs": [],
   "source": []
  },
  {
   "cell_type": "code",
   "execution_count": null,
   "id": "a4cb02a4",
   "metadata": {},
   "outputs": [],
   "source": []
  },
  {
   "cell_type": "code",
   "execution_count": null,
   "id": "6cd4e0b5",
   "metadata": {},
   "outputs": [],
   "source": []
  },
  {
   "cell_type": "code",
   "execution_count": null,
   "id": "02b029cd",
   "metadata": {},
   "outputs": [],
   "source": []
  },
  {
   "cell_type": "code",
   "execution_count": null,
   "id": "d9464aa4",
   "metadata": {},
   "outputs": [],
   "source": []
  }
 ],
 "metadata": {
  "kernelspec": {
   "display_name": "Python 3 (ipykernel)",
   "language": "python",
   "name": "python3"
  },
  "language_info": {
   "codemirror_mode": {
    "name": "ipython",
    "version": 3
   },
   "file_extension": ".py",
   "mimetype": "text/x-python",
   "name": "python",
   "nbconvert_exporter": "python",
   "pygments_lexer": "ipython3",
   "version": "3.11.5"
  }
 },
 "nbformat": 4,
 "nbformat_minor": 5
}
