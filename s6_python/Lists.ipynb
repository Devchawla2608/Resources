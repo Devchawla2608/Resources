{
 "cells": [
  {
   "cell_type": "markdown",
   "id": "da2b512a",
   "metadata": {},
   "source": [
    "## Lists"
   ]
  },
  {
   "cell_type": "raw",
   "id": "0fd282bf",
   "metadata": {},
   "source": [
    "Collection of data , kind of array"
   ]
  },
  {
   "cell_type": "code",
   "execution_count": 11,
   "id": "cf14d5e8",
   "metadata": {},
   "outputs": [
    {
     "data": {
      "text/plain": [
       "[1, 2, 3]"
      ]
     },
     "execution_count": 11,
     "metadata": {},
     "output_type": "execute_result"
    }
   ],
   "source": [
    "a = [1,2,3]\n",
    "a"
   ]
  },
  {
   "cell_type": "code",
   "execution_count": 4,
   "id": "756f1a16",
   "metadata": {},
   "outputs": [
    {
     "data": {
      "text/plain": [
       "list"
      ]
     },
     "execution_count": 4,
     "metadata": {},
     "output_type": "execute_result"
    }
   ],
   "source": [
    "type(a)"
   ]
  },
  {
   "cell_type": "code",
   "execution_count": 10,
   "id": "c39544a8",
   "metadata": {},
   "outputs": [
    {
     "data": {
      "text/plain": [
       "[]"
      ]
     },
     "execution_count": 10,
     "metadata": {},
     "output_type": "execute_result"
    }
   ],
   "source": [
    "a"
   ]
  },
  {
   "cell_type": "code",
   "execution_count": 6,
   "id": "aec7af6d",
   "metadata": {},
   "outputs": [],
   "source": [
    "# Empty List\n",
    "a = list()"
   ]
  },
  {
   "cell_type": "raw",
   "id": "530d8bc6",
   "metadata": {},
   "source": [
    "List are mutable"
   ]
  },
  {
   "cell_type": "code",
   "execution_count": 14,
   "id": "3e2f1dd2",
   "metadata": {},
   "outputs": [
    {
     "data": {
      "text/plain": [
       "[1, 2, 40]"
      ]
     },
     "execution_count": 14,
     "metadata": {},
     "output_type": "execute_result"
    }
   ],
   "source": [
    "a[2] = 40\n",
    "a"
   ]
  },
  {
   "cell_type": "code",
   "execution_count": 16,
   "id": "fcebdbf2",
   "metadata": {},
   "outputs": [
    {
     "ename": "IndexError",
     "evalue": "list assignment index out of range",
     "output_type": "error",
     "traceback": [
      "\u001b[1;31m---------------------------------------------------------------------------\u001b[0m",
      "\u001b[1;31mIndexError\u001b[0m                                Traceback (most recent call last)",
      "Cell \u001b[1;32mIn[16], line 1\u001b[0m\n\u001b[1;32m----> 1\u001b[0m a[\u001b[38;5;241m3\u001b[39m] \u001b[38;5;241m=\u001b[39m \u001b[38;5;241m50\u001b[39m\n\u001b[0;32m      2\u001b[0m a\n",
      "\u001b[1;31mIndexError\u001b[0m: list assignment index out of range"
     ]
    }
   ],
   "source": [
    "a[3] = 50\n",
    "a"
   ]
  },
  {
   "cell_type": "raw",
   "id": "7534065a",
   "metadata": {},
   "source": [
    "Need not to define size of list and type of list . list can store any kind of data in one single list"
   ]
  },
  {
   "cell_type": "code",
   "execution_count": 18,
   "id": "7817ecbd",
   "metadata": {},
   "outputs": [
    {
     "data": {
      "text/plain": [
       "['abc', 'dev', 1, True, 0.1, ['def', 'chawla', 2, False, 0.2]]"
      ]
     },
     "execution_count": 18,
     "metadata": {},
     "output_type": "execute_result"
    }
   ],
   "source": [
    "a = [\"abc\" , 'dev' , 1 , True , 0.1 , [\"def\" , 'chawla' , 2 , False , 0.2]]\n",
    "a"
   ]
  },
  {
   "cell_type": "raw",
   "id": "4de0bb8a",
   "metadata": {},
   "source": [
    "In python list have some default size if we increase the data in list then it pick big space , copy elements and then points to new list. List are dynamic size"
   ]
  },
  {
   "cell_type": "markdown",
   "id": "795ca723",
   "metadata": {},
   "source": [
    "## Important Method to insert in list"
   ]
  },
  {
   "cell_type": "code",
   "execution_count": 20,
   "id": "ff55124b",
   "metadata": {},
   "outputs": [
    {
     "data": {
      "text/plain": [
       "[0, 0, 0, 0, 0, 0, 0, 0, 0, 0]"
      ]
     },
     "execution_count": 20,
     "metadata": {},
     "output_type": "execute_result"
    }
   ],
   "source": [
    "b = [0 for i in range(10)]\n",
    "b"
   ]
  },
  {
   "cell_type": "code",
   "execution_count": 22,
   "id": "36cac7dc",
   "metadata": {},
   "outputs": [
    {
     "data": {
      "text/plain": [
       "[0, 0, 0, 0, 0, 0]"
      ]
     },
     "execution_count": 22,
     "metadata": {},
     "output_type": "execute_result"
    }
   ],
   "source": [
    "b = [0 for i in a]\n",
    "b"
   ]
  },
  {
   "cell_type": "code",
   "execution_count": 23,
   "id": "095c7887",
   "metadata": {},
   "outputs": [
    {
     "data": {
      "text/plain": [
       "['abc', 'dev', 1, True, 0.1, ['def', 'chawla', 2, False, 0.2]]"
      ]
     },
     "execution_count": 23,
     "metadata": {},
     "output_type": "execute_result"
    }
   ],
   "source": [
    "b = [i for i in a]\n",
    "b"
   ]
  },
  {
   "cell_type": "code",
   "execution_count": 24,
   "id": "f1160219",
   "metadata": {},
   "outputs": [
    {
     "data": {
      "text/plain": [
       "[1, 4, 9, 16, 25]"
      ]
     },
     "execution_count": 24,
     "metadata": {},
     "output_type": "execute_result"
    }
   ],
   "source": [
    "c = [1,2,3,4,5]\n",
    "d = [i*i for i in c]\n",
    "d"
   ]
  },
  {
   "cell_type": "markdown",
   "id": "25f16d95",
   "metadata": {},
   "source": [
    "## Functions in list"
   ]
  },
  {
   "cell_type": "code",
   "execution_count": 25,
   "id": "d51c3910",
   "metadata": {},
   "outputs": [],
   "source": [
    "a = [1,3,5,7]"
   ]
  },
  {
   "cell_type": "markdown",
   "id": "738e56d2",
   "metadata": {},
   "source": [
    "## Length"
   ]
  },
  {
   "cell_type": "code",
   "execution_count": 26,
   "id": "4bb6eb35",
   "metadata": {},
   "outputs": [
    {
     "data": {
      "text/plain": [
       "4"
      ]
     },
     "execution_count": 26,
     "metadata": {},
     "output_type": "execute_result"
    }
   ],
   "source": [
    "len(a)"
   ]
  },
  {
   "cell_type": "markdown",
   "id": "2f428beb",
   "metadata": {},
   "source": [
    "## Plus"
   ]
  },
  {
   "cell_type": "code",
   "execution_count": 27,
   "id": "9124f900",
   "metadata": {},
   "outputs": [
    {
     "data": {
      "text/plain": [
       "[1, 3, 5, 7, 6, 7, 8]"
      ]
     },
     "execution_count": 27,
     "metadata": {},
     "output_type": "execute_result"
    }
   ],
   "source": [
    "b = [6,7,8]\n",
    "a + b"
   ]
  },
  {
   "cell_type": "markdown",
   "id": "39091f5f",
   "metadata": {},
   "source": [
    "## Multiply"
   ]
  },
  {
   "cell_type": "code",
   "execution_count": 28,
   "id": "0254f35d",
   "metadata": {},
   "outputs": [
    {
     "data": {
      "text/plain": [
       "[1, 3, 5, 7, 1, 3, 5, 7, 1, 3, 5, 7]"
      ]
     },
     "execution_count": 28,
     "metadata": {},
     "output_type": "execute_result"
    }
   ],
   "source": [
    "c = a*3\n",
    "c"
   ]
  },
  {
   "cell_type": "markdown",
   "id": "a4ee4062",
   "metadata": {},
   "source": [
    "## Add Data in List"
   ]
  },
  {
   "cell_type": "code",
   "execution_count": 31,
   "id": "d606cdc3",
   "metadata": {},
   "outputs": [
    {
     "data": {
      "text/plain": [
       "[1, 3, 5, 7, 6, 6, 6]"
      ]
     },
     "execution_count": 31,
     "metadata": {},
     "output_type": "execute_result"
    }
   ],
   "source": [
    "a.append(6)\n",
    "a\n",
    "# Add at the end"
   ]
  },
  {
   "cell_type": "code",
   "execution_count": 32,
   "id": "a51147dd",
   "metadata": {},
   "outputs": [
    {
     "data": {
      "text/plain": [
       "[8, 1, 3, 5, 7, 6, 6, 6]"
      ]
     },
     "execution_count": 32,
     "metadata": {},
     "output_type": "execute_result"
    }
   ],
   "source": [
    "# a.insert(ind , element)\n",
    "a.insert(0 , 8)\n",
    "a"
   ]
  },
  {
   "cell_type": "code",
   "execution_count": 33,
   "id": "94ec6649",
   "metadata": {},
   "outputs": [
    {
     "data": {
      "text/plain": [
       "[8, 1, 3, 5, 7, 6, 6, 6, 6, 7, 8]"
      ]
     },
     "execution_count": 33,
     "metadata": {},
     "output_type": "execute_result"
    }
   ],
   "source": [
    "a.extend(b)\n",
    "# a list is changed and it is different becuase in a+b new list \n",
    "# is created\n",
    "a"
   ]
  },
  {
   "cell_type": "markdown",
   "id": "97dd62ba",
   "metadata": {},
   "source": [
    "# Delete Data"
   ]
  },
  {
   "cell_type": "raw",
   "id": "5604524b",
   "metadata": {},
   "source": [
    "a.remove(element) | remove first occurance of element"
   ]
  },
  {
   "cell_type": "code",
   "execution_count": 34,
   "id": "73046028",
   "metadata": {},
   "outputs": [
    {
     "data": {
      "text/plain": [
       "[1, 3, 5, 7, 6, 6, 6, 6, 7, 8]"
      ]
     },
     "execution_count": 34,
     "metadata": {},
     "output_type": "execute_result"
    }
   ],
   "source": [
    "a.remove(8)\n",
    "a"
   ]
  },
  {
   "cell_type": "raw",
   "id": "0745cd90",
   "metadata": {},
   "source": [
    "a.pop(index) | remove element from index and it returns the element"
   ]
  },
  {
   "cell_type": "code",
   "execution_count": 35,
   "id": "b19be163",
   "metadata": {},
   "outputs": [
    {
     "data": {
      "text/plain": [
       "[1, 3, 7, 6, 6, 6, 6, 7, 8]"
      ]
     },
     "execution_count": 35,
     "metadata": {},
     "output_type": "execute_result"
    }
   ],
   "source": [
    "a.pop(2)\n",
    "a"
   ]
  },
  {
   "cell_type": "raw",
   "id": "07a188fa",
   "metadata": {},
   "source": [
    "del a[4]  "
   ]
  },
  {
   "cell_type": "code",
   "execution_count": 36,
   "id": "a61b5612",
   "metadata": {},
   "outputs": [
    {
     "data": {
      "text/plain": [
       "[1, 3, 7, 6, 6, 6, 7, 8]"
      ]
     },
     "execution_count": 36,
     "metadata": {},
     "output_type": "execute_result"
    }
   ],
   "source": [
    "del a[3]\n",
    "a"
   ]
  },
  {
   "cell_type": "markdown",
   "id": "7f2fc927",
   "metadata": {},
   "source": [
    "## Sort | Orignal list will sort"
   ]
  },
  {
   "cell_type": "code",
   "execution_count": 39,
   "id": "3a8a9c96",
   "metadata": {},
   "outputs": [
    {
     "data": {
      "text/plain": [
       "[1, 3, 6, 6, 6, 7, 7, 8]"
      ]
     },
     "execution_count": 39,
     "metadata": {},
     "output_type": "execute_result"
    }
   ],
   "source": [
    "a.sort()\n",
    "a"
   ]
  },
  {
   "cell_type": "code",
   "execution_count": 40,
   "id": "e937e118",
   "metadata": {},
   "outputs": [
    {
     "data": {
      "text/plain": [
       "8"
      ]
     },
     "execution_count": 40,
     "metadata": {},
     "output_type": "execute_result"
    }
   ],
   "source": [
    "max(a)"
   ]
  },
  {
   "cell_type": "code",
   "execution_count": 43,
   "id": "b67e1277",
   "metadata": {},
   "outputs": [
    {
     "data": {
      "text/plain": [
       "1"
      ]
     },
     "execution_count": 43,
     "metadata": {},
     "output_type": "execute_result"
    }
   ],
   "source": [
    "a.index(3)"
   ]
  },
  {
   "cell_type": "code",
   "execution_count": 44,
   "id": "69935a5b",
   "metadata": {},
   "outputs": [
    {
     "data": {
      "text/plain": [
       "False"
      ]
     },
     "execution_count": 44,
     "metadata": {},
     "output_type": "execute_result"
    }
   ],
   "source": [
    "100 in b"
   ]
  },
  {
   "cell_type": "raw",
   "id": "387d52ae",
   "metadata": {},
   "source": [
    "While using sort and max function we should take  care about the list whether the list is sorted or not"
   ]
  },
  {
   "cell_type": "markdown",
   "id": "f2c0be5f",
   "metadata": {},
   "source": [
    "## Print List"
   ]
  },
  {
   "cell_type": "code",
   "execution_count": 4,
   "id": "c7406c52",
   "metadata": {},
   "outputs": [
    {
     "name": "stdout",
     "output_type": "stream",
     "text": [
      "2 3 4 5 6 7 "
     ]
    }
   ],
   "source": [
    "a = [2,3,4,5,6,7]\n",
    "for i in a:\n",
    "    print(i ,end = ' ')"
   ]
  },
  {
   "cell_type": "markdown",
   "id": "7ca4d72e",
   "metadata": {},
   "source": [
    "## Method 1"
   ]
  },
  {
   "cell_type": "raw",
   "id": "dc0518f6",
   "metadata": {},
   "source": [
    "5 [size]\n",
    "1\n",
    "2\n",
    "3\n",
    "4\n",
    "5"
   ]
  },
  {
   "cell_type": "code",
   "execution_count": 6,
   "id": "874b0715",
   "metadata": {},
   "outputs": [
    {
     "name": "stdout",
     "output_type": "stream",
     "text": [
      "5\n",
      "1\n",
      "2\n",
      "3\n",
      "4\n",
      "5\n"
     ]
    },
    {
     "data": {
      "text/plain": [
       "[1, 2, 3, 4, 5]"
      ]
     },
     "execution_count": 6,
     "metadata": {},
     "output_type": "execute_result"
    }
   ],
   "source": [
    "s = int(input())\n",
    "a = []\n",
    "for i in range(s):\n",
    "    ne = int(input())\n",
    "    a.append(ne)\n",
    "a"
   ]
  },
  {
   "cell_type": "markdown",
   "id": "d3d2d144",
   "metadata": {},
   "source": [
    "## Method 2"
   ]
  },
  {
   "cell_type": "raw",
   "id": "29db5ed4",
   "metadata": {},
   "source": [
    "1 2 3 4 5 | Elements without size"
   ]
  },
  {
   "cell_type": "code",
   "execution_count": 10,
   "id": "0545478f",
   "metadata": {},
   "outputs": [
    {
     "name": "stdout",
     "output_type": "stream",
     "text": [
      "1 2 3 4 5\n"
     ]
    },
    {
     "data": {
      "text/plain": [
       "[1, 2, 3, 4, 5]"
      ]
     },
     "execution_count": 10,
     "metadata": {},
     "output_type": "execute_result"
    }
   ],
   "source": [
    "line = input()\n",
    "l = line.split()\n",
    "a = []\n",
    "for i in l:\n",
    "    a.append(int(i))\n",
    "a"
   ]
  },
  {
   "cell_type": "raw",
   "id": "767a5204",
   "metadata": {},
   "source": [
    "Method 2 - Optimization 1"
   ]
  },
  {
   "cell_type": "code",
   "execution_count": 12,
   "id": "143cda61",
   "metadata": {},
   "outputs": [
    {
     "name": "stdout",
     "output_type": "stream",
     "text": [
      "1 2 3 4 5\n"
     ]
    },
    {
     "data": {
      "text/plain": [
       "[1, 2, 3, 4, 5]"
      ]
     },
     "execution_count": 12,
     "metadata": {},
     "output_type": "execute_result"
    }
   ],
   "source": [
    "l = input().split()\n",
    "a = [int(i) for i in l]\n",
    "a"
   ]
  },
  {
   "cell_type": "raw",
   "id": "7c29dc47",
   "metadata": {},
   "source": [
    "Method 2 - Optimization 2"
   ]
  },
  {
   "cell_type": "code",
   "execution_count": 18,
   "id": "844ef6e8",
   "metadata": {},
   "outputs": [
    {
     "name": "stdout",
     "output_type": "stream",
     "text": [
      "1 2 3 \n"
     ]
    },
    {
     "data": {
      "text/plain": [
       "[1, 2, 3]"
      ]
     },
     "execution_count": 18,
     "metadata": {},
     "output_type": "execute_result"
    }
   ],
   "source": [
    "a = [int(i) for i in input().split()]\n",
    "a"
   ]
  },
  {
   "cell_type": "markdown",
   "id": "983ba875",
   "metadata": {},
   "source": [
    "## Method 3"
   ]
  },
  {
   "cell_type": "code",
   "execution_count": 23,
   "id": "8fd0cb22",
   "metadata": {},
   "outputs": [
    {
     "name": "stdout",
     "output_type": "stream",
     "text": [
      "5 1 2 3 4 5\n"
     ]
    },
    {
     "data": {
      "text/plain": [
       "[1, 2, 3, 4, 5]"
      ]
     },
     "execution_count": 23,
     "metadata": {},
     "output_type": "execute_result"
    }
   ],
   "source": [
    "a = [int(i) for i in input()[1:].split()]\n",
    "a"
   ]
  },
  {
   "cell_type": "markdown",
   "id": "60429021",
   "metadata": {},
   "source": [
    "## Difference of Even and Odd Sum"
   ]
  },
  {
   "cell_type": "code",
   "execution_count": 25,
   "id": "f760aa00",
   "metadata": {},
   "outputs": [
    {
     "name": "stdout",
     "output_type": "stream",
     "text": [
      "1 2 3 4 5\n",
      "-3\n"
     ]
    }
   ],
   "source": [
    "l = [int(s) for s in input().split()]\n",
    "even = 0\n",
    "odd = 0\n",
    "for i in l:\n",
    "    if i%2 == 0:\n",
    "        even += i\n",
    "    else:\n",
    "        odd += i\n",
    "print(even - odd)"
   ]
  },
  {
   "cell_type": "markdown",
   "id": "baab9515",
   "metadata": {},
   "source": [
    "## Slicing in List"
   ]
  },
  {
   "cell_type": "code",
   "execution_count": 26,
   "id": "e3c11dd9",
   "metadata": {},
   "outputs": [
    {
     "data": {
      "text/plain": [
       "[1, 2, 3, 4, 5, 'abc', 6]"
      ]
     },
     "execution_count": 26,
     "metadata": {},
     "output_type": "execute_result"
    }
   ],
   "source": [
    "a = [1,2,3,4,5,\"abc\",6]\n",
    "a"
   ]
  },
  {
   "cell_type": "code",
   "execution_count": 27,
   "id": "3075b75f",
   "metadata": {},
   "outputs": [
    {
     "data": {
      "text/plain": [
       "[1, 2, 3]"
      ]
     },
     "execution_count": 27,
     "metadata": {},
     "output_type": "execute_result"
    }
   ],
   "source": [
    "a[0:3]"
   ]
  },
  {
   "cell_type": "code",
   "execution_count": 28,
   "id": "ff156c0e",
   "metadata": {},
   "outputs": [
    {
     "data": {
      "text/plain": [
       "[5, 'abc']"
      ]
     },
     "execution_count": 28,
     "metadata": {},
     "output_type": "execute_result"
    }
   ],
   "source": [
    "a[4:6]"
   ]
  },
  {
   "cell_type": "code",
   "execution_count": 29,
   "id": "37164349",
   "metadata": {},
   "outputs": [
    {
     "data": {
      "text/plain": [
       "[4, 5, 'abc', 6]"
      ]
     },
     "execution_count": 29,
     "metadata": {},
     "output_type": "execute_result"
    }
   ],
   "source": [
    "a[3:]"
   ]
  },
  {
   "cell_type": "code",
   "execution_count": 30,
   "id": "1865ff9b",
   "metadata": {},
   "outputs": [
    {
     "data": {
      "text/plain": [
       "[1, 2, 3]"
      ]
     },
     "execution_count": 30,
     "metadata": {},
     "output_type": "execute_result"
    }
   ],
   "source": [
    "a[:3]"
   ]
  },
  {
   "cell_type": "code",
   "execution_count": 31,
   "id": "1dd91ce5",
   "metadata": {},
   "outputs": [
    {
     "data": {
      "text/plain": [
       "[6, 'abc', 5]"
      ]
     },
     "execution_count": 31,
     "metadata": {},
     "output_type": "execute_result"
    }
   ],
   "source": [
    "a[10:3:-1] # 10 is not the last index it will take the last element"
   ]
  },
  {
   "cell_type": "code",
   "execution_count": 32,
   "id": "7c821460",
   "metadata": {},
   "outputs": [
    {
     "data": {
      "text/plain": [
       "[6, 'abc', 5]"
      ]
     },
     "execution_count": 32,
     "metadata": {},
     "output_type": "execute_result"
    }
   ],
   "source": [
    "a[:3:-1] # In this case it will start from last and go till 3+1 "
   ]
  },
  {
   "cell_type": "code",
   "execution_count": 33,
   "id": "24f181b6",
   "metadata": {},
   "outputs": [
    {
     "data": {
      "text/plain": [
       "[6, 'abc', 5, 4, 3, 2, 1]"
      ]
     },
     "execution_count": 33,
     "metadata": {},
     "output_type": "execute_result"
    }
   ],
   "source": [
    "a[::-1] # Go from end to start"
   ]
  },
  {
   "cell_type": "code",
   "execution_count": 36,
   "id": "934d63f8",
   "metadata": {},
   "outputs": [
    {
     "data": {
      "text/plain": [
       "[6, 'abc', 5, 4, 3, 2, 1]"
      ]
     },
     "execution_count": 36,
     "metadata": {},
     "output_type": "execute_result"
    }
   ],
   "source": [
    "a.reverse()\n",
    "a\n",
    "# It will change a"
   ]
  },
  {
   "cell_type": "markdown",
   "id": "84a82aff",
   "metadata": {},
   "source": [
    "## Multi dimensional List"
   ]
  },
  {
   "cell_type": "raw",
   "id": "8f340d36",
   "metadata": {},
   "source": [
    "[[] , [] , [] , []  , []]"
   ]
  },
  {
   "cell_type": "code",
   "execution_count": 38,
   "id": "eb61fd16",
   "metadata": {},
   "outputs": [
    {
     "data": {
      "text/plain": [
       "[[1], [2, 3], [4, 5, 6], ['abc', 7, 8.0, False]]"
      ]
     },
     "execution_count": 38,
     "metadata": {},
     "output_type": "execute_result"
    }
   ],
   "source": [
    "a = [[1],[2,3],[4,5,6],[\"abc\" , 7 , 8.0 , False]]\n",
    "a"
   ]
  },
  {
   "cell_type": "code",
   "execution_count": 39,
   "id": "5304b2ae",
   "metadata": {},
   "outputs": [
    {
     "data": {
      "text/plain": [
       "[1]"
      ]
     },
     "execution_count": 39,
     "metadata": {},
     "output_type": "execute_result"
    }
   ],
   "source": [
    "a[0]"
   ]
  },
  {
   "cell_type": "code",
   "execution_count": 40,
   "id": "a4068dd5",
   "metadata": {},
   "outputs": [
    {
     "data": {
      "text/plain": [
       "1"
      ]
     },
     "execution_count": 40,
     "metadata": {},
     "output_type": "execute_result"
    }
   ],
   "source": [
    "a[0][0]"
   ]
  },
  {
   "cell_type": "code",
   "execution_count": 41,
   "id": "52d8d169",
   "metadata": {},
   "outputs": [
    {
     "data": {
      "text/plain": [
       "4"
      ]
     },
     "execution_count": 41,
     "metadata": {},
     "output_type": "execute_result"
    }
   ],
   "source": [
    "len(a)"
   ]
  },
  {
   "cell_type": "code",
   "execution_count": 42,
   "id": "028d5ef1",
   "metadata": {},
   "outputs": [
    {
     "data": {
      "text/plain": [
       "1"
      ]
     },
     "execution_count": 42,
     "metadata": {},
     "output_type": "execute_result"
    }
   ],
   "source": [
    "len(a[0])"
   ]
  },
  {
   "cell_type": "markdown",
   "id": "e3e7395e",
   "metadata": {},
   "source": [
    "## Input in multi Dimensional list"
   ]
  },
  {
   "cell_type": "raw",
   "id": "9254ffc6",
   "metadata": {},
   "source": [
    "3 4\n",
    "1 2 3 4\n",
    "5 6 7 8\n",
    "9 10 11 12"
   ]
  },
  {
   "cell_type": "code",
   "execution_count": null,
   "id": "3c3f22df",
   "metadata": {},
   "outputs": [],
   "source": [
    "sizes = input().split()\n",
    "n = int(sizes[0])\n",
    "m = int(sizes[1])\n",
    "l = []\n",
    "for i in range(m):\n",
    "    a = [int(i) for i in input().split()]\n",
    "    l.append(a)\n",
    "l"
   ]
  },
  {
   "cell_type": "markdown",
   "id": "6bdef5ef",
   "metadata": {},
   "source": [
    "## Method 2"
   ]
  },
  {
   "cell_type": "raw",
   "id": "48d10a83",
   "metadata": {},
   "source": [
    "2 3\n",
    "1\n",
    "2\n",
    "3\n",
    "4\n",
    "5\n",
    "6"
   ]
  },
  {
   "cell_type": "code",
   "execution_count": 45,
   "id": "1c340c44",
   "metadata": {},
   "outputs": [
    {
     "name": "stdout",
     "output_type": "stream",
     "text": [
      "3 4\n",
      "1\n",
      "2\n",
      "3\n",
      "4\n",
      "5\n",
      "6\n",
      "7\n",
      "8\n",
      "9\n",
      "10\n",
      "11\n",
      "12\n"
     ]
    },
    {
     "data": {
      "text/plain": [
       "[[1, 2, 3], [4, 5, 6], [7, 8, 9], [10, 11, 12]]"
      ]
     },
     "execution_count": 45,
     "metadata": {},
     "output_type": "execute_result"
    }
   ],
   "source": [
    "sizes = input().split()\n",
    "n = int(sizes[0])\n",
    "m = int(sizes[1])\n",
    "l = []\n",
    "for i in range(m):\n",
    "    next_row = []\n",
    "    for j in range(n):\n",
    "        element = int(input())\n",
    "        next_row.append(element)\n",
    "    l.append(next_row)\n",
    "l"
   ]
  },
  {
   "cell_type": "markdown",
   "id": "5e04da43",
   "metadata": {},
   "source": [
    "## Method 3"
   ]
  },
  {
   "cell_type": "code",
   "execution_count": 46,
   "id": "d30f565b",
   "metadata": {},
   "outputs": [
    {
     "name": "stdout",
     "output_type": "stream",
     "text": [
      "3 4\n",
      "1 2 3 4 5 6 7 8 9 10 11 12\n"
     ]
    },
    {
     "data": {
      "text/plain": [
       "[[1, 2, 3], [4, 5, 6], [7, 8, 9], [10, 11, 12]]"
      ]
     },
     "execution_count": 46,
     "metadata": {},
     "output_type": "execute_result"
    }
   ],
   "source": [
    "sizes = input().split()\n",
    "n = int(sizes[0])\n",
    "m = int(sizes[1])\n",
    "l_id = [int(i) for i in input().split()]\n",
    "l = []\n",
    "for i in range(m):\n",
    "    start_index = n*i\n",
    "    end_index = n*(i+1)\n",
    "    next_row = l_id[start_index:end_index]\n",
    "    l.append(next_row)\n",
    "l"
   ]
  },
  {
   "cell_type": "markdown",
   "id": "1f06ee23",
   "metadata": {},
   "source": [
    "## Slicing in 2-D List"
   ]
  },
  {
   "cell_type": "code",
   "execution_count": 48,
   "id": "eb3f8ae4",
   "metadata": {},
   "outputs": [
    {
     "data": {
      "text/plain": [
       "[[4, 5, 6], [7, 8, 9]]"
      ]
     },
     "execution_count": 48,
     "metadata": {},
     "output_type": "execute_result"
    }
   ],
   "source": [
    "l[1:3]"
   ]
  },
  {
   "cell_type": "markdown",
   "id": "00e07666",
   "metadata": {},
   "source": [
    "## Creating 2-D list other way"
   ]
  },
  {
   "cell_type": "code",
   "execution_count": 53,
   "id": "f39b85ef",
   "metadata": {},
   "outputs": [
    {
     "data": {
      "text/plain": [
       "[[0, 1, 2, 3, 4],\n",
       " [0, 1, 2, 3, 4],\n",
       " [0, 1, 2, 3, 4],\n",
       " [0, 1, 2, 3, 4],\n",
       " [0, 1, 2, 3, 4],\n",
       " [0, 1, 2, 3, 4],\n",
       " [0, 1, 2, 3, 4],\n",
       " [0, 1, 2, 3, 4],\n",
       " [0, 1, 2, 3, 4],\n",
       " [0, 1, 2, 3, 4]]"
      ]
     },
     "execution_count": 53,
     "metadata": {},
     "output_type": "execute_result"
    }
   ],
   "source": [
    "a = [[j for j in range(5)] for i in range(10)]\n",
    "a"
   ]
  },
  {
   "cell_type": "code",
   "execution_count": 58,
   "id": "97830bb6",
   "metadata": {},
   "outputs": [
    {
     "name": "stdout",
     "output_type": "stream",
     "text": [
      "0\n",
      "10\n",
      "20\n",
      "30\n",
      "40\n"
     ]
    }
   ],
   "source": [
    "def print_column_wise_sum(a):\n",
    "    m = len(a)\n",
    "    if m == 0:\n",
    "        return\n",
    "    n = len(a[0])\n",
    "    for i in range(n):\n",
    "        sum = 0;\n",
    "        for j in range(m):\n",
    "            sum += a[j][i]\n",
    "        print(sum)\n",
    "print_column_wise_sum(a)"
   ]
  },
  {
   "cell_type": "code",
   "execution_count": null,
   "id": "7d15f355",
   "metadata": {},
   "outputs": [],
   "source": []
  }
 ],
 "metadata": {
  "kernelspec": {
   "display_name": "Python 3 (ipykernel)",
   "language": "python",
   "name": "python3"
  },
  "language_info": {
   "codemirror_mode": {
    "name": "ipython",
    "version": 3
   },
   "file_extension": ".py",
   "mimetype": "text/x-python",
   "name": "python",
   "nbconvert_exporter": "python",
   "pygments_lexer": "ipython3",
   "version": "3.11.5"
  }
 },
 "nbformat": 4,
 "nbformat_minor": 5
}
