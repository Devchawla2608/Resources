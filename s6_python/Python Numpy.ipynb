{
 "cells": [
  {
   "cell_type": "raw",
   "id": "c439c6c6",
   "metadata": {},
   "source": [
    "Numpy - Package for mathmatical python\n",
    "Numpy is kind of list but very fast"
   ]
  },
  {
   "cell_type": "raw",
   "id": "aef96450",
   "metadata": {},
   "source": [
    "Numpy - List which has element of same type that is why numpy is very fast becuase it takes less time because we need not to save metadata about data\n",
    "In Numpy we generally takes about numbers"
   ]
  },
  {
   "cell_type": "code",
   "execution_count": 2,
   "id": "3107a933",
   "metadata": {},
   "outputs": [],
   "source": [
    "import numpy as np"
   ]
  },
  {
   "cell_type": "code",
   "execution_count": 19,
   "id": "b26522cb",
   "metadata": {},
   "outputs": [],
   "source": [
    "a = np.array([1,2,3,4,5,6,7])\n",
    "a_temp = np.array([1,2,3,4,5,6,7] , dtype='f')\n",
    "# np using list"
   ]
  },
  {
   "cell_type": "code",
   "execution_count": 20,
   "id": "9b203f3e",
   "metadata": {},
   "outputs": [],
   "source": [
    "b = np.array((2,3,4,5,6))\n",
    "b_temp = np.array((2,3,4,5,6) , dtype='f')\n",
    "# np using tuple"
   ]
  },
  {
   "cell_type": "code",
   "execution_count": 21,
   "id": "9601f452",
   "metadata": {},
   "outputs": [
    {
     "name": "stdout",
     "output_type": "stream",
     "text": [
      "<class 'numpy.ndarray'>\n"
     ]
    }
   ],
   "source": [
    "print(type(a))"
   ]
  },
  {
   "cell_type": "code",
   "execution_count": 22,
   "id": "4656bd0e",
   "metadata": {},
   "outputs": [
    {
     "name": "stdout",
     "output_type": "stream",
     "text": [
      "<class 'numpy.ndarray'>\n"
     ]
    }
   ],
   "source": [
    "print(type(b))"
   ]
  },
  {
   "cell_type": "markdown",
   "id": "140d03bc",
   "metadata": {},
   "source": [
    "## Data type"
   ]
  },
  {
   "cell_type": "code",
   "execution_count": 23,
   "id": "3fd4484a",
   "metadata": {},
   "outputs": [
    {
     "data": {
      "text/plain": [
       "dtype('int32')"
      ]
     },
     "execution_count": 23,
     "metadata": {},
     "output_type": "execute_result"
    }
   ],
   "source": [
    "a.dtype"
   ]
  },
  {
   "cell_type": "code",
   "execution_count": 25,
   "id": "3d8df1a9",
   "metadata": {},
   "outputs": [
    {
     "data": {
      "text/plain": [
       "dtype('float32')"
      ]
     },
     "execution_count": 25,
     "metadata": {},
     "output_type": "execute_result"
    }
   ],
   "source": [
    "b.dtype\n",
    "b_temp.dtype"
   ]
  },
  {
   "cell_type": "raw",
   "id": "d30136e6",
   "metadata": {},
   "source": [
    "All elements in np array must have same data type\n",
    "It can not store hetrogenous data"
   ]
  },
  {
   "cell_type": "markdown",
   "id": "371617e7",
   "metadata": {},
   "source": [
    "## Dimenshion"
   ]
  },
  {
   "cell_type": "raw",
   "id": "84419f6a",
   "metadata": {},
   "source": [
    "Total no of indexes which are used to find and access \n",
    "the elements"
   ]
  },
  {
   "cell_type": "markdown",
   "id": "010caa1c",
   "metadata": {},
   "source": [
    "## Two Dimenshional Array"
   ]
  },
  {
   "cell_type": "code",
   "execution_count": 26,
   "id": "87d77282",
   "metadata": {},
   "outputs": [],
   "source": [
    "a = np.array([[1,2,3] , [4,5,6]])"
   ]
  },
  {
   "cell_type": "markdown",
   "id": "f5405074",
   "metadata": {},
   "source": [
    "## Check no of dimenshions"
   ]
  },
  {
   "cell_type": "code",
   "execution_count": 27,
   "id": "8871e9e3",
   "metadata": {},
   "outputs": [
    {
     "data": {
      "text/plain": [
       "2"
      ]
     },
     "execution_count": 27,
     "metadata": {},
     "output_type": "execute_result"
    }
   ],
   "source": [
    "a.ndim"
   ]
  },
  {
   "cell_type": "markdown",
   "id": "1fc00d2a",
   "metadata": {},
   "source": [
    "## How to access any element in multi dimenshion array"
   ]
  },
  {
   "cell_type": "code",
   "execution_count": 28,
   "id": "f5396daa",
   "metadata": {},
   "outputs": [
    {
     "data": {
      "text/plain": [
       "5"
      ]
     },
     "execution_count": 28,
     "metadata": {},
     "output_type": "execute_result"
    }
   ],
   "source": [
    "a[1,1]"
   ]
  },
  {
   "cell_type": "markdown",
   "id": "defeaacc",
   "metadata": {},
   "source": [
    "## Note - If we are creating multi dimenshion array then all the one dimenshion array should have equall no of elements"
   ]
  },
  {
   "cell_type": "code",
   "execution_count": 30,
   "id": "05603135",
   "metadata": {},
   "outputs": [
    {
     "data": {
      "text/plain": [
       "2"
      ]
     },
     "execution_count": 30,
     "metadata": {},
     "output_type": "execute_result"
    }
   ],
   "source": [
    "B = np.array([[1,2,3] , [2,3,4]])\n",
    "B.ndim"
   ]
  },
  {
   "cell_type": "code",
   "execution_count": 31,
   "id": "2522806d",
   "metadata": {},
   "outputs": [
    {
     "data": {
      "text/plain": [
       "4"
      ]
     },
     "execution_count": 31,
     "metadata": {},
     "output_type": "execute_result"
    }
   ],
   "source": [
    "B[1,2]"
   ]
  },
  {
   "cell_type": "markdown",
   "id": "2e1781a3",
   "metadata": {},
   "source": [
    "## Three Dimenshional Array"
   ]
  },
  {
   "cell_type": "code",
   "execution_count": 32,
   "id": "25e060f5",
   "metadata": {},
   "outputs": [],
   "source": [
    "c = np.array([[[1,2,3],[4,5,6]],[[-1,-2,-3],[-4,-5,-6]]])"
   ]
  },
  {
   "cell_type": "code",
   "execution_count": 33,
   "id": "251b048c",
   "metadata": {},
   "outputs": [
    {
     "data": {
      "text/plain": [
       "array([[[ 1,  2,  3],\n",
       "        [ 4,  5,  6]],\n",
       "\n",
       "       [[-1, -2, -3],\n",
       "        [-4, -5, -6]]])"
      ]
     },
     "execution_count": 33,
     "metadata": {},
     "output_type": "execute_result"
    }
   ],
   "source": [
    "c"
   ]
  },
  {
   "cell_type": "code",
   "execution_count": 34,
   "id": "ee35e4c2",
   "metadata": {},
   "outputs": [
    {
     "data": {
      "text/plain": [
       "3"
      ]
     },
     "execution_count": 34,
     "metadata": {},
     "output_type": "execute_result"
    }
   ],
   "source": [
    "c.ndim"
   ]
  },
  {
   "cell_type": "code",
   "execution_count": 35,
   "id": "812907c4",
   "metadata": {},
   "outputs": [
    {
     "data": {
      "text/plain": [
       "-2"
      ]
     },
     "execution_count": 35,
     "metadata": {},
     "output_type": "execute_result"
    }
   ],
   "source": [
    "c[1,0,1]"
   ]
  },
  {
   "cell_type": "code",
   "execution_count": 36,
   "id": "dd10627f",
   "metadata": {},
   "outputs": [
    {
     "data": {
      "text/plain": [
       "numpy.ndarray"
      ]
     },
     "execution_count": 36,
     "metadata": {},
     "output_type": "execute_result"
    }
   ],
   "source": [
    "type(c)"
   ]
  },
  {
   "cell_type": "markdown",
   "id": "cb77b828",
   "metadata": {},
   "source": [
    "## Shape"
   ]
  },
  {
   "cell_type": "code",
   "execution_count": 37,
   "id": "5484999a",
   "metadata": {},
   "outputs": [
    {
     "data": {
      "text/plain": [
       "(2, 2, 3)"
      ]
     },
     "execution_count": 37,
     "metadata": {},
     "output_type": "execute_result"
    }
   ],
   "source": [
    "c.shape\n",
    "# It will return a tuple which will have the size of \n",
    "# each dimenshion"
   ]
  },
  {
   "cell_type": "code",
   "execution_count": null,
   "id": "eba2c416",
   "metadata": {},
   "outputs": [],
   "source": [
    "c.shape[0] # - total no of two dimenshional arrays\n",
    "c.shape[1] # - In each two d array how many oneD array\n",
    "c.shape[2] # - In each oneD array how many elements are"
   ]
  },
  {
   "cell_type": "code",
   "execution_count": 38,
   "id": "83a41e68",
   "metadata": {},
   "outputs": [
    {
     "data": {
      "text/plain": [
       "1"
      ]
     },
     "execution_count": 38,
     "metadata": {},
     "output_type": "execute_result"
    }
   ],
   "source": [
    "A = np.array([2])\n",
    "A.ndim\n",
    "# Here we are passing the list means oned array"
   ]
  },
  {
   "cell_type": "code",
   "execution_count": 40,
   "id": "be334d39",
   "metadata": {},
   "outputs": [
    {
     "data": {
      "text/plain": [
       "0"
      ]
     },
     "execution_count": 40,
     "metadata": {},
     "output_type": "execute_result"
    }
   ],
   "source": [
    "B = np.array(3)\n",
    "B.ndim\n",
    "# Here we are passing only one element which is 0D \n",
    "# and if we combine that will make 1D array"
   ]
  },
  {
   "cell_type": "markdown",
   "id": "00e9854c",
   "metadata": {},
   "source": [
    "## Total Size"
   ]
  },
  {
   "cell_type": "code",
   "execution_count": 41,
   "id": "2e734b24",
   "metadata": {},
   "outputs": [
    {
     "data": {
      "text/plain": [
       "12"
      ]
     },
     "execution_count": 41,
     "metadata": {},
     "output_type": "execute_result"
    }
   ],
   "source": [
    "c.size"
   ]
  },
  {
   "cell_type": "markdown",
   "id": "8a9b0ce7",
   "metadata": {},
   "source": [
    "## Size in bytes"
   ]
  },
  {
   "cell_type": "code",
   "execution_count": 43,
   "id": "f311fb5c",
   "metadata": {},
   "outputs": [
    {
     "data": {
      "text/plain": [
       "48"
      ]
     },
     "execution_count": 43,
     "metadata": {},
     "output_type": "execute_result"
    }
   ],
   "source": [
    "c.nbytes"
   ]
  },
  {
   "cell_type": "markdown",
   "id": "fd02868f",
   "metadata": {},
   "source": [
    "## Functions in Numpy"
   ]
  },
  {
   "cell_type": "markdown",
   "id": "6982765d",
   "metadata": {},
   "source": [
    "## Zeros function helps to create array with all the elements are zeros"
   ]
  },
  {
   "cell_type": "code",
   "execution_count": null,
   "id": "c4dcc627",
   "metadata": {},
   "outputs": [],
   "source": [
    "z = np.zeros"
   ]
  },
  {
   "cell_type": "markdown",
   "id": "d59976e9",
   "metadata": {},
   "source": [
    "## Arange"
   ]
  },
  {
   "cell_type": "code",
   "execution_count": 46,
   "id": "44b13b71",
   "metadata": {},
   "outputs": [
    {
     "data": {
      "text/plain": [
       "array([ 0,  1,  2,  3,  4,  5,  6,  7,  8,  9, 10, 11, 12, 13, 14, 15, 16,\n",
       "       17, 18, 19, 20, 21, 22, 23, 24, 25, 26, 27, 28, 29, 30, 31, 32, 33,\n",
       "       34, 35, 36, 37, 38, 39, 40, 41, 42, 43, 44, 45, 46, 47, 48, 49, 50,\n",
       "       51, 52, 53, 54, 55, 56, 57, 58, 59, 60, 61, 62, 63, 64, 65, 66, 67,\n",
       "       68, 69, 70, 71, 72, 73, 74, 75, 76, 77, 78, 79, 80, 81, 82, 83, 84,\n",
       "       85, 86, 87, 88, 89, 90, 91, 92, 93, 94, 95, 96, 97, 98, 99])"
      ]
     },
     "execution_count": 46,
     "metadata": {},
     "output_type": "execute_result"
    }
   ],
   "source": [
    "A = np.arange(100)\n",
    "A"
   ]
  },
  {
   "cell_type": "code",
   "execution_count": 45,
   "id": "8c5db883",
   "metadata": {},
   "outputs": [
    {
     "data": {
      "text/plain": [
       "array([20, 21, 22, 23, 24, 25, 26, 27, 28, 29, 30, 31, 32, 33, 34, 35, 36,\n",
       "       37, 38, 39, 40, 41, 42, 43, 44, 45, 46, 47, 48, 49, 50, 51, 52, 53,\n",
       "       54, 55, 56, 57, 58, 59, 60, 61, 62, 63, 64, 65, 66, 67, 68, 69, 70,\n",
       "       71, 72, 73, 74, 75, 76, 77, 78, 79, 80, 81, 82, 83, 84, 85, 86, 87,\n",
       "       88, 89, 90, 91, 92, 93, 94, 95, 96, 97, 98, 99])"
      ]
     },
     "execution_count": 45,
     "metadata": {},
     "output_type": "execute_result"
    }
   ],
   "source": [
    "A = np.arange(20,100)\n",
    "A"
   ]
  },
  {
   "cell_type": "code",
   "execution_count": 47,
   "id": "20cbdc74",
   "metadata": {},
   "outputs": [
    {
     "data": {
      "text/plain": [
       "array([20, 22, 24, 26, 28, 30, 32, 34, 36, 38, 40, 42, 44, 46, 48, 50, 52,\n",
       "       54, 56, 58, 60, 62, 64, 66, 68, 70, 72, 74, 76, 78, 80, 82, 84, 86,\n",
       "       88, 90, 92, 94, 96, 98])"
      ]
     },
     "execution_count": 47,
     "metadata": {},
     "output_type": "execute_result"
    }
   ],
   "source": [
    "A = np.arange(20,100,2)\n",
    "A"
   ]
  },
  {
   "cell_type": "markdown",
   "id": "ccf78664",
   "metadata": {},
   "source": [
    "## Range"
   ]
  },
  {
   "cell_type": "code",
   "execution_count": 48,
   "id": "7a3e8dce",
   "metadata": {},
   "outputs": [
    {
     "name": "stdout",
     "output_type": "stream",
     "text": [
      "range(0, 10)\n"
     ]
    }
   ],
   "source": [
    "print(range(10))\n",
    "# - It nevers creates a list . It generated numbers one\n",
    "# by one It is kind of iterator"
   ]
  },
  {
   "cell_type": "code",
   "execution_count": 49,
   "id": "d8965df8",
   "metadata": {},
   "outputs": [
    {
     "name": "stdout",
     "output_type": "stream",
     "text": [
      "[0, 1, 2, 3, 4, 5, 6, 7, 8, 9]\n"
     ]
    }
   ],
   "source": [
    "print(list(range(10)))"
   ]
  },
  {
   "cell_type": "markdown",
   "id": "a816a622",
   "metadata": {},
   "source": [
    "## Random"
   ]
  },
  {
   "cell_type": "raw",
   "id": "47963845",
   "metadata": {},
   "source": [
    "Np is a package which has subpackage where random is subpackage and permutation is method inside it"
   ]
  },
  {
   "cell_type": "code",
   "execution_count": null,
   "id": "33016b03",
   "metadata": {},
   "outputs": [],
   "source": [
    "# It will give us a random array "
   ]
  },
  {
   "cell_type": "code",
   "execution_count": 4,
   "id": "0a4e8f04",
   "metadata": {},
   "outputs": [
    {
     "data": {
      "text/plain": [
       "array([5, 7, 9, 4, 6, 8, 3, 2, 0, 1])"
      ]
     },
     "execution_count": 4,
     "metadata": {},
     "output_type": "execute_result"
    }
   ],
   "source": [
    "A = np.random.permutation(np.arange(10))\n",
    "A "
   ]
  },
  {
   "cell_type": "markdown",
   "id": "a5c0387b",
   "metadata": {},
   "source": [
    "## Rand Int"
   ]
  },
  {
   "cell_type": "code",
   "execution_count": 5,
   "id": "1566567a",
   "metadata": {},
   "outputs": [],
   "source": [
    "np.random.randint?"
   ]
  },
  {
   "cell_type": "code",
   "execution_count": 8,
   "id": "ac7fe89d",
   "metadata": {},
   "outputs": [
    {
     "name": "stdout",
     "output_type": "stream",
     "text": [
      "<class 'int'>\n",
      "29\n"
     ]
    }
   ],
   "source": [
    "v = np.random.randint(20,30)\n",
    "print(type(v))\n",
    "print(v)"
   ]
  },
  {
   "cell_type": "code",
   "execution_count": null,
   "id": "baf5db4b",
   "metadata": {},
   "outputs": [],
   "source": [
    "A = np.random.rand(1000)\n",
    "A\n",
    "# Random number between 0 - 1 "
   ]
  },
  {
   "cell_type": "code",
   "execution_count": 11,
   "id": "f616cf2f",
   "metadata": {},
   "outputs": [],
   "source": [
    "import matplotlib.pyplot as plt"
   ]
  },
  {
   "cell_type": "code",
   "execution_count": 13,
   "id": "fabbd4e0",
   "metadata": {},
   "outputs": [
    {
     "data": {
      "text/plain": [
       "(array([10.,  8., 10.,  6., 11., 15.,  9.,  8., 16., 12.,  9., 12., 10.,\n",
       "         7., 10.,  4.,  7.,  7., 12.,  8.,  5., 10., 14., 12.,  9., 11.,\n",
       "        13.,  9., 14., 15., 12.,  4., 12.,  9., 13.,  7., 12., 17.,  8.,\n",
       "         7.,  8.,  6.,  9., 12.,  7., 16., 11.,  6., 13., 11., 14., 11.,\n",
       "         9.,  8.,  9., 10., 12.,  9., 14.,  8., 13.,  8., 19., 13., 11.,\n",
       "         4.,  9.,  5., 13.,  7.,  7., 11., 12., 10.,  9., 12.,  9., 13.,\n",
       "        10.,  5., 12., 12.,  6., 10.,  4., 10.,  7.,  4., 10., 10., 14.,\n",
       "         9., 10.,  7., 12., 10.,  8., 10.,  6., 22.]),\n",
       " array([0.00147654, 0.01146102, 0.02144549, 0.03142997, 0.04141445,\n",
       "        0.05139892, 0.0613834 , 0.07136788, 0.08135235, 0.09133683,\n",
       "        0.1013213 , 0.11130578, 0.12129026, 0.13127473, 0.14125921,\n",
       "        0.15124369, 0.16122816, 0.17121264, 0.18119712, 0.19118159,\n",
       "        0.20116607, 0.21115055, 0.22113502, 0.2311195 , 0.24110398,\n",
       "        0.25108845, 0.26107293, 0.27105741, 0.28104188, 0.29102636,\n",
       "        0.30101084, 0.31099531, 0.32097979, 0.33096426, 0.34094874,\n",
       "        0.35093322, 0.36091769, 0.37090217, 0.38088665, 0.39087112,\n",
       "        0.4008556 , 0.41084008, 0.42082455, 0.43080903, 0.44079351,\n",
       "        0.45077798, 0.46076246, 0.47074694, 0.48073141, 0.49071589,\n",
       "        0.50070037, 0.51068484, 0.52066932, 0.5306538 , 0.54063827,\n",
       "        0.55062275, 0.56060722, 0.5705917 , 0.58057618, 0.59056065,\n",
       "        0.60054513, 0.61052961, 0.62051408, 0.63049856, 0.64048304,\n",
       "        0.65046751, 0.66045199, 0.67043647, 0.68042094, 0.69040542,\n",
       "        0.7003899 , 0.71037437, 0.72035885, 0.73034333, 0.7403278 ,\n",
       "        0.75031228, 0.76029676, 0.77028123, 0.78026571, 0.79025019,\n",
       "        0.80023466, 0.81021914, 0.82020361, 0.83018809, 0.84017257,\n",
       "        0.85015704, 0.86014152, 0.870126  , 0.88011047, 0.89009495,\n",
       "        0.90007943, 0.9100639 , 0.92004838, 0.93003286, 0.94001733,\n",
       "        0.95000181, 0.95998629, 0.96997076, 0.97995524, 0.98993972,\n",
       "        0.99992419]),\n",
       " <BarContainer object of 100 artists>)"
      ]
     },
     "execution_count": 13,
     "metadata": {},
     "output_type": "execute_result"
    },
    {
     "data": {
      "image/png": "[encoded data removed]",
      "text/plain": [
       "<Figure size 640x480 with 1 Axes>"
      ]
     },
     "metadata": {},
     "output_type": "display_data"
    }
   ],
   "source": [
    "plt.hist(A , bins = 100)"
   ]
  },
  {
   "cell_type": "code",
   "execution_count": 15,
   "id": "231358f4",
   "metadata": {},
   "outputs": [
    {
     "data": {
      "text/plain": [
       "array([[0.70071814, 0.47130807, 0.52333973],\n",
       "       [0.40245078, 0.23842638, 0.30046216]])"
      ]
     },
     "execution_count": 15,
     "metadata": {},
     "output_type": "execute_result"
    }
   ],
   "source": [
    "c = np.random.rand(2,3)\n",
    "c"
   ]
  },
  {
   "cell_type": "code",
   "execution_count": 16,
   "id": "13d2e8db",
   "metadata": {},
   "outputs": [
    {
     "data": {
      "text/plain": [
       "2"
      ]
     },
     "execution_count": 16,
     "metadata": {},
     "output_type": "execute_result"
    }
   ],
   "source": [
    "c.ndim"
   ]
  },
  {
   "cell_type": "code",
   "execution_count": null,
   "id": "5bd206f4",
   "metadata": {},
   "outputs": [],
   "source": [
    "B = np.random.randn(10000)\n",
    "plt.hist(B , bins = 200)"
   ]
  },
  {
   "cell_type": "markdown",
   "id": "e1c600d8",
   "metadata": {},
   "source": [
    "## Reshape"
   ]
  },
  {
   "cell_type": "code",
   "execution_count": 9,
   "id": "e96ed50b",
   "metadata": {},
   "outputs": [
    {
     "data": {
      "text/plain": [
       "array([[5, 7, 9, 4, 6],\n",
       "       [8, 3, 2, 0, 1]])"
      ]
     },
     "execution_count": 9,
     "metadata": {},
     "output_type": "execute_result"
    }
   ],
   "source": [
    "B = A.reshape(2,5)\n",
    "B"
   ]
  },
  {
   "cell_type": "code",
   "execution_count": 17,
   "id": "89f524d8",
   "metadata": {},
   "outputs": [
    {
     "data": {
      "text/plain": [
       "array([[ 0,  1,  2,  3,  4,  5,  6,  7,  8,  9, 10, 11, 12, 13, 14, 15,\n",
       "        16, 17, 18, 19, 20, 21, 22, 23, 24],\n",
       "       [25, 26, 27, 28, 29, 30, 31, 32, 33, 34, 35, 36, 37, 38, 39, 40,\n",
       "        41, 42, 43, 44, 45, 46, 47, 48, 49],\n",
       "       [50, 51, 52, 53, 54, 55, 56, 57, 58, 59, 60, 61, 62, 63, 64, 65,\n",
       "        66, 67, 68, 69, 70, 71, 72, 73, 74],\n",
       "       [75, 76, 77, 78, 79, 80, 81, 82, 83, 84, 85, 86, 87, 88, 89, 90,\n",
       "        91, 92, 93, 94, 95, 96, 97, 98, 99]])"
      ]
     },
     "execution_count": 17,
     "metadata": {},
     "output_type": "execute_result"
    }
   ],
   "source": [
    "D = np.arange(100).reshape(4,25)\n",
    "D"
   ]
  },
  {
   "cell_type": "code",
   "execution_count": 19,
   "id": "f48301d6",
   "metadata": {},
   "outputs": [
    {
     "data": {
      "text/plain": [
       "(4, 25)"
      ]
     },
     "execution_count": 19,
     "metadata": {},
     "output_type": "execute_result"
    }
   ],
   "source": [
    "D.shape"
   ]
  },
  {
   "cell_type": "code",
   "execution_count": 21,
   "id": "0039165b",
   "metadata": {},
   "outputs": [
    {
     "data": {
      "text/plain": [
       "(4, 5, 5)"
      ]
     },
     "execution_count": 21,
     "metadata": {},
     "output_type": "execute_result"
    }
   ],
   "source": [
    "D = np.arange(100).reshape(4,5,5)\n",
    "D.shape"
   ]
  },
  {
   "cell_type": "code",
   "execution_count": 22,
   "id": "a2bff18d",
   "metadata": {},
   "outputs": [],
   "source": [
    "np.zeros?"
   ]
  },
  {
   "cell_type": "code",
   "execution_count": null,
   "id": "857dd5f6",
   "metadata": {},
   "outputs": [],
   "source": [
    "np.ones?"
   ]
  },
  {
   "cell_type": "code",
   "execution_count": 24,
   "id": "9f5add5f",
   "metadata": {},
   "outputs": [],
   "source": [
    "np.zeros_like?"
   ]
  },
  {
   "cell_type": "code",
   "execution_count": null,
   "id": "5f7e1c32",
   "metadata": {},
   "outputs": [],
   "source": []
  },
  {
   "cell_type": "markdown",
   "id": "c48abb8d",
   "metadata": {},
   "source": [
    "## Numpy(Slicing)"
   ]
  },
  {
   "cell_type": "raw",
   "id": "0c7f7ba0",
   "metadata": {},
   "source": [
    "There is a hugh difference between numpy slicing and normal\n",
    "list slicing that if \n",
    "b = a[1:5]\n",
    "if we change something in b after this that will be reflected\n",
    "in a as well becuase b is not copy it is pointing to same\n",
    "but in normal a copy will be created every time slicing done"
   ]
  },
  {
   "cell_type": "code",
   "execution_count": 25,
   "id": "04580ac1",
   "metadata": {},
   "outputs": [],
   "source": [
    "A= np.arange(100)"
   ]
  },
  {
   "cell_type": "code",
   "execution_count": 26,
   "id": "7274ed52",
   "metadata": {},
   "outputs": [
    {
     "data": {
      "text/plain": [
       "array([3, 4, 5, 6, 7, 8, 9])"
      ]
     },
     "execution_count": 26,
     "metadata": {},
     "output_type": "execute_result"
    }
   ],
   "source": [
    "B = A[3:10]\n",
    "B"
   ]
  },
  {
   "cell_type": "code",
   "execution_count": 27,
   "id": "c30433d6",
   "metadata": {},
   "outputs": [
    {
     "name": "stdout",
     "output_type": "stream",
     "text": [
      "[   0    1    2 -111    4    5    6    7    8    9   10   11   12   13\n",
      "   14   15   16   17   18   19   20   21   22   23   24   25   26   27\n",
      "   28   29   30   31   32   33   34   35   36   37   38   39   40   41\n",
      "   42   43   44   45   46   47   48   49   50   51   52   53   54   55\n",
      "   56   57   58   59   60   61   62   63   64   65   66   67   68   69\n",
      "   70   71   72   73   74   75   76   77   78   79   80   81   82   83\n",
      "   84   85   86   87   88   89   90   91   92   93   94   95   96   97\n",
      "   98   99]\n",
      "[-111    4    5    6    7    8    9]\n"
     ]
    }
   ],
   "source": [
    "B[0] = -111\n",
    "print(A)\n",
    "print(B)"
   ]
  },
  {
   "cell_type": "markdown",
   "id": "5dce9909",
   "metadata": {},
   "source": [
    "## Copy function"
   ]
  },
  {
   "cell_type": "code",
   "execution_count": 30,
   "id": "eadf25c2",
   "metadata": {},
   "outputs": [
    {
     "data": {
      "text/plain": [
       "array([-111,    4,    5,    6,    7,    8,    9])"
      ]
     },
     "execution_count": 30,
     "metadata": {},
     "output_type": "execute_result"
    }
   ],
   "source": [
    "B = A[3:10].copy()\n",
    "B\n",
    "# It will make new copy"
   ]
  },
  {
   "cell_type": "code",
   "execution_count": 31,
   "id": "4eb8107d",
   "metadata": {},
   "outputs": [
    {
     "data": {
      "text/plain": [
       "array([ 0,  5, 10, 15, 20, 25, 30, 35, 40, 45, 50, 55, 60, 65, 70, 75, 80,\n",
       "       85, 90, 95])"
      ]
     },
     "execution_count": 31,
     "metadata": {},
     "output_type": "execute_result"
    }
   ],
   "source": [
    "A[::5]"
   ]
  },
  {
   "cell_type": "code",
   "execution_count": 33,
   "id": "77725980",
   "metadata": {},
   "outputs": [
    {
     "data": {
      "text/plain": [
       "array([99, 94, 89, 84, 79, 74, 69, 64, 59, 54, 49, 44, 39, 34, 29, 24, 19,\n",
       "       14,  9,  4])"
      ]
     },
     "execution_count": 33,
     "metadata": {},
     "output_type": "execute_result"
    }
   ],
   "source": [
    "A[::-5]\n",
    "# Now start and end will get swapped"
   ]
  },
  {
   "cell_type": "code",
   "execution_count": 34,
   "id": "b8af9c33",
   "metadata": {},
   "outputs": [
    {
     "data": {
      "text/plain": [
       "array([  99,   98,   97,   96,   95,   94,   93,   92,   91,   90,   89,\n",
       "         88,   87,   86,   85,   84,   83,   82,   81,   80,   79,   78,\n",
       "         77,   76,   75,   74,   73,   72,   71,   70,   69,   68,   67,\n",
       "         66,   65,   64,   63,   62,   61,   60,   59,   58,   57,   56,\n",
       "         55,   54,   53,   52,   51,   50,   49,   48,   47,   46,   45,\n",
       "         44,   43,   42,   41,   40,   39,   38,   37,   36,   35,   34,\n",
       "         33,   32,   31,   30,   29,   28,   27,   26,   25,   24,   23,\n",
       "         22,   21,   20,   19,   18,   17,   16,   15,   14,   13,   12,\n",
       "         11,   10,    9,    8,    7,    6,    5,    4, -111,    2,    1,\n",
       "          0])"
      ]
     },
     "execution_count": 34,
     "metadata": {},
     "output_type": "execute_result"
    }
   ],
   "source": [
    "A[::-1]"
   ]
  },
  {
   "cell_type": "markdown",
   "id": "76346330",
   "metadata": {},
   "source": [
    "## How to find index of a particular element in array"
   ]
  },
  {
   "cell_type": "code",
   "execution_count": null,
   "id": "91b06ed0",
   "metadata": {},
   "outputs": [],
   "source": [
    "idx = np.argwhere(a)"
   ]
  },
  {
   "cell_type": "code",
   "execution_count": null,
   "id": "e9a42734",
   "metadata": {},
   "outputs": [],
   "source": []
  },
  {
   "cell_type": "code",
   "execution_count": null,
   "id": "3dbbe150",
   "metadata": {},
   "outputs": [],
   "source": []
  },
  {
   "cell_type": "code",
   "execution_count": null,
   "id": "3901d793",
   "metadata": {},
   "outputs": [],
   "source": []
  },
  {
   "cell_type": "code",
   "execution_count": null,
   "id": "617fd3b9",
   "metadata": {},
   "outputs": [],
   "source": []
  },
  {
   "cell_type": "code",
   "execution_count": null,
   "id": "59f21da8",
   "metadata": {},
   "outputs": [],
   "source": []
  }
 ],
 "metadata": {
  "kernelspec": {
   "display_name": "Python 3 (ipykernel)",
   "language": "python",
   "name": "python3"
  },
  "language_info": {
   "codemirror_mode": {
    "name": "ipython",
    "version": 3
   },
   "file_extension": ".py",
   "mimetype": "text/x-python",
   "name": "python",
   "nbconvert_exporter": "python",
   "pygments_lexer": "ipython3",
   "version": "3.11.5"
  }
 },
 "nbformat": 4,
 "nbformat_minor": 5
}
