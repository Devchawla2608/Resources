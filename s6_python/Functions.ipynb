{
 "cells": [
  {
   "cell_type": "markdown",
   "id": "80ba22d1",
   "metadata": {},
   "source": [
    "## Functions"
   ]
  },
  {
   "cell_type": "markdown",
   "id": "307f9230",
   "metadata": {},
   "source": [
    "## NCR"
   ]
  },
  {
   "cell_type": "code",
   "execution_count": 4,
   "id": "09bd21d4",
   "metadata": {},
   "outputs": [
    {
     "name": "stdout",
     "output_type": "stream",
     "text": [
      "4\n",
      "2\n"
     ]
    },
    {
     "data": {
      "text/plain": [
       "6"
      ]
     },
     "execution_count": 4,
     "metadata": {},
     "output_type": "execute_result"
    }
   ],
   "source": [
    "n = int(input())\n",
    "r = int(input())\n",
    "n_f = 1\n",
    "for i in range(1,n+1):\n",
    "    n_f = n_f*i\n",
    "r_f = 1\n",
    "for i in range(1,r+1):\n",
    "    r_f = r_f*i\n",
    "nr_f = 1\n",
    "for i in range(1,n-r+1):\n",
    "    nr_f = nr_f*i\n",
    "ans = n_f//(r_f*nr_f)\n",
    "ans"
   ]
  },
  {
   "cell_type": "markdown",
   "id": "4e377e91",
   "metadata": {},
   "source": [
    "## NCR"
   ]
  },
  {
   "cell_type": "code",
   "execution_count": 6,
   "id": "a3e7fab7",
   "metadata": {},
   "outputs": [],
   "source": [
    "def fact(n):\n",
    "    n_f = 1\n",
    "    for i in range(1,n+1):\n",
    "        n_f = n_f*i\n",
    "    return n_f"
   ]
  },
  {
   "cell_type": "code",
   "execution_count": 7,
   "id": "43d9ee4f",
   "metadata": {},
   "outputs": [
    {
     "name": "stdout",
     "output_type": "stream",
     "text": [
      "4\n",
      "2\n"
     ]
    },
    {
     "data": {
      "text/plain": [
       "6"
      ]
     },
     "execution_count": 7,
     "metadata": {},
     "output_type": "execute_result"
    }
   ],
   "source": [
    "n = int(input())\n",
    "r = int(input())\n",
    "n_f = fact(n)\n",
    "r_f = fact(r)\n",
    "nr_f = fact(n-r)\n",
    "ans = n_f//(r_f*nr_f)\n",
    "ans"
   ]
  },
  {
   "cell_type": "markdown",
   "id": "5c9b79e6",
   "metadata": {},
   "source": [
    "## Why do we need functions"
   ]
  },
  {
   "cell_type": "markdown",
   "id": "7561326b",
   "metadata": {},
   "source": [
    "## 1.) Readable\n",
    "## 2.) Less Repetation\n",
    "## 3.) Testing"
   ]
  },
  {
   "cell_type": "markdown",
   "id": "2c7214ee",
   "metadata": {},
   "source": [
    "## Prime or Not"
   ]
  },
  {
   "cell_type": "code",
   "execution_count": 12,
   "id": "5f515e22",
   "metadata": {},
   "outputs": [],
   "source": [
    "def isPrime(n):\n",
    "    for d in range(2 , n):\n",
    "        if n%d == 0:\n",
    "            break\n",
    "    else:\n",
    "        return True\n",
    "    return False"
   ]
  },
  {
   "cell_type": "code",
   "execution_count": 13,
   "id": "d9d73f3d",
   "metadata": {},
   "outputs": [
    {
     "name": "stdout",
     "output_type": "stream",
     "text": [
      "5\n",
      "Prime\n"
     ]
    }
   ],
   "source": [
    "n = int(input())\n",
    "if isPrime(n) == True:\n",
    "    print(\"Prime\")\n",
    "else:\n",
    "    print(\"Not Prime\")\n"
   ]
  },
  {
   "cell_type": "markdown",
   "id": "68c07299",
   "metadata": {},
   "source": [
    "## Print All Prime No 2 To N"
   ]
  },
  {
   "cell_type": "code",
   "execution_count": 18,
   "id": "3c437054",
   "metadata": {},
   "outputs": [],
   "source": [
    "def primeFrom2ToN(n):\n",
    "    for k in range(2 , n+1):\n",
    "        if isPrime(k) == True:\n",
    "            print(k)"
   ]
  },
  {
   "cell_type": "code",
   "execution_count": 19,
   "id": "e63f438d",
   "metadata": {},
   "outputs": [
    {
     "name": "stdout",
     "output_type": "stream",
     "text": [
      "5\n",
      "2\n",
      "3\n",
      "5\n"
     ]
    }
   ],
   "source": [
    "n = int(input())\n",
    "primeFrom2ToN(n)"
   ]
  },
  {
   "cell_type": "markdown",
   "id": "661898c1",
   "metadata": {},
   "source": [
    "## Ncr"
   ]
  },
  {
   "cell_type": "code",
   "execution_count": 20,
   "id": "6e08fe6d",
   "metadata": {},
   "outputs": [],
   "source": [
    "def fact(n):\n",
    "    n_f = 1\n",
    "    for i in range(1,n+1):\n",
    "        n_f = n_f*i\n",
    "    return n_f"
   ]
  },
  {
   "cell_type": "code",
   "execution_count": 21,
   "id": "ba48a5f9",
   "metadata": {},
   "outputs": [],
   "source": [
    "def NcR(n , r):\n",
    "    n_f = fact(n)\n",
    "    r_f = fact(r)\n",
    "    nr_f = fact(n-r)\n",
    "    ans = n_f//(r_f*nr_f)\n",
    "    return ans"
   ]
  },
  {
   "cell_type": "code",
   "execution_count": 23,
   "id": "43f25e91",
   "metadata": {},
   "outputs": [
    {
     "name": "stdout",
     "output_type": "stream",
     "text": [
      "5\n",
      "2\n",
      "10\n"
     ]
    }
   ],
   "source": [
    "n = int(input())\n",
    "r = int(input())\n",
    "print(NcR(n , r))"
   ]
  },
  {
   "cell_type": "markdown",
   "id": "e3673b43",
   "metadata": {},
   "source": [
    "## How function Calling works"
   ]
  },
  {
   "cell_type": "code",
   "execution_count": null,
   "id": "5803ac1d",
   "metadata": {},
   "outputs": [],
   "source": [
    "def B():\n",
    "    print(\"B\")"
   ]
  },
  {
   "cell_type": "code",
   "execution_count": null,
   "id": "ba9de322",
   "metadata": {},
   "outputs": [],
   "source": [
    "def C():\n",
    "    print(\"C\")"
   ]
  },
  {
   "cell_type": "code",
   "execution_count": null,
   "id": "f8cf05ff",
   "metadata": {},
   "outputs": [],
   "source": [
    "def A():\n",
    "    print(\"A\")\n",
    "    B()\n",
    "    C()"
   ]
  },
  {
   "cell_type": "code",
   "execution_count": null,
   "id": "275633e6",
   "metadata": {},
   "outputs": [],
   "source": [
    "A()"
   ]
  },
  {
   "cell_type": "code",
   "execution_count": null,
   "id": "6ecea722",
   "metadata": {},
   "outputs": [],
   "source": [
    "# All implement will be implemented using call stack - First in last out"
   ]
  },
  {
   "cell_type": "markdown",
   "id": "1a06a0e1",
   "metadata": {},
   "source": [
    "## Function With List"
   ]
  },
  {
   "cell_type": "code",
   "execution_count": 25,
   "id": "eb2fcf96",
   "metadata": {},
   "outputs": [
    {
     "data": {
      "text/plain": [
       "10"
      ]
     },
     "execution_count": 25,
     "metadata": {},
     "output_type": "execute_result"
    }
   ],
   "source": [
    "def increment(i):\n",
    "    i = i + 1\n",
    "k = 10\n",
    "increment(k)\n",
    "k\n",
    "# K is not changed because if we change i = i + 1 then \n",
    "# it will create new storage and then i will point to that storage"
   ]
  },
  {
   "cell_type": "code",
   "execution_count": 26,
   "id": "22cb7004",
   "metadata": {},
   "outputs": [
    {
     "data": {
      "text/plain": [
       "[2, 2, 3]"
      ]
     },
     "execution_count": 26,
     "metadata": {},
     "output_type": "execute_result"
    }
   ],
   "source": [
    "def increment_list(l):\n",
    "    l[0] = l[0] + 1\n",
    "a = [1,2,3]\n",
    "increment_list(a)\n",
    "a\n",
    "# In case of list the value of index 0 will changed, we did'nt changed the list"
   ]
  },
  {
   "cell_type": "code",
   "execution_count": 28,
   "id": "21a34bac",
   "metadata": {},
   "outputs": [
    {
     "data": {
      "text/plain": [
       "[1, 2, 3]"
      ]
     },
     "execution_count": 28,
     "metadata": {},
     "output_type": "execute_result"
    }
   ],
   "source": [
    "def change_list(l):\n",
    "    l = [2]\n",
    "a = [1,2,3]\n",
    "change_list(a)\n",
    "a\n",
    "# If we make a variable to change the pointing then it will not change but if\n",
    "# we change the data then that will show"
   ]
  },
  {
   "cell_type": "code",
   "execution_count": 29,
   "id": "0aa3a54b",
   "metadata": {},
   "outputs": [],
   "source": [
    "# We can not change the string . strings are immutable"
   ]
  },
  {
   "cell_type": "code",
   "execution_count": 30,
   "id": "961be999",
   "metadata": {},
   "outputs": [
    {
     "data": {
      "text/plain": [
       "'def'"
      ]
     },
     "execution_count": 30,
     "metadata": {},
     "output_type": "execute_result"
    }
   ],
   "source": [
    "def change_string(s):\n",
    "    b = \"abc\"\n",
    "a = \"def\"\n",
    "change_string(a)\n",
    "a"
   ]
  },
  {
   "cell_type": "markdown",
   "id": "5666ee2a",
   "metadata": {},
   "source": [
    "## Return List from function"
   ]
  },
  {
   "cell_type": "code",
   "execution_count": 31,
   "id": "63196ea5",
   "metadata": {},
   "outputs": [
    {
     "data": {
      "text/plain": [
       "[10, 9, 8, 7, 6, 5, 4, 3, 2, 1]"
      ]
     },
     "execution_count": 31,
     "metadata": {},
     "output_type": "execute_result"
    }
   ],
   "source": [
    "def create_new_array(n):\n",
    "    l = []\n",
    "    for i in range(n , 0 , -1):\n",
    "        l.append(i)\n",
    "    return l\n",
    "l = create_new_array(10)\n",
    "l"
   ]
  },
  {
   "cell_type": "markdown",
   "id": "8e4fc6e7",
   "metadata": {},
   "source": [
    "## Swap Alternate"
   ]
  },
  {
   "cell_type": "code",
   "execution_count": null,
   "id": "b412c195",
   "metadata": {},
   "outputs": [],
   "source": []
  },
  {
   "cell_type": "markdown",
   "id": "94ade997",
   "metadata": {},
   "source": [
    "## Scope Of Variable"
   ]
  },
  {
   "cell_type": "raw",
   "id": "6e829b31",
   "metadata": {},
   "source": [
    "Scope are of two types\n",
    "1.) Local - Defined inside a function\n",
    "2.) Global - Outside any function"
   ]
  },
  {
   "cell_type": "code",
   "execution_count": 7,
   "id": "ceb6813a",
   "metadata": {
    "scrolled": true
   },
   "outputs": [
    {
     "name": "stdout",
     "output_type": "stream",
     "text": [
      "a1  10\n",
      "b1  12\n",
      "a1  10\n"
     ]
    },
    {
     "ename": "NameError",
     "evalue": "name 'b1' is not defined",
     "output_type": "error",
     "traceback": [
      "\u001b[1;31m---------------------------------------------------------------------------\u001b[0m",
      "\u001b[1;31mNameError\u001b[0m                                 Traceback (most recent call last)",
      "Cell \u001b[1;32mIn[7], line 8\u001b[0m\n\u001b[0;32m      6\u001b[0m f1()\n\u001b[0;32m      7\u001b[0m \u001b[38;5;28mprint\u001b[39m(\u001b[38;5;124m\"\u001b[39m\u001b[38;5;124ma1 \u001b[39m\u001b[38;5;124m\"\u001b[39m , a1)\n\u001b[1;32m----> 8\u001b[0m \u001b[38;5;28mprint\u001b[39m(\u001b[38;5;124m\"\u001b[39m\u001b[38;5;124mb1 \u001b[39m\u001b[38;5;124m\"\u001b[39m , b1)\n",
      "\u001b[1;31mNameError\u001b[0m: name 'b1' is not defined"
     ]
    }
   ],
   "source": [
    "a1 = 10 # Global Variable\n",
    "def f1():\n",
    "    b1 = 12 # Local Variable\n",
    "    print(\"a1 \" , a1) # Global Variable\n",
    "    print(\"b1 \" , b1) # Local Variable\n",
    "f1()\n",
    "print(\"a1 \" , a1) # Global Variable\n",
    "print(\"b1 \" , b1) # Local Variable\n",
    "# This last linne will give us an error with or without calling the function\n",
    "# Can not print local variable outside the function"
   ]
  },
  {
   "cell_type": "code",
   "execution_count": 10,
   "id": "e6d14452",
   "metadata": {},
   "outputs": [
    {
     "name": "stdout",
     "output_type": "stream",
     "text": [
      "a1  10\n",
      "b1  12\n",
      "a1  10\n"
     ]
    }
   ],
   "source": [
    "def f1():\n",
    "    b1 = 12  \n",
    "    print(\"a1 \" , a1)\n",
    "    print(\"b1 \" , b1) \n",
    "a1 = 10\n",
    "f1()\n",
    "print(\"a1 \" , a1) \n",
    "# We can access the global variable which is defined after the function and \n",
    "# before the function call"
   ]
  },
  {
   "cell_type": "code",
   "execution_count": 11,
   "id": "ff803e42",
   "metadata": {},
   "outputs": [
    {
     "name": "stdout",
     "output_type": "stream",
     "text": [
      "13\n",
      "15\n",
      "13\n"
     ]
    }
   ],
   "source": [
    "a = 13\n",
    "def f():\n",
    "    a = 15 # New Local variable will be created not the global variable\n",
    "    print(a)\n",
    "print(a)\n",
    "f()\n",
    "print(a)"
   ]
  },
  {
   "cell_type": "markdown",
   "id": "0d7fc10f",
   "metadata": {},
   "source": [
    "## Global Keyword"
   ]
  },
  {
   "cell_type": "code",
   "execution_count": 13,
   "id": "fc22a871",
   "metadata": {},
   "outputs": [
    {
     "name": "stdout",
     "output_type": "stream",
     "text": [
      "13\n",
      "15\n",
      "15\n"
     ]
    }
   ],
   "source": [
    "## If we want to use global inside the function then we have to use global \n",
    "# keyword\n",
    "a = 13\n",
    "def f():\n",
    "    global a \n",
    "    a = 15 # New Local variable will be created not the global variable\n",
    "    print(a)\n",
    "print(a)\n",
    "f()\n",
    "print(a)"
   ]
  },
  {
   "cell_type": "raw",
   "id": "32843758",
   "metadata": {},
   "source": [
    "If we want to use the local variable then we have to return the local variable"
   ]
  },
  {
   "cell_type": "code",
   "execution_count": 15,
   "id": "e8fd3a36",
   "metadata": {},
   "outputs": [
    {
     "name": "stdout",
     "output_type": "stream",
     "text": [
      "13\n",
      "15\n"
     ]
    }
   ],
   "source": [
    "a = 13\n",
    "def f(): \n",
    "    a = 15 \n",
    "    return a\n",
    "print(a)\n",
    "a = f()\n",
    "print(a)\n",
    "# Now the value of global variable will be changed"
   ]
  }
 ],
 "metadata": {
  "kernelspec": {
   "display_name": "Python 3 (ipykernel)",
   "language": "python",
   "name": "python3"
  },
  "language_info": {
   "codemirror_mode": {
    "name": "ipython",
    "version": 3
   },
   "file_extension": ".py",
   "mimetype": "text/x-python",
   "name": "python",
   "nbconvert_exporter": "python",
   "pygments_lexer": "ipython3",
   "version": "3.11.5"
  }
 },
 "nbformat": 4,
 "nbformat_minor": 5
}
