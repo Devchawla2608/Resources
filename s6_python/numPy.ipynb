{
 "cells": [
  {
   "cell_type": "markdown",
   "id": "16435698",
   "metadata": {},
   "source": [
    "# Why We use numPy array over List "
   ]
  },
  {
   "cell_type": "code",
   "execution_count": null,
   "id": "9d9aee2b",
   "metadata": {},
   "outputs": [],
   "source": [
    "# numPy(Memory) < list(Memory)\n",
    "# numPy(Faster) > list(Faster)\n",
    "# numPy(Convenience) >list(Convenience)\n",
    "# numPy(Functionality) >list(Functionality)"
   ]
  },
  {
   "cell_type": "markdown",
   "id": "b80638f2",
   "metadata": {},
   "source": [
    "# Why numPy arrays are faster than list in brief"
   ]
  },
  {
   "cell_type": "code",
   "execution_count": null,
   "id": "ca327d07",
   "metadata": {},
   "outputs": [],
   "source": [
    "# numPy arrays are faster Because ->> numPy library has a special\n",
    "# funcnality named vectorization in which it don't iterate the array\n",
    "# element by element it goes with chunks so it is fast and c and \n",
    "# fortlin also has this quality "
   ]
  },
  {
   "cell_type": "markdown",
   "id": "ed42b5c5",
   "metadata": {},
   "source": [
    "# More On numPy "
   ]
  },
  {
   "cell_type": "code",
   "execution_count": 49,
   "id": "ecda79ff",
   "metadata": {},
   "outputs": [
    {
     "name": "stdout",
     "output_type": "stream",
     "text": [
      "[1 2 3 4]\n",
      "<class 'numpy.ndarray'>\n"
     ]
    }
   ],
   "source": [
    "import numpy as np\n",
    "a = [1,2,3,4]\n",
    "b = np.array(a)\n",
    "print(b)\n",
    "print(type(b))"
   ]
  },
  {
   "cell_type": "code",
   "execution_count": 4,
   "id": "81f9fdea",
   "metadata": {},
   "outputs": [
    {
     "name": "stdout",
     "output_type": "stream",
     "text": [
      "['1' 'ram' '4.5']\n",
      "<class 'numpy.ndarray'>\n"
     ]
    }
   ],
   "source": [
    "import numpy as np\n",
    "a = [1,'ram' , 4.5]\n",
    "b = np.array(a)\n",
    "print(b)\n",
    "print(type(b))\n",
    "\n"
   ]
  },
  {
   "cell_type": "markdown",
   "id": "959f47c9",
   "metadata": {},
   "source": [
    "<!-- numPy array can store only homogenious elements so it change all the elements in string by default\n",
    "So we can change this default behaviour by giving an argument \n",
    "which is dtype  -->"
   ]
  },
  {
   "cell_type": "code",
   "execution_count": 6,
   "id": "87d9b734",
   "metadata": {},
   "outputs": [
    {
     "ename": "ValueError",
     "evalue": "invalid literal for int() with base 10: 'ram'",
     "output_type": "error",
     "traceback": [
      "\u001b[1;31m---------------------------------------------------------------------------\u001b[0m",
      "\u001b[1;31mValueError\u001b[0m                                Traceback (most recent call last)",
      "Input \u001b[1;32mIn [6]\u001b[0m, in \u001b[0;36m<cell line: 3>\u001b[1;34m()\u001b[0m\n\u001b[0;32m      1\u001b[0m \u001b[38;5;28;01mimport\u001b[39;00m \u001b[38;5;21;01mnumpy\u001b[39;00m \u001b[38;5;28;01mas\u001b[39;00m \u001b[38;5;21;01mnp\u001b[39;00m\n\u001b[0;32m      2\u001b[0m a \u001b[38;5;241m=\u001b[39m [\u001b[38;5;241m1\u001b[39m,\u001b[38;5;124m'\u001b[39m\u001b[38;5;124mram\u001b[39m\u001b[38;5;124m'\u001b[39m , \u001b[38;5;241m4.5\u001b[39m]\n\u001b[1;32m----> 3\u001b[0m b \u001b[38;5;241m=\u001b[39m \u001b[43mnp\u001b[49m\u001b[38;5;241;43m.\u001b[39;49m\u001b[43marray\u001b[49m\u001b[43m(\u001b[49m\u001b[43ma\u001b[49m\u001b[43m \u001b[49m\u001b[43m,\u001b[49m\u001b[43m \u001b[49m\u001b[43mdtype\u001b[49m\u001b[43m \u001b[49m\u001b[38;5;241;43m=\u001b[39;49m\u001b[43m \u001b[49m\u001b[38;5;28;43mint\u001b[39;49m\u001b[43m)\u001b[49m\n\u001b[0;32m      4\u001b[0m \u001b[38;5;28mprint\u001b[39m(b)\n\u001b[0;32m      5\u001b[0m \u001b[38;5;28mprint\u001b[39m(\u001b[38;5;28mtype\u001b[39m(b))\n",
      "\u001b[1;31mValueError\u001b[0m: invalid literal for int() with base 10: 'ram'"
     ]
    }
   ],
   "source": [
    "import numpy as np\n",
    "a = [1,'ram' , 4.5]\n",
    "b = np.array(a , dtype = int)\n",
    "print(b)\n",
    "print(type(b))\n",
    "# This will give an error because str can not change into int so\n",
    "# we should remove that or change dtype "
   ]
  },
  {
   "cell_type": "code",
   "execution_count": 7,
   "id": "9338d79f",
   "metadata": {},
   "outputs": [
    {
     "name": "stdout",
     "output_type": "stream",
     "text": [
      "[1 5 4]\n",
      "<class 'numpy.ndarray'>\n"
     ]
    }
   ],
   "source": [
    "import numpy as np\n",
    "a = [1,5 , 4.5]\n",
    "b = np.array(a , dtype = int)\n",
    "print(b)\n",
    "print(type(b))"
   ]
  },
  {
   "cell_type": "markdown",
   "id": "95eb5c19",
   "metadata": {},
   "source": [
    "# OR change dtype to other "
   ]
  },
  {
   "cell_type": "code",
   "execution_count": 9,
   "id": "d119bf52",
   "metadata": {},
   "outputs": [
    {
     "name": "stdout",
     "output_type": "stream",
     "text": [
      "['1' 'ram' '4.5']\n"
     ]
    }
   ],
   "source": [
    "import numpy as np\n",
    "a = [1,'ram' , 4.5]\n",
    "b = np.array(a , dtype = str)\n",
    "print(b)"
   ]
  },
  {
   "cell_type": "markdown",
   "id": "9e5be3c4",
   "metadata": {},
   "source": [
    "# Repeting list "
   ]
  },
  {
   "cell_type": "code",
   "execution_count": 10,
   "id": "c7788513",
   "metadata": {},
   "outputs": [
    {
     "name": "stdout",
     "output_type": "stream",
     "text": [
      "[1.  2.  4.5 1.  2.  4.5 1.  2.  4.5]\n"
     ]
    }
   ],
   "source": [
    "import numpy as np\n",
    "a = [1, 2 , 4.5]\n",
    "b = np.array(a*3)\n",
    "print(b)"
   ]
  },
  {
   "cell_type": "markdown",
   "id": "7c4c0746",
   "metadata": {},
   "source": [
    "# function Ones"
   ]
  },
  {
   "cell_type": "code",
   "execution_count": 2,
   "id": "3e4a093d",
   "metadata": {},
   "outputs": [
    {
     "name": "stdout",
     "output_type": "stream",
     "text": [
      "[1 1 1]\n"
     ]
    }
   ],
   "source": [
    "import numpy as np\n",
    "b = np.ones(3  , dtype= int)\n",
    "b\n",
    "print(b)\n",
    "# By default value is float "
   ]
  },
  {
   "cell_type": "markdown",
   "id": "12913d09",
   "metadata": {},
   "source": [
    "# function Zeros"
   ]
  },
  {
   "cell_type": "code",
   "execution_count": 12,
   "id": "f78d331d",
   "metadata": {},
   "outputs": [
    {
     "data": {
      "text/plain": [
       "array([0, 0, 0])"
      ]
     },
     "execution_count": 12,
     "metadata": {},
     "output_type": "execute_result"
    }
   ],
   "source": [
    "b = np.zeros(3  , dtype= int)\n",
    "b\n",
    "# By default value is float "
   ]
  },
  {
   "cell_type": "markdown",
   "id": "ca40df21",
   "metadata": {},
   "source": [
    "# 2 - D Arrays Using zeros or ones"
   ]
  },
  {
   "cell_type": "code",
   "execution_count": 13,
   "id": "832a1666",
   "metadata": {},
   "outputs": [
    {
     "data": {
      "text/plain": [
       "array([[0., 0., 0.],\n",
       "       [0., 0., 0.],\n",
       "       [0., 0., 0.]])"
      ]
     },
     "execution_count": 13,
     "metadata": {},
     "output_type": "execute_result"
    }
   ],
   "source": [
    "b = np.zeros((3,3))\n",
    "b"
   ]
  },
  {
   "cell_type": "code",
   "execution_count": 14,
   "id": "177ba04d",
   "metadata": {},
   "outputs": [
    {
     "data": {
      "text/plain": [
       "array([[0, 0, 0],\n",
       "       [0, 0, 0],\n",
       "       [0, 0, 0]])"
      ]
     },
     "execution_count": 14,
     "metadata": {},
     "output_type": "execute_result"
    }
   ],
   "source": [
    "b = np.zeros((3,3) , dtype = int)\n",
    "b"
   ]
  },
  {
   "cell_type": "markdown",
   "id": "b1dd1a83",
   "metadata": {},
   "source": [
    "# Function Full "
   ]
  },
  {
   "cell_type": "code",
   "execution_count": 15,
   "id": "a6d8ed83",
   "metadata": {},
   "outputs": [
    {
     "data": {
      "text/plain": [
       "array([5, 5, 5])"
      ]
     },
     "execution_count": 15,
     "metadata": {},
     "output_type": "execute_result"
    }
   ],
   "source": [
    "b = np.full(3 , 5)\n",
    "b\n",
    "# By default integer "
   ]
  },
  {
   "cell_type": "code",
   "execution_count": 19,
   "id": "2372559f",
   "metadata": {},
   "outputs": [
    {
     "data": {
      "text/plain": [
       "array([5., 5., 5.])"
      ]
     },
     "execution_count": 19,
     "metadata": {},
     "output_type": "execute_result"
    }
   ],
   "source": [
    "b = np.full(3 , 5 ,dtype = float) \n",
    "b\n",
    "# By default integer value is 5 "
   ]
  },
  {
   "cell_type": "code",
   "execution_count": 17,
   "id": "42d932d1",
   "metadata": {},
   "outputs": [
    {
     "data": {
      "text/plain": [
       "array([[5., 5., 5., 5., 5.],\n",
       "       [5., 5., 5., 5., 5.],\n",
       "       [5., 5., 5., 5., 5.]])"
      ]
     },
     "execution_count": 17,
     "metadata": {},
     "output_type": "execute_result"
    }
   ],
   "source": [
    "b = np.full((3 , 5) , 5, dtype = float) \n",
    "b\n",
    "# By default integer value is 5 "
   ]
  },
  {
   "cell_type": "markdown",
   "id": "1f6e7465",
   "metadata": {},
   "source": [
    "# Function Empty "
   ]
  },
  {
   "cell_type": "code",
   "execution_count": 20,
   "id": "4b452206",
   "metadata": {},
   "outputs": [
    {
     "data": {
      "text/plain": [
       "array([4.24399158e-314, 8.48798317e-314])"
      ]
     },
     "execution_count": 20,
     "metadata": {},
     "output_type": "execute_result"
    }
   ],
   "source": [
    "b = np.empty(2)\n",
    "b"
   ]
  },
  {
   "cell_type": "code",
   "execution_count": 21,
   "id": "772567fb",
   "metadata": {},
   "outputs": [
    {
     "data": {
      "text/plain": [
       "array([[0., 0., 0.],\n",
       "       [0., 0., 0.]])"
      ]
     },
     "execution_count": 21,
     "metadata": {},
     "output_type": "execute_result"
    }
   ],
   "source": [
    "b = np.empty((2 , 3))\n",
    "b"
   ]
  },
  {
   "cell_type": "code",
   "execution_count": 23,
   "id": "cb49c425",
   "metadata": {},
   "outputs": [
    {
     "data": {
      "text/plain": [
       "array([[         0, 1075052544,          0],\n",
       "       [1075052544,          0, 1075052544]])"
      ]
     },
     "execution_count": 23,
     "metadata": {},
     "output_type": "execute_result"
    }
   ],
   "source": [
    "b = np.empty((2 , 3) , dtype = int)\n",
    "b"
   ]
  },
  {
   "cell_type": "markdown",
   "id": "6ec6f920",
   "metadata": {},
   "source": [
    "# DIDNT GET THIS ORDER IN THIS LINE "
   ]
  },
  {
   "cell_type": "code",
   "execution_count": 32,
   "id": "73e08831",
   "metadata": {},
   "outputs": [
    {
     "data": {
      "text/plain": [
       "array([[-1715897632,           0,      131074],\n",
       "       [        332,           0,     5570652]])"
      ]
     },
     "execution_count": 32,
     "metadata": {},
     "output_type": "execute_result"
    }
   ],
   "source": [
    "b = np.empty((2 , 3) , dtype = int ,order  = 'F')\n",
    "b"
   ]
  },
  {
   "cell_type": "markdown",
   "id": "1d17be8f",
   "metadata": {},
   "source": [
    "#  Function Arrange\n",
    "<!-- Syntax -> b = bp.arrange(start(Default 0) , stop(Mandatory) , step(By default 1) , dtype(By default int) )\n",
    "It means we can not call the function without giving any argument  and stop is not included but start is included-->\n",
    "<!-- 1 argument is required that is stop  -->"
   ]
  },
  {
   "cell_type": "code",
   "execution_count": null,
   "id": "4e9cd4d8",
   "metadata": {},
   "outputs": [],
   "source": [
    "# <!-- Syntax -> b = np.arrange(start(Default 0) , stop(Mandatory) , step(By default 1) , dtype(By default int) )\n",
    "# It means we can not call the function without giving any argument  and stop is not included but start is included-->\n",
    "# <!-- 1 argument is required that is stop  -->"
   ]
  },
  {
   "cell_type": "code",
   "execution_count": 51,
   "id": "c715e666",
   "metadata": {},
   "outputs": [
    {
     "data": {
      "text/plain": [
       "array([0, 1, 2, 3, 4, 5, 6, 7, 8, 9])"
      ]
     },
     "execution_count": 51,
     "metadata": {},
     "output_type": "execute_result"
    }
   ],
   "source": [
    "b = np.arange(10)\n",
    "b"
   ]
  },
  {
   "cell_type": "code",
   "execution_count": 52,
   "id": "c9b87c60",
   "metadata": {},
   "outputs": [
    {
     "data": {
      "text/plain": [
       "array([2, 3, 4, 5, 6, 7, 8, 9])"
      ]
     },
     "execution_count": 52,
     "metadata": {},
     "output_type": "execute_result"
    }
   ],
   "source": [
    "b = np.arange(2 , 10)\n",
    "b    "
   ]
  },
  {
   "cell_type": "code",
   "execution_count": 53,
   "id": "ffa7d2ef",
   "metadata": {},
   "outputs": [
    {
     "data": {
      "text/plain": [
       "array([2, 4, 6, 8])"
      ]
     },
     "execution_count": 53,
     "metadata": {},
     "output_type": "execute_result"
    }
   ],
   "source": [
    "b = np.arange(2 , 10 , 2)\n",
    "b"
   ]
  },
  {
   "cell_type": "code",
   "execution_count": 55,
   "id": "08f53415",
   "metadata": {},
   "outputs": [
    {
     "data": {
      "text/plain": [
       "array([2., 4., 6., 8.])"
      ]
     },
     "execution_count": 55,
     "metadata": {},
     "output_type": "execute_result"
    }
   ],
   "source": [
    "b = np.arange(2 , 10 , 2 ,dtype=float)\n",
    "b"
   ]
  },
  {
   "cell_type": "markdown",
   "id": "82e001a4",
   "metadata": {},
   "source": [
    "# Function LineSpace "
   ]
  },
  {
   "cell_type": "markdown",
   "id": "b233a9ca",
   "metadata": {},
   "source": [
    "<!-- b = np.linspace(start , stop , num(optional default 50) \n",
    "endpoint(By default True) retstep(Optional) \n",
    "dtype(by default float))\n",
    "\n",
    "Description ->\n",
    "1.)start value is mandatory\n",
    "2.)end value is mandatory and depends on endpoint bool is\n",
    "endpoint true then stop will included otherwise excluded\n",
    "3.)num value this is optional by default value is 50 means we \n",
    "dont worry to give step value\n",
    "4.) bydefault data type is float -->"
   ]
  },
  {
   "cell_type": "code",
   "execution_count": 58,
   "id": "d2765c10",
   "metadata": {},
   "outputs": [
    {
     "data": {
      "text/plain": [
       "array([ 1,  3,  5,  7, 10])"
      ]
     },
     "execution_count": 58,
     "metadata": {},
     "output_type": "execute_result"
    }
   ],
   "source": [
    "b = np.linspace(1 , 10 , 5 , dtype=int)\n",
    "b"
   ]
  },
  {
   "cell_type": "code",
   "execution_count": 59,
   "id": "78dd72b0",
   "metadata": {},
   "outputs": [
    {
     "data": {
      "text/plain": [
       "array([1, 2, 4, 6, 8])"
      ]
     },
     "execution_count": 59,
     "metadata": {},
     "output_type": "execute_result"
    }
   ],
   "source": [
    "b = np.linspace(1 , 10 , 5 ,  endpoint = False, dtype=int)\n",
    "b"
   ]
  },
  {
   "cell_type": "markdown",
   "id": "ae868fe0",
   "metadata": {},
   "source": [
    "<!-- In above Example step difference is not equall  -->"
   ]
  },
  {
   "cell_type": "markdown",
   "id": "64e0f22f",
   "metadata": {},
   "source": [
    "# Function Identity "
   ]
  },
  {
   "cell_type": "code",
   "execution_count": 60,
   "id": "82b68a8a",
   "metadata": {},
   "outputs": [
    {
     "data": {
      "text/plain": [
       "array([[1., 0., 0.],\n",
       "       [0., 1., 0.],\n",
       "       [0., 0., 1.]])"
      ]
     },
     "execution_count": 60,
     "metadata": {},
     "output_type": "execute_result"
    }
   ],
   "source": [
    "b = np.identity(3)\n",
    "b\n",
    "# By default value is float type \n",
    "# We can Only get Square matrix "
   ]
  },
  {
   "cell_type": "markdown",
   "id": "aee1f50e",
   "metadata": {},
   "source": [
    "# Function Identity "
   ]
  },
  {
   "cell_type": "code",
   "execution_count": 62,
   "id": "51d23018",
   "metadata": {},
   "outputs": [
    {
     "data": {
      "text/plain": [
       "array([[1., 0., 0.],\n",
       "       [0., 1., 0.],\n",
       "       [0., 0., 1.]])"
      ]
     },
     "execution_count": 62,
     "metadata": {},
     "output_type": "execute_result"
    }
   ],
   "source": [
    "b = np.eye(3)\n",
    "b\n",
    "\n",
    "# By default value is float type \n",
    "# We can get all type of  matrix \n",
    "# In eye we can make 3,4 identiy matrix but with identity function we can't "
   ]
  },
  {
   "cell_type": "markdown",
   "id": "e538aeae",
   "metadata": {},
   "source": [
    "# Function random in (0,1)"
   ]
  },
  {
   "cell_type": "code",
   "execution_count": 76,
   "id": "a4e860db",
   "metadata": {},
   "outputs": [
    {
     "data": {
      "text/plain": [
       "array([0.53144354, 0.02435126, 0.13353261])"
      ]
     },
     "execution_count": 76,
     "metadata": {},
     "output_type": "execute_result"
    }
   ],
   "source": [
    "b = np.random.rand(3)\n",
    "b"
   ]
  },
  {
   "cell_type": "code",
   "execution_count": 77,
   "id": "987978c3",
   "metadata": {},
   "outputs": [
    {
     "data": {
      "text/plain": [
       "0.8517118417878022"
      ]
     },
     "execution_count": 77,
     "metadata": {},
     "output_type": "execute_result"
    }
   ],
   "source": [
    "b = np.random.rand()\n",
    "b\n",
    "# ****************************This is amazing *********************"
   ]
  },
  {
   "cell_type": "code",
   "execution_count": 64,
   "id": "3a720b8d",
   "metadata": {},
   "outputs": [
    {
     "data": {
      "text/plain": [
       "array([[0.9269453 , 0.09684116, 0.42515129],\n",
       "       [0.45314245, 0.13456495, 0.735121  ]])"
      ]
     },
     "execution_count": 64,
     "metadata": {},
     "output_type": "execute_result"
    }
   ],
   "source": [
    "b = np.random.rand(2,3)\n",
    "b\n",
    "# These value lies between 0 to 1 and uniformaly distributed "
   ]
  },
  {
   "cell_type": "markdown",
   "id": "fc076c17",
   "metadata": {},
   "source": [
    "# Function random  in different range(0,10)"
   ]
  },
  {
   "cell_type": "code",
   "execution_count": 65,
   "id": "ab0c8ed1",
   "metadata": {},
   "outputs": [
    {
     "data": {
      "text/plain": [
       "array([[7.44002852, 0.86218895, 6.1425295 ],\n",
       "       [4.68918259, 7.94435254, 6.72562676]])"
      ]
     },
     "execution_count": 65,
     "metadata": {},
     "output_type": "execute_result"
    }
   ],
   "source": [
    "b = np.random.rand(2,3)*10\n",
    "b"
   ]
  },
  {
   "cell_type": "markdown",
   "id": "a68ba15f",
   "metadata": {},
   "source": [
    "# # Function random randint  in different range(0,10)"
   ]
  },
  {
   "cell_type": "code",
   "execution_count": 5,
   "id": "24328a6c",
   "metadata": {},
   "outputs": [
    {
     "data": {
      "text/plain": [
       "array([[16, 12,  5, 19,  7, 10],\n",
       "       [15,  1,  1, 15, 16,  2],\n",
       "       [ 4,  8,  7,  9, 11,  8],\n",
       "       [17, 19, 18, 18, 10, 16],\n",
       "       [ 1,  1,  7, 10,  6,  7]])"
      ]
     },
     "execution_count": 5,
     "metadata": {},
     "output_type": "execute_result"
    }
   ],
   "source": [
    "import numpy as np\n",
    "b = np.random.randint(1 , 20  , (5,6) , dtype=int)\n",
    "b"
   ]
  },
  {
   "cell_type": "code",
   "execution_count": 80,
   "id": "0976ccd9",
   "metadata": {},
   "outputs": [
    {
     "name": "stdout",
     "output_type": "stream",
     "text": [
      "[1 0 0 0 0 0]\n",
      "[0 1 0 0 0 0]\n",
      "[0 0 1 0 0 0]\n",
      "[0 0 0 1 0 0]\n",
      "[0 0 0 0 1 0]\n"
     ]
    }
   ],
   "source": [
    "import numpy as np\n",
    "b = np.eye(5,6,dtype=int)\n",
    "for i in b:\n",
    "    print(i)\n",
    "\n",
    "# eye and identity functions both are same but we can create only square matrix in identity but in eye we can create rectanguler\n",
    "# matrix also"
   ]
  },
  {
   "cell_type": "code",
   "execution_count": 1,
   "id": "63fc4405",
   "metadata": {},
   "outputs": [
    {
     "name": "stdout",
     "output_type": "stream",
     "text": [
      "0.0\n",
      "0.56\n",
      "1.11\n",
      "1.67\n",
      "2.22\n",
      "2.78\n",
      "3.33\n",
      "3.89\n",
      "4.44\n"
     ]
    }
   ],
   "source": [
    "import numpy as np\n",
    "stepValue = 5/9\n",
    "b = np.arange(0 , 5 , stepValue ,dtype=float)\n",
    "for i in b:\n",
    "    value = round(i , 2)\n",
    "    print(value)"
   ]
  },
  {
   "cell_type": "markdown",
   "id": "fd36c080",
   "metadata": {},
   "source": [
    "# Properties of numpy array "
   ]
  },
  {
   "cell_type": "code",
   "execution_count": null,
   "id": "eff2ef3c",
   "metadata": {},
   "outputs": [],
   "source": [
    "# Our NumPy stores 4 pointers which points to these qualitites about\n",
    "# array \n",
    "# 1.)Data -> Memory location\n",
    "# 2.)Shape -> Size of array\n",
    "# 3.)dtype -> Data type \n",
    "# 4.)strides -> bytes /size of one variable which stored in array"
   ]
  },
  {
   "cell_type": "markdown",
   "id": "0f2c4739",
   "metadata": {},
   "source": [
    "# ONE D ARRAY"
   ]
  },
  {
   "cell_type": "code",
   "execution_count": 2,
   "id": "71b81f0f",
   "metadata": {},
   "outputs": [
    {
     "name": "stdout",
     "output_type": "stream",
     "text": [
      "[1 2 3 4]\n"
     ]
    }
   ],
   "source": [
    "import numpy as np\n",
    "b = [1,2,3,4]\n",
    "c = np.array(b)\n",
    "print(c)"
   ]
  },
  {
   "cell_type": "code",
   "execution_count": 3,
   "id": "081d30b7",
   "metadata": {},
   "outputs": [
    {
     "name": "stdout",
     "output_type": "stream",
     "text": [
      "<memory at 0x00000272FD61E340>\n",
      "(4,)\n",
      "int32\n",
      "(4,)\n"
     ]
    }
   ],
   "source": [
    "print(c.data)\n",
    "print(c.shape)\n",
    "print(c.dtype)\n",
    "print(c.strides)\n"
   ]
  },
  {
   "cell_type": "markdown",
   "id": "1e76216a",
   "metadata": {},
   "source": [
    "# 2D ARRAY"
   ]
  },
  {
   "cell_type": "code",
   "execution_count": 4,
   "id": "b8d4f7b2",
   "metadata": {},
   "outputs": [
    {
     "name": "stdout",
     "output_type": "stream",
     "text": [
      "[[ 1  2  3  4]\n",
      " [ 5  6  7  8]\n",
      " [ 9 10 11 12]]\n"
     ]
    }
   ],
   "source": [
    "import numpy as np\n",
    "b = [[1,2,3,4],[5,6,7,8],[9,10,11,12]]\n",
    "c = np.array(b)\n",
    "print(c)"
   ]
  },
  {
   "cell_type": "code",
   "execution_count": 5,
   "id": "95b133fd",
   "metadata": {},
   "outputs": [
    {
     "name": "stdout",
     "output_type": "stream",
     "text": [
      "<memory at 0x00000272FD484EE0>\n",
      "(3, 4)\n",
      "int32\n",
      "(16, 4)\n"
     ]
    }
   ],
   "source": [
    "print(c.data)\n",
    "print(c.shape)\n",
    "print(c.dtype)\n",
    "print(c.strides)"
   ]
  },
  {
   "cell_type": "code",
   "execution_count": null,
   "id": "bd07a037",
   "metadata": {},
   "outputs": [],
   "source": [
    "# In Last line first argument is  no of bytes to go in next line\n",
    "# second is to go to next element in same line "
   ]
  },
  {
   "cell_type": "markdown",
   "id": "5d92933b",
   "metadata": {},
   "source": [
    "# Accessing Data from Numpy array"
   ]
  },
  {
   "cell_type": "code",
   "execution_count": 6,
   "id": "3df2c156",
   "metadata": {},
   "outputs": [
    {
     "name": "stdout",
     "output_type": "stream",
     "text": [
      "[1 2 3 4]\n",
      "[[ 1  2  3  4]\n",
      " [ 5  6  7  8]\n",
      " [ 9 10 11 12]]\n"
     ]
    }
   ],
   "source": [
    "import numpy as np\n",
    "b = [1,2,3,4]\n",
    "d = [[1,2,3,4],[5,6,7,8],[9,10,11,12]]\n",
    "c = np.array(b)\n",
    "e = np.array(d)\n",
    "print(c)\n",
    "print(e)"
   ]
  },
  {
   "cell_type": "code",
   "execution_count": 7,
   "id": "86c9196f",
   "metadata": {},
   "outputs": [
    {
     "name": "stdout",
     "output_type": "stream",
     "text": [
      "2\n",
      "[2 3 4]\n"
     ]
    }
   ],
   "source": [
    "# For One d array \n",
    "print(c[1])\n",
    "# slicing and last one is exclusive\n",
    "print(c[1:4])"
   ]
  },
  {
   "cell_type": "code",
   "execution_count": 8,
   "id": "739efabb",
   "metadata": {},
   "outputs": [
    {
     "name": "stdout",
     "output_type": "stream",
     "text": [
      "10\n",
      "7\n"
     ]
    }
   ],
   "source": [
    "# For Two d array \n",
    "print(e[2][1])\n",
    "# Both will same \n",
    "print(e[1,2])"
   ]
  },
  {
   "cell_type": "markdown",
   "id": "78bff668",
   "metadata": {},
   "source": [
    "# Slicing IN 2D array "
   ]
  },
  {
   "cell_type": "code",
   "execution_count": 9,
   "id": "a989baf8",
   "metadata": {},
   "outputs": [
    {
     "name": "stdout",
     "output_type": "stream",
     "text": [
      "[5 6 7]\n",
      "[5 6 7]\n"
     ]
    }
   ],
   "source": [
    "print(e[1][0:3])\n",
    "# Both are same \n",
    "print(e[1 , 0:3])\n"
   ]
  },
  {
   "cell_type": "code",
   "execution_count": 15,
   "id": "c4383524",
   "metadata": {},
   "outputs": [
    {
     "name": "stdout",
     "output_type": "stream",
     "text": [
      "[[ 1  2  3  4]\n",
      " [ 5  6  7  8]\n",
      " [ 9 10 11 12]]\n",
      "[ 9 10 11 12]\n",
      "[ 3  7 11]\n"
     ]
    }
   ],
   "source": [
    "print(e)\n",
    "# print(e[1][0:3])\n",
    "# # Both are same \n",
    "# print(e[1 , 0:3])\n",
    "\n",
    "# **************************Important *************************\n",
    "# print(e[0:3][3]) This will give error \n",
    "# print(e[0:3][3])\n",
    "print(e[0:3][2])\n",
    "print(e[0:3 , 2])"
   ]
  },
  {
   "cell_type": "markdown",
   "id": "724ed337",
   "metadata": {},
   "source": [
    "# W should use this syntax in numpy arrays  print(e[0:3][2]) instead of this  print(e[0:3 , 2])"
   ]
  },
  {
   "cell_type": "code",
   "execution_count": 18,
   "id": "99228728",
   "metadata": {},
   "outputs": [
    {
     "name": "stdout",
     "output_type": "stream",
     "text": [
      "[[ 1  2  3  4]\n",
      " [ 5  6  7  8]\n",
      " [ 9 10 11 12]]\n",
      "[[1 2 3 4]\n",
      " [5 6 7 8]]\n",
      "[[ 1  2]\n",
      " [ 5  6]\n",
      " [ 9 10]]\n"
     ]
    }
   ],
   "source": [
    "print(e)\n",
    "print(e[0:3][0:2])\n",
    "print(e[0:3 , 0:2])\n",
    "# Both are different so it is important "
   ]
  },
  {
   "cell_type": "markdown",
   "id": "ce9e5221",
   "metadata": {},
   "source": [
    "# This is so much important "
   ]
  },
  {
   "cell_type": "markdown",
   "id": "31d350e9",
   "metadata": {},
   "source": [
    "# Mathmatical Operations on Simple 1 D list vs numpy 1D array "
   ]
  },
  {
   "cell_type": "code",
   "execution_count": 23,
   "id": "b968daff",
   "metadata": {},
   "outputs": [
    {
     "name": "stdout",
     "output_type": "stream",
     "text": [
      "[ 8 17 14  4 15]\n",
      "[ 2 19  3 17 14]\n",
      "[1, 2, 3, 4, 5]\n"
     ]
    }
   ],
   "source": [
    "import numpy as np\n",
    "li = [1,2,3,4,5]\n",
    "a = np.random.randint(1,20,5)\n",
    "b = np.random.randint(1,20,5)\n",
    "print(a)\n",
    "print(b)\n",
    "print(li)"
   ]
  },
  {
   "cell_type": "markdown",
   "id": "43ce09eb",
   "metadata": {},
   "source": [
    "# Adding 1 to all elements"
   ]
  },
  {
   "cell_type": "code",
   "execution_count": 25,
   "id": "4a8f0206",
   "metadata": {},
   "outputs": [
    {
     "name": "stdout",
     "output_type": "stream",
     "text": [
      "[2, 3, 4, 5, 6]\n"
     ]
    }
   ],
   "source": [
    "# In Simple List\n",
    "\n",
    "li = [i+1  for i in li]\n",
    "print(li)"
   ]
  },
  {
   "cell_type": "code",
   "execution_count": 27,
   "id": "e8c10fa2",
   "metadata": {},
   "outputs": [
    {
     "name": "stdout",
     "output_type": "stream",
     "text": [
      "[10 19 16  6 17]\n"
     ]
    }
   ],
   "source": [
    "# In numpy array \n",
    "\n",
    "a = a + 1\n",
    "print(a)"
   ]
  },
  {
   "cell_type": "code",
   "execution_count": 28,
   "id": "d1f8e01f",
   "metadata": {},
   "outputs": [
    {
     "name": "stdout",
     "output_type": "stream",
     "text": [
      "[12 38 19 23 31]\n"
     ]
    }
   ],
   "source": [
    "c = a + b\n",
    "print(c)"
   ]
  },
  {
   "cell_type": "code",
   "execution_count": 29,
   "id": "49ea257d",
   "metadata": {},
   "outputs": [
    {
     "name": "stdout",
     "output_type": "stream",
     "text": [
      "[  8   0  13 -11   3]\n"
     ]
    }
   ],
   "source": [
    "d = a -b\n",
    "print(d)"
   ]
  },
  {
   "cell_type": "code",
   "execution_count": 30,
   "id": "c3a45bbb",
   "metadata": {},
   "outputs": [
    {
     "name": "stdout",
     "output_type": "stream",
     "text": [
      "[ 20 361  48 102 238]\n"
     ]
    }
   ],
   "source": [
    "f = a*b\n",
    "print(f)"
   ]
  },
  {
   "cell_type": "code",
   "execution_count": 31,
   "id": "ddac6575",
   "metadata": {},
   "outputs": [
    {
     "name": "stdout",
     "output_type": "stream",
     "text": [
      "[5.         1.         5.33333333 0.35294118 1.21428571]\n"
     ]
    }
   ],
   "source": [
    "g = a/b\n",
    "print(g)"
   ]
  },
  {
   "cell_type": "code",
   "execution_count": 33,
   "id": "4397277b",
   "metadata": {},
   "outputs": [
    {
     "name": "stdout",
     "output_type": "stream",
     "text": [
      "[5 1 5 0 1]\n"
     ]
    }
   ],
   "source": [
    "h = a//b\n",
    "print(h)"
   ]
  },
  {
   "cell_type": "code",
   "execution_count": 34,
   "id": "49fbc6bf",
   "metadata": {},
   "outputs": [
    {
     "name": "stdout",
     "output_type": "stream",
     "text": [
      "[        100  -306639989        4096   193331200 -1138746399]\n"
     ]
    }
   ],
   "source": [
    "m = a**b \n",
    "print(m)\n"
   ]
  },
  {
   "cell_type": "code",
   "execution_count": 38,
   "id": "765055ef",
   "metadata": {},
   "outputs": [
    {
     "name": "stdout",
     "output_type": "stream",
     "text": [
      "[10 19 16  6 17]\n",
      "68\n",
      "13.6\n",
      "6\n",
      "3\n",
      "19\n",
      "1\n"
     ]
    }
   ],
   "source": [
    "print(a)\n",
    "print(a.sum())\n",
    "print(a.mean())\n",
    "print(a.min())\n",
    "print(a.argmin())\n",
    "# Index at min \n",
    "\n",
    "print(a.max())\n",
    "print(a.argmax())"
   ]
  },
  {
   "cell_type": "markdown",
   "id": "037703e3",
   "metadata": {},
   "source": [
    "#  Relational Operations "
   ]
  },
  {
   "cell_type": "code",
   "execution_count": 39,
   "id": "a4d523bd",
   "metadata": {},
   "outputs": [
    {
     "data": {
      "text/plain": [
       "array([10, 19, 16,  6, 17])"
      ]
     },
     "execution_count": 39,
     "metadata": {},
     "output_type": "execute_result"
    }
   ],
   "source": [
    "a"
   ]
  },
  {
   "cell_type": "code",
   "execution_count": 40,
   "id": "9f8752da",
   "metadata": {},
   "outputs": [
    {
     "data": {
      "text/plain": [
       "array([ 2, 19,  3, 17, 14])"
      ]
     },
     "execution_count": 40,
     "metadata": {},
     "output_type": "execute_result"
    }
   ],
   "source": [
    "b"
   ]
  },
  {
   "cell_type": "code",
   "execution_count": 41,
   "id": "2e578780",
   "metadata": {},
   "outputs": [
    {
     "data": {
      "text/plain": [
       "array([ True, False,  True, False,  True])"
      ]
     },
     "execution_count": 41,
     "metadata": {},
     "output_type": "execute_result"
    }
   ],
   "source": [
    "a>b"
   ]
  },
  {
   "cell_type": "code",
   "execution_count": 42,
   "id": "7f17464a",
   "metadata": {},
   "outputs": [
    {
     "data": {
      "text/plain": [
       "array([False, False, False,  True, False])"
      ]
     },
     "execution_count": 42,
     "metadata": {},
     "output_type": "execute_result"
    }
   ],
   "source": [
    "a<b"
   ]
  },
  {
   "cell_type": "code",
   "execution_count": 43,
   "id": "0a9743cd",
   "metadata": {},
   "outputs": [
    {
     "data": {
      "text/plain": [
       "array([False,  True, False, False, False])"
      ]
     },
     "execution_count": 43,
     "metadata": {},
     "output_type": "execute_result"
    }
   ],
   "source": [
    "a == b"
   ]
  },
  {
   "cell_type": "markdown",
   "id": "92acd85e",
   "metadata": {},
   "source": [
    "# Logical Operations"
   ]
  },
  {
   "cell_type": "markdown",
   "id": "8532ee3d",
   "metadata": {},
   "source": [
    "All None zero values show true and zero showes false"
   ]
  },
  {
   "cell_type": "code",
   "execution_count": 44,
   "id": "95c1b85b",
   "metadata": {},
   "outputs": [
    {
     "data": {
      "text/plain": [
       "array([10, 19, 16,  6, 17])"
      ]
     },
     "execution_count": 44,
     "metadata": {},
     "output_type": "execute_result"
    }
   ],
   "source": [
    "a"
   ]
  },
  {
   "cell_type": "code",
   "execution_count": 45,
   "id": "eb228417",
   "metadata": {},
   "outputs": [
    {
     "data": {
      "text/plain": [
       "array([ 2, 19,  3, 17, 14])"
      ]
     },
     "execution_count": 45,
     "metadata": {},
     "output_type": "execute_result"
    }
   ],
   "source": [
    "b"
   ]
  },
  {
   "cell_type": "code",
   "execution_count": 46,
   "id": "bf0fb460",
   "metadata": {},
   "outputs": [
    {
     "name": "stdout",
     "output_type": "stream",
     "text": [
      "[ True  True  True  True  True]\n"
     ]
    }
   ],
   "source": [
    "print(np.logical_or(a,b))"
   ]
  },
  {
   "cell_type": "code",
   "execution_count": 48,
   "id": "6a66d1b0",
   "metadata": {},
   "outputs": [
    {
     "name": "stdout",
     "output_type": "stream",
     "text": [
      "[ True  True  True  True  True]\n"
     ]
    }
   ],
   "source": [
    "print(np.logical_and(a,b))"
   ]
  },
  {
   "cell_type": "code",
   "execution_count": 49,
   "id": "7ff563ac",
   "metadata": {},
   "outputs": [
    {
     "name": "stdout",
     "output_type": "stream",
     "text": [
      "[False False False False False]\n"
     ]
    }
   ],
   "source": [
    "print(np.logical_not(a))"
   ]
  },
  {
   "cell_type": "markdown",
   "id": "fe5729c6",
   "metadata": {},
   "source": [
    "# Mathmatical Operations on Simple 2 D list vs numpy 2D array "
   ]
  },
  {
   "cell_type": "code",
   "execution_count": 61,
   "id": "b133f4c9",
   "metadata": {},
   "outputs": [
    {
     "name": "stdout",
     "output_type": "stream",
     "text": [
      "[[1, 2, 3], [4, 5, 6], [7, 8, 9]]\n",
      "[[ 9 15 19]\n",
      " [12 18 14]\n",
      " [12 19 16]]\n",
      "[[15 17  1]\n",
      " [ 4  4 10]\n",
      " [11  8  1]]\n"
     ]
    }
   ],
   "source": [
    "import numpy as np\n",
    "li = [[1,2,3],[4,5,6],[7,8,9]]\n",
    "a = np.random.randint(1,20 , size = (3,3))\n",
    "b = np.random.randint(1,20 , size = (3,3))\n",
    "print(li)\n",
    "print(a)\n",
    "print(b)"
   ]
  },
  {
   "cell_type": "code",
   "execution_count": 64,
   "id": "6398fec4",
   "metadata": {},
   "outputs": [
    {
     "name": "stdout",
     "output_type": "stream",
     "text": [
      "[3, 4, 5]\n",
      "[4, 5, 6]\n",
      "[6, 7, 8]\n",
      "[7, 8, 9]\n",
      "[9, 10, 11]\n",
      "[10, 11, 12]\n",
      "[[4, 5, 6], [7, 8, 9], [10, 11, 12]]\n",
      "[[11 17 21]\n",
      " [14 20 16]\n",
      " [14 21 18]]\n",
      "[[16 18  2]\n",
      " [ 5  5 11]\n",
      " [12  9  2]]\n"
     ]
    }
   ],
   "source": [
    "# Addting  to each element in simple list \n",
    "\n",
    "for i in li:\n",
    "    print(i)\n",
    "    for j in range(0 , len(i)):\n",
    "        i[j] = i[j] + 1\n",
    "    print(i)\n",
    "print(li)\n",
    "\n",
    "# Addting  to each element in numpy array \n",
    "\n",
    "a = a + 1\n",
    "print(a)\n",
    "b = b + 1\n",
    "print(b)\n"
   ]
  },
  {
   "cell_type": "code",
   "execution_count": 65,
   "id": "27d25648",
   "metadata": {},
   "outputs": [
    {
     "data": {
      "text/plain": [
       "array([[27, 35, 23],\n",
       "       [19, 25, 27],\n",
       "       [26, 30, 20]])"
      ]
     },
     "execution_count": 65,
     "metadata": {},
     "output_type": "execute_result"
    }
   ],
   "source": [
    "c = a+b\n",
    "c"
   ]
  },
  {
   "cell_type": "code",
   "execution_count": 66,
   "id": "d2c41504",
   "metadata": {},
   "outputs": [
    {
     "data": {
      "text/plain": [
       "array([[-5, -1, 19],\n",
       "       [ 9, 15,  5],\n",
       "       [ 2, 12, 16]])"
      ]
     },
     "execution_count": 66,
     "metadata": {},
     "output_type": "execute_result"
    }
   ],
   "source": [
    "c = a-b\n",
    "c"
   ]
  },
  {
   "cell_type": "code",
   "execution_count": 67,
   "id": "2986cc26",
   "metadata": {},
   "outputs": [
    {
     "data": {
      "text/plain": [
       "array([[176, 306,  42],\n",
       "       [ 70, 100, 176],\n",
       "       [168, 189,  36]])"
      ]
     },
     "execution_count": 67,
     "metadata": {},
     "output_type": "execute_result"
    }
   ],
   "source": [
    "c = a*b\n",
    "c"
   ]
  },
  {
   "cell_type": "code",
   "execution_count": 68,
   "id": "9a519973",
   "metadata": {},
   "outputs": [
    {
     "data": {
      "text/plain": [
       "array([[ 0.6875    ,  0.94444444, 10.5       ],\n",
       "       [ 2.8       ,  4.        ,  1.45454545],\n",
       "       [ 1.16666667,  2.33333333,  9.        ]])"
      ]
     },
     "execution_count": 68,
     "metadata": {},
     "output_type": "execute_result"
    }
   ],
   "source": [
    "c = a/b\n",
    "c"
   ]
  },
  {
   "cell_type": "code",
   "execution_count": 69,
   "id": "e7932cd7",
   "metadata": {},
   "outputs": [
    {
     "data": {
      "text/plain": [
       "array([[ 0,  0, 10],\n",
       "       [ 2,  4,  1],\n",
       "       [ 1,  2,  9]], dtype=int32)"
      ]
     },
     "execution_count": 69,
     "metadata": {},
     "output_type": "execute_result"
    }
   ],
   "source": [
    "c = a//b\n",
    "c"
   ]
  },
  {
   "cell_type": "code",
   "execution_count": 70,
   "id": "d649d463",
   "metadata": {},
   "outputs": [
    {
     "data": {
      "text/plain": [
       "array([[  772479681, -1482188255,         441],\n",
       "       [     537824,     3200000,           0],\n",
       "       [  344068096,  -288903179,         324]], dtype=int32)"
      ]
     },
     "execution_count": 70,
     "metadata": {},
     "output_type": "execute_result"
    }
   ],
   "source": [
    "c = a**b\n",
    "c"
   ]
  },
  {
   "cell_type": "code",
   "execution_count": null,
   "id": "205e0d28",
   "metadata": {},
   "outputs": [],
   "source": [
    "# print(a)\n",
    "print(a.sum())\n",
    "print(a.mean())\n",
    "print(a.min())\n",
    "print(a.argmin())\n",
    "# Index at min \n",
    "\n",
    "print(a.max())\n",
    "print(a.argmax())"
   ]
  },
  {
   "cell_type": "markdown",
   "id": "72fc5f0b",
   "metadata": {},
   "source": [
    "#  Relational Operations "
   ]
  },
  {
   "cell_type": "code",
   "execution_count": 72,
   "id": "f79061bc",
   "metadata": {},
   "outputs": [
    {
     "data": {
      "text/plain": [
       "array([[11, 17, 21],\n",
       "       [14, 20, 16],\n",
       "       [14, 21, 18]])"
      ]
     },
     "execution_count": 72,
     "metadata": {},
     "output_type": "execute_result"
    }
   ],
   "source": [
    "a"
   ]
  },
  {
   "cell_type": "code",
   "execution_count": 73,
   "id": "1ef6a513",
   "metadata": {},
   "outputs": [
    {
     "data": {
      "text/plain": [
       "array([[16, 18,  2],\n",
       "       [ 5,  5, 11],\n",
       "       [12,  9,  2]])"
      ]
     },
     "execution_count": 73,
     "metadata": {},
     "output_type": "execute_result"
    }
   ],
   "source": [
    "b"
   ]
  },
  {
   "cell_type": "code",
   "execution_count": 74,
   "id": "cdd117a2",
   "metadata": {},
   "outputs": [
    {
     "data": {
      "text/plain": [
       "array([[False, False,  True],\n",
       "       [ True,  True,  True],\n",
       "       [ True,  True,  True]])"
      ]
     },
     "execution_count": 74,
     "metadata": {},
     "output_type": "execute_result"
    }
   ],
   "source": [
    "a>b"
   ]
  },
  {
   "cell_type": "code",
   "execution_count": 76,
   "id": "bc6e83b2",
   "metadata": {},
   "outputs": [
    {
     "data": {
      "text/plain": [
       "array([[ True,  True, False],\n",
       "       [False, False, False],\n",
       "       [False, False, False]])"
      ]
     },
     "execution_count": 76,
     "metadata": {},
     "output_type": "execute_result"
    }
   ],
   "source": [
    "a<b"
   ]
  },
  {
   "cell_type": "code",
   "execution_count": 77,
   "id": "bd6ecfb1",
   "metadata": {},
   "outputs": [
    {
     "data": {
      "text/plain": [
       "array([[False, False, False],\n",
       "       [False, False, False],\n",
       "       [False, False, False]])"
      ]
     },
     "execution_count": 77,
     "metadata": {},
     "output_type": "execute_result"
    }
   ],
   "source": [
    "a == b"
   ]
  },
  {
   "cell_type": "markdown",
   "id": "2099c7d6",
   "metadata": {},
   "source": [
    "# Logical Operations"
   ]
  },
  {
   "cell_type": "markdown",
   "id": "b6d9d074",
   "metadata": {},
   "source": [
    "0 represents false and 1 represents 0"
   ]
  },
  {
   "cell_type": "code",
   "execution_count": 78,
   "id": "fb005ee8",
   "metadata": {},
   "outputs": [
    {
     "data": {
      "text/plain": [
       "array([[11, 17, 21],\n",
       "       [14, 20, 16],\n",
       "       [14, 21, 18]])"
      ]
     },
     "execution_count": 78,
     "metadata": {},
     "output_type": "execute_result"
    }
   ],
   "source": [
    "a"
   ]
  },
  {
   "cell_type": "code",
   "execution_count": 79,
   "id": "c2d1972a",
   "metadata": {},
   "outputs": [
    {
     "data": {
      "text/plain": [
       "array([[16, 18,  2],\n",
       "       [ 5,  5, 11],\n",
       "       [12,  9,  2]])"
      ]
     },
     "execution_count": 79,
     "metadata": {},
     "output_type": "execute_result"
    }
   ],
   "source": [
    "b"
   ]
  },
  {
   "cell_type": "code",
   "execution_count": 80,
   "id": "231485af",
   "metadata": {},
   "outputs": [
    {
     "name": "stdout",
     "output_type": "stream",
     "text": [
      "[[ True  True  True]\n",
      " [ True  True  True]\n",
      " [ True  True  True]]\n"
     ]
    }
   ],
   "source": [
    "print(np.logical_or(a,b))"
   ]
  },
  {
   "cell_type": "code",
   "execution_count": 81,
   "id": "7470fa8a",
   "metadata": {},
   "outputs": [
    {
     "name": "stdout",
     "output_type": "stream",
     "text": [
      "[[ True  True  True]\n",
      " [ True  True  True]\n",
      " [ True  True  True]]\n"
     ]
    }
   ],
   "source": [
    "print(np.logical_and(a,b))"
   ]
  },
  {
   "cell_type": "code",
   "execution_count": 82,
   "id": "add692de",
   "metadata": {},
   "outputs": [
    {
     "name": "stdout",
     "output_type": "stream",
     "text": [
      "[[False False False]\n",
      " [False False False]\n",
      " [False False False]]\n"
     ]
    }
   ],
   "source": [
    "print(np.logical_not(a))"
   ]
  },
  {
   "cell_type": "markdown",
   "id": "64cf7bae",
   "metadata": {},
   "source": [
    "# Some New In Numpy array "
   ]
  },
  {
   "cell_type": "code",
   "execution_count": 83,
   "id": "fae2b542",
   "metadata": {},
   "outputs": [
    {
     "data": {
      "text/plain": [
       "array([[11, 17, 21],\n",
       "       [14, 20, 16],\n",
       "       [14, 21, 18]])"
      ]
     },
     "execution_count": 83,
     "metadata": {},
     "output_type": "execute_result"
    }
   ],
   "source": [
    "a"
   ]
  },
  {
   "cell_type": "code",
   "execution_count": 84,
   "id": "88a1ef9e",
   "metadata": {},
   "outputs": [
    {
     "data": {
      "text/plain": [
       "array([[16, 18,  2],\n",
       "       [ 5,  5, 11],\n",
       "       [12,  9,  2]])"
      ]
     },
     "execution_count": 84,
     "metadata": {},
     "output_type": "execute_result"
    }
   ],
   "source": [
    "b"
   ]
  },
  {
   "cell_type": "code",
   "execution_count": 85,
   "id": "d09e58fd",
   "metadata": {},
   "outputs": [
    {
     "name": "stdout",
     "output_type": "stream",
     "text": [
      "[[ True  True False]\n",
      " [False False  True]\n",
      " [ True False False]]\n"
     ]
    }
   ],
   "source": [
    "print(b>10)"
   ]
  },
  {
   "cell_type": "code",
   "execution_count": 116,
   "id": "bd8c4120",
   "metadata": {},
   "outputs": [
    {
     "name": "stdout",
     "output_type": "stream",
     "text": [
      "[ True  True  True  True  True False]\n",
      "[17 13 17 16 19]\n",
      "<class 'numpy.ndarray'>\n",
      "<class 'numpy.ndarray'>\n"
     ]
    }
   ],
   "source": [
    "bool_arr = b>10\n",
    "print(bool_arr)\n",
    "new_arr = b[bool_arr]\n",
    "print(new_arr)\n",
    "print(type(new_arr))\n",
    "print(type(b))"
   ]
  },
  {
   "cell_type": "code",
   "execution_count": 115,
   "id": "cebbf364",
   "metadata": {},
   "outputs": [
    {
     "name": "stdout",
     "output_type": "stream",
     "text": [
      "[17 13 17 16 19]\n"
     ]
    }
   ],
   "source": [
    "new_arr = b[b>10]\n",
    "print(new_arr)\n",
    "# This will give those elements and pust in an array which are greate 10 in np array b "
   ]
  },
  {
   "cell_type": "code",
   "execution_count": 96,
   "id": "d5518144",
   "metadata": {},
   "outputs": [
    {
     "name": "stdout",
     "output_type": "stream",
     "text": [
      "[16 11 12]\n"
     ]
    }
   ],
   "source": [
    "new_arr1 = b[(b>10) & (b<18)]\n",
    "print(new_arr1)"
   ]
  },
  {
   "cell_type": "code",
   "execution_count": 98,
   "id": "7fc6c88a",
   "metadata": {},
   "outputs": [],
   "source": [
    "b\n",
    "c = b"
   ]
  },
  {
   "cell_type": "code",
   "execution_count": 101,
   "id": "7c83f262",
   "metadata": {},
   "outputs": [
    {
     "name": "stdout",
     "output_type": "stream",
     "text": [
      "[[19 19 19]\n",
      " [19 19 19]\n",
      " [19 19 19]]\n",
      "[[100 100 100]\n",
      " [100 100 100]\n",
      " [100 100 100]]\n"
     ]
    }
   ],
   "source": [
    "c[:3] = 19\n",
    "print(c)\n",
    "c[c>15] = 100\n",
    "print(c)"
   ]
  },
  {
   "cell_type": "code",
   "execution_count": 104,
   "id": "c0c0d206",
   "metadata": {},
   "outputs": [
    {
     "data": {
      "text/plain": [
       "array([17, 13, 17, 16, 19,  9])"
      ]
     },
     "execution_count": 104,
     "metadata": {},
     "output_type": "execute_result"
    }
   ],
   "source": [
    "import numpy as np\n",
    "b = np.random.randint(0,20,6)\n",
    "b"
   ]
  },
  {
   "cell_type": "code",
   "execution_count": 106,
   "id": "c7aff51a",
   "metadata": {},
   "outputs": [
    {
     "name": "stdout",
     "output_type": "stream",
     "text": [
      "[17 17]\n"
     ]
    }
   ],
   "source": [
    "print(b[b==17])"
   ]
  },
  {
   "cell_type": "markdown",
   "id": "2207aa8b",
   "metadata": {},
   "source": [
    "# Where Function "
   ]
  },
  {
   "cell_type": "code",
   "execution_count": 108,
   "id": "54632df6",
   "metadata": {},
   "outputs": [
    {
     "data": {
      "text/plain": [
       "(array([0, 2], dtype=int64),)"
      ]
     },
     "execution_count": 108,
     "metadata": {},
     "output_type": "execute_result"
    }
   ],
   "source": [
    "indexes = np.where(b==17)\n",
    "indexes\n",
    "# This indexes is a two D list "
   ]
  },
  {
   "cell_type": "code",
   "execution_count": 110,
   "id": "173570da",
   "metadata": {},
   "outputs": [
    {
     "name": "stdout",
     "output_type": "stream",
     "text": [
      "[14 16  7  5 12 14]\n",
      "[17 13 17 16 19  9]\n"
     ]
    }
   ],
   "source": [
    "a = np.random.randint(0,20,6)\n",
    "b == np.random.randint(0,20,6)\n",
    "print(a)\n",
    "print(b)"
   ]
  },
  {
   "cell_type": "code",
   "execution_count": 118,
   "id": "53b23c46",
   "metadata": {},
   "outputs": [
    {
     "name": "stdout",
     "output_type": "stream",
     "text": [
      "(array([0, 1, 4], dtype=int64),)\n",
      "0 1 4 "
     ]
    }
   ],
   "source": [
    "import numpy as np\n",
    "l = [1,2,0,0,4,0]\n",
    "a = np.array(l)\n",
    "x = np.where(a != 0)\n",
    "print(x)\n",
    "for i in x:\n",
    "    for j in i:\n",
    "        print(j , end = \" \")"
   ]
  },
  {
   "cell_type": "markdown",
   "id": "f895556f",
   "metadata": {},
   "source": [
    "# Important WOOOOOOEEEE **********************"
   ]
  },
  {
   "cell_type": "code",
   "execution_count": 1,
   "id": "929987e5",
   "metadata": {},
   "outputs": [
    {
     "name": "stdout",
     "output_type": "stream",
     "text": [
      "[15 19 20 21 22 23 16 18 20 15 17]\n"
     ]
    }
   ],
   "source": [
    "import numpy as np\n",
    "age=np.array([15,17,19,20,14,21,16,19,13,20,22,23,21,16,18,19,20,15,17,18])\n",
    "height=np.array([156,144,180,162,152,157,154,155,151,150,158,179,126,182,183,154,159,160,172,149])\n",
    "\n",
    "\n",
    "x = np.where(height>155)\n",
    "y = age[x]\n",
    "print(y)\n",
    "\n",
    "# We can do this , this is amazing thing "
   ]
  },
  {
   "cell_type": "markdown",
   "id": "75d40f1e",
   "metadata": {},
   "source": [
    "# Boolen Indexing Using 2D Arrays "
   ]
  },
  {
   "cell_type": "code",
   "execution_count": 14,
   "id": "fb2eda49",
   "metadata": {},
   "outputs": [
    {
     "data": {
      "text/plain": [
       "array([[ 5, 15,  4, 13,  0, 16],\n",
       "       [14, 16, 15, 13, 10,  6],\n",
       "       [10,  6, 18,  6,  2,  9],\n",
       "       [ 6, 13,  4, 15, 11, 15],\n",
       "       [17, 10, 11, 16,  9,  8]])"
      ]
     },
     "execution_count": 14,
     "metadata": {},
     "output_type": "execute_result"
    }
   ],
   "source": [
    "import numpy as np\n",
    "a = np.random.randint(0 , 20 , (5,6))\n",
    "a"
   ]
  },
  {
   "cell_type": "code",
   "execution_count": 16,
   "id": "832fb073",
   "metadata": {},
   "outputs": [
    {
     "data": {
      "text/plain": [
       "array([[False,  True, False,  True, False,  True],\n",
       "       [ True,  True,  True,  True, False, False],\n",
       "       [False, False,  True, False, False, False],\n",
       "       [False,  True, False,  True,  True,  True],\n",
       "       [ True, False,  True,  True, False, False]])"
      ]
     },
     "execution_count": 16,
     "metadata": {},
     "output_type": "execute_result"
    }
   ],
   "source": [
    "a>10"
   ]
  },
  {
   "cell_type": "markdown",
   "id": "9d4abb60",
   "metadata": {},
   "source": [
    " We can save  this ans  in an array "
   ]
  },
  {
   "cell_type": "code",
   "execution_count": 17,
   "id": "b2af12a3",
   "metadata": {},
   "outputs": [
    {
     "name": "stdout",
     "output_type": "stream",
     "text": [
      "[[False  True False  True False  True]\n",
      " [ True  True  True  True False False]\n",
      " [False False  True False False False]\n",
      " [False  True False  True  True  True]\n",
      " [ True False  True  True False False]]\n"
     ]
    }
   ],
   "source": [
    "bool_arr = a>10\n",
    "print(bool_arr)"
   ]
  },
  {
   "cell_type": "code",
   "execution_count": 18,
   "id": "ef3874a9",
   "metadata": {},
   "outputs": [
    {
     "name": "stdout",
     "output_type": "stream",
     "text": [
      "[15 13 16 14 16 15 13 18 13 15 11 15 17 11 16]\n"
     ]
    }
   ],
   "source": [
    "ans = a[bool_arr]\n",
    "print(ans)\n",
    "# All true values will store in ans "
   ]
  },
  {
   "cell_type": "code",
   "execution_count": 20,
   "id": "33765185",
   "metadata": {},
   "outputs": [
    {
     "name": "stdout",
     "output_type": "stream",
     "text": [
      "[15 13 16 14 16 15 13 18 13 15 11 15 17 11 16]\n"
     ]
    }
   ],
   "source": [
    "print(a[a>10])"
   ]
  },
  {
   "cell_type": "code",
   "execution_count": 21,
   "id": "7128a181",
   "metadata": {},
   "outputs": [
    {
     "data": {
      "text/plain": [
       "array([[ 5, 15,  4, 13,  0, 16],\n",
       "       [14, 16, 15, 13, 10,  6],\n",
       "       [10,  6, 18,  6,  2,  9],\n",
       "       [ 6, 13,  4, 15, 11, 15],\n",
       "       [17, 10, 11, 16,  9,  8]])"
      ]
     },
     "execution_count": 21,
     "metadata": {},
     "output_type": "execute_result"
    }
   ],
   "source": [
    "b = a\n",
    "b"
   ]
  },
  {
   "cell_type": "code",
   "execution_count": 22,
   "id": "088f2ac5",
   "metadata": {},
   "outputs": [
    {
     "data": {
      "text/plain": [
       "array([[  5, 100,   4, 100,   0, 100],\n",
       "       [100, 100, 100, 100,  10,   6],\n",
       "       [ 10,   6, 100,   6,   2,   9],\n",
       "       [  6, 100,   4, 100, 100, 100],\n",
       "       [100,  10, 100, 100,   9,   8]])"
      ]
     },
     "execution_count": 22,
     "metadata": {},
     "output_type": "execute_result"
    }
   ],
   "source": [
    "b[bool_arr] = 100\n",
    "b\n",
    "# Where where bool_arr is true the value will changed in b "
   ]
  },
  {
   "cell_type": "code",
   "execution_count": null,
   "id": "0a5b07e8",
   "metadata": {},
   "outputs": [],
   "source": [
    "# The length of bool_arr and b should be same otherwise it will give\n",
    "# error"
   ]
  },
  {
   "cell_type": "code",
   "execution_count": 41,
   "id": "1d0f52da",
   "metadata": {},
   "outputs": [
    {
     "data": {
      "text/plain": [
       "array([[116, 194, 170, 180, 123,  58],\n",
       "       [ 90, 153,  25,  36,  54, 179],\n",
       "       [  3, 125,  79,  41,  21, 111],\n",
       "       [ 69, 153,  77, 166,  24, 174],\n",
       "       [ 36,  97, 138, 175,  84,  25]])"
      ]
     },
     "execution_count": 41,
     "metadata": {},
     "output_type": "execute_result"
    }
   ],
   "source": [
    "b = np.random.randint(0 , 200 , (5,6))\n",
    "b"
   ]
  },
  {
   "cell_type": "code",
   "execution_count": 42,
   "id": "94dc270e",
   "metadata": {},
   "outputs": [
    {
     "data": {
      "text/plain": [
       "array([False, False, False, False,  True])"
      ]
     },
     "execution_count": 42,
     "metadata": {},
     "output_type": "execute_result"
    }
   ],
   "source": [
    "bool_arr = (b[ : ,3] == 175)\n",
    "bool_arr"
   ]
  },
  {
   "cell_type": "code",
   "execution_count": 44,
   "id": "2cc10395",
   "metadata": {},
   "outputs": [
    {
     "ename": "SyntaxError",
     "evalue": "closing parenthesis ')' does not match opening parenthesis '[' (3418101911.py, line 1)",
     "output_type": "error",
     "traceback": [
      "\u001b[1;36m  Input \u001b[1;32mIn [44]\u001b[1;36m\u001b[0m\n\u001b[1;33m    print([b[ : ,3 ])\u001b[0m\n\u001b[1;37m                    ^\u001b[0m\n\u001b[1;31mSyntaxError\u001b[0m\u001b[1;31m:\u001b[0m closing parenthesis ')' does not match opening parenthesis '['\n"
     ]
    }
   ],
   "source": [
    "print([b[ : ,3 ])"
   ]
  },
  {
   "cell_type": "code",
   "execution_count": 40,
   "id": "d41ae1dc",
   "metadata": {},
   "outputs": [
    {
     "data": {
      "text/plain": [
       "array([[156, 159, 171,  84,  46,  26],\n",
       "       [141, 137,  80,  82,  16, 194],\n",
       "       [179,  95,  99, 122,  99, 122],\n",
       "       [102,  66,   5, 171,  87, 161],\n",
       "       [ 99,  99,  99,  99,  99,  99]])"
      ]
     },
     "execution_count": 40,
     "metadata": {},
     "output_type": "execute_result"
    }
   ],
   "source": [
    "b[bool_arr , 3] = 99\n",
    "b"
   ]
  },
  {
   "cell_type": "code",
   "execution_count": 2,
   "id": "58e2e291",
   "metadata": {},
   "outputs": [
    {
     "ename": "UnicodeDecodeError",
     "evalue": "'charmap' codec can't decode byte 0x81 in position 6235: character maps to <undefined>",
     "output_type": "error",
     "traceback": [
      "\u001b[1;31m---------------------------------------------------------------------------\u001b[0m",
      "\u001b[1;31mUnicodeDecodeError\u001b[0m                        Traceback (most recent call last)",
      "Input \u001b[1;32mIn [2]\u001b[0m, in \u001b[0;36m<cell line: 6>\u001b[1;34m()\u001b[0m\n\u001b[0;32m      7\u001b[0m file_data \u001b[38;5;241m=\u001b[39m csv\u001b[38;5;241m.\u001b[39mDictReader(file_obj , skipinitialspace \u001b[38;5;241m=\u001b[39m \u001b[38;5;28;01mTrue\u001b[39;00m)\n\u001b[0;32m      8\u001b[0m date \u001b[38;5;241m=\u001b[39m []\n\u001b[1;32m----> 9\u001b[0m \u001b[38;5;28;01mfor\u001b[39;00m row \u001b[38;5;129;01min\u001b[39;00m file_data:\n\u001b[0;32m     10\u001b[0m     killed \u001b[38;5;241m=\u001b[39m row[\u001b[38;5;124m\"\u001b[39m\u001b[38;5;124mKilled\u001b[39m\u001b[38;5;124m\"\u001b[39m]\n\u001b[0;32m     11\u001b[0m     \u001b[38;5;28;01mif\u001b[39;00m(killed \u001b[38;5;241m!=\u001b[39m \u001b[38;5;124m'\u001b[39m\u001b[38;5;124m'\u001b[39m):\n",
      "File \u001b[1;32m~\\anaconda3\\lib\\csv.py:111\u001b[0m, in \u001b[0;36mDictReader.__next__\u001b[1;34m(self)\u001b[0m\n\u001b[0;32m    108\u001b[0m \u001b[38;5;28;01mif\u001b[39;00m \u001b[38;5;28mself\u001b[39m\u001b[38;5;241m.\u001b[39mline_num \u001b[38;5;241m==\u001b[39m \u001b[38;5;241m0\u001b[39m:\n\u001b[0;32m    109\u001b[0m     \u001b[38;5;66;03m# Used only for its side effect.\u001b[39;00m\n\u001b[0;32m    110\u001b[0m     \u001b[38;5;28mself\u001b[39m\u001b[38;5;241m.\u001b[39mfieldnames\n\u001b[1;32m--> 111\u001b[0m row \u001b[38;5;241m=\u001b[39m \u001b[38;5;28;43mnext\u001b[39;49m\u001b[43m(\u001b[49m\u001b[38;5;28;43mself\u001b[39;49m\u001b[38;5;241;43m.\u001b[39;49m\u001b[43mreader\u001b[49m\u001b[43m)\u001b[49m\n\u001b[0;32m    112\u001b[0m \u001b[38;5;28mself\u001b[39m\u001b[38;5;241m.\u001b[39mline_num \u001b[38;5;241m=\u001b[39m \u001b[38;5;28mself\u001b[39m\u001b[38;5;241m.\u001b[39mreader\u001b[38;5;241m.\u001b[39mline_num\n\u001b[0;32m    114\u001b[0m \u001b[38;5;66;03m# unlike the basic reader, we prefer not to return blanks,\u001b[39;00m\n\u001b[0;32m    115\u001b[0m \u001b[38;5;66;03m# because we will typically wind up with a dict full of None\u001b[39;00m\n\u001b[0;32m    116\u001b[0m \u001b[38;5;66;03m# values\u001b[39;00m\n",
      "File \u001b[1;32m~\\anaconda3\\lib\\encodings\\cp1252.py:23\u001b[0m, in \u001b[0;36mIncrementalDecoder.decode\u001b[1;34m(self, input, final)\u001b[0m\n\u001b[0;32m     22\u001b[0m \u001b[38;5;28;01mdef\u001b[39;00m \u001b[38;5;21mdecode\u001b[39m(\u001b[38;5;28mself\u001b[39m, \u001b[38;5;28minput\u001b[39m, final\u001b[38;5;241m=\u001b[39m\u001b[38;5;28;01mFalse\u001b[39;00m):\n\u001b[1;32m---> 23\u001b[0m     \u001b[38;5;28;01mreturn\u001b[39;00m \u001b[43mcodecs\u001b[49m\u001b[38;5;241;43m.\u001b[39;49m\u001b[43mcharmap_decode\u001b[49m\u001b[43m(\u001b[49m\u001b[38;5;28;43minput\u001b[39;49m\u001b[43m,\u001b[49m\u001b[38;5;28;43mself\u001b[39;49m\u001b[38;5;241;43m.\u001b[39;49m\u001b[43merrors\u001b[49m\u001b[43m,\u001b[49m\u001b[43mdecoding_table\u001b[49m\u001b[43m)\u001b[49m[\u001b[38;5;241m0\u001b[39m]\n",
      "\u001b[1;31mUnicodeDecodeError\u001b[0m: 'charmap' codec can't decode byte 0x81 in position 6235: character maps to <undefined>"
     ]
    }
   ],
   "source": [
    " ## Open and read data file as specified in the question\n",
    "## Print the required output in given format\n",
    "\n",
    "import csv\n",
    "import numpy as np\n",
    "with open('terrorismData.csv') as file_obj:\n",
    "    file_data = csv.DictReader(file_obj , skipinitialspace = True)\n",
    "    date = []\n",
    "    for row in file_data:\n",
    "        killed = row[\"Killed\"]\n",
    "        if(killed != ''):\n",
    "            killed = int(float(killed));\n",
    "        else:\n",
    "            killed = 0\n",
    "        wounded = row[\"Wounded\"]\n",
    "        if(wounded != ''):\n",
    "             wounded = int(float(wounded));\n",
    "        else:\n",
    "            wounded = 0\n",
    "        # print(row['Month'])\n",
    "        # print(type(row['Month']))\n",
    "        date.append( [ int(float(row['Month'])) , int(float(row['Year'])) , killed ,  wounded  , row[\"City\"] , row[\"Group\"] ])\n",
    "                         \n",
    "npdate = np.array(date)\n",
    "# print(npdate)\n",
    "\n",
    "npdate = npdate[npdate[:,1]==1999]\n",
    "npdate = npdate[npdate[:,0]>=5]\n",
    "npdate = npdate[npdate[:,0]<=7]\n",
    "print(npdate)"
   ]
  },
  {
   "cell_type": "code",
   "execution_count": 6,
   "id": "f827a258",
   "metadata": {},
   "outputs": [
    {
     "name": "stdout",
     "output_type": "stream",
     "text": [
      "13\n",
      "2010\n"
     ]
    }
   ],
   "source": [
    "x = \"March 18 2010\"\n",
    "print(len(x))\n",
    "print(x[9:])"
   ]
  },
  {
   "cell_type": "code",
   "execution_count": null,
   "id": "bbd158f5",
   "metadata": {},
   "outputs": [],
   "source": []
  },
  {
   "cell_type": "code",
   "execution_count": null,
   "id": "5a7d1d5d",
   "metadata": {},
   "outputs": [],
   "source": []
  },
  {
   "cell_type": "code",
   "execution_count": null,
   "id": "24f8ac4f",
   "metadata": {},
   "outputs": [],
   "source": []
  },
  {
   "cell_type": "code",
   "execution_count": null,
   "id": "f7851a9f",
   "metadata": {},
   "outputs": [],
   "source": []
  },
  {
   "cell_type": "code",
   "execution_count": null,
   "id": "2b8c3ac7",
   "metadata": {},
   "outputs": [],
   "source": []
  },
  {
   "cell_type": "code",
   "execution_count": null,
   "id": "59ecedc0",
   "metadata": {},
   "outputs": [],
   "source": []
  },
  {
   "cell_type": "code",
   "execution_count": null,
   "id": "2e93f2e2",
   "metadata": {},
   "outputs": [],
   "source": []
  },
  {
   "cell_type": "code",
   "execution_count": null,
   "id": "0538b88b",
   "metadata": {},
   "outputs": [],
   "source": []
  }
 ],
 "metadata": {
  "kernelspec": {
   "display_name": "Python 3 (ipykernel)",
   "language": "python",
   "name": "python3"
  },
  "language_info": {
   "codemirror_mode": {
    "name": "ipython",
    "version": 3
   },
   "file_extension": ".py",
   "mimetype": "text/x-python",
   "name": "python",
   "nbconvert_exporter": "python",
   "pygments_lexer": "ipython3",
   "version": "3.9.12"
  }
 },
 "nbformat": 4,
 "nbformat_minor": 5
}
