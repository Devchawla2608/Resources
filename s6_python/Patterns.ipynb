{
 "cells": [
  {
   "cell_type": "markdown",
   "id": "cc10a7e5",
   "metadata": {},
   "source": [
    "## Patterns"
   ]
  },
  {
   "cell_type": "code",
   "execution_count": null,
   "id": "f769d005",
   "metadata": {},
   "outputs": [],
   "source": [
    "# ****\n",
    "# ****\n",
    "# ****\n",
    "# ****\n",
    "\n",
    "# For this pattern we use three rules \n",
    "# 1.) No of Rows = N\n",
    "# 2.) No of Cols = N\n",
    "# 3.) What to print = *\n"
   ]
  },
  {
   "cell_type": "code",
   "execution_count": null,
   "id": "450489c7",
   "metadata": {},
   "outputs": [],
   "source": [
    "# 1234\n",
    "# 1234\n",
    "# 1234\n",
    "\n",
    "# For this pattern we use three rules \n",
    "# 1.) No of Rows = N\n",
    "# 2.) No of Cols = N\n",
    "# 3.) What to print = j -----> F(N , i , j)"
   ]
  },
  {
   "cell_type": "markdown",
   "id": "eaf57c51",
   "metadata": {},
   "source": [
    "## First Pattern"
   ]
  },
  {
   "cell_type": "raw",
   "id": "ef6143e7",
   "metadata": {},
   "source": [
    "****\n",
    "****\n",
    "****\n",
    "****"
   ]
  },
  {
   "cell_type": "code",
   "execution_count": 5,
   "id": "1067e620",
   "metadata": {},
   "outputs": [
    {
     "name": "stdout",
     "output_type": "stream",
     "text": [
      "2\n",
      "**\n",
      "**\n"
     ]
    }
   ],
   "source": [
    "n = int(input())\n",
    "i = 1\n",
    "while i<=n:\n",
    "    j = 1\n",
    "    while j<=n:\n",
    "        print('*' , end = '')\n",
    "        j = j + 1 \n",
    "    print()\n",
    "    i = i + 1"
   ]
  },
  {
   "cell_type": "markdown",
   "id": "d005de1b",
   "metadata": {},
   "source": [
    "## Square Patterns"
   ]
  },
  {
   "cell_type": "raw",
   "id": "5fe26bca",
   "metadata": {},
   "source": [
    "1111\n",
    "2222\n",
    "3333\n",
    "4444"
   ]
  },
  {
   "cell_type": "code",
   "execution_count": 6,
   "id": "3d1b4365",
   "metadata": {},
   "outputs": [
    {
     "name": "stdout",
     "output_type": "stream",
     "text": [
      "4\n",
      "1111\n",
      "2222\n",
      "3333\n",
      "4444\n"
     ]
    }
   ],
   "source": [
    "n = int(input())\n",
    "i = 1\n",
    "while i<=n:\n",
    "    j = 1\n",
    "    while j<=n:\n",
    "        print(i , end = '')\n",
    "        j = j + 1 \n",
    "    print()\n",
    "    i = i + 1"
   ]
  },
  {
   "cell_type": "raw",
   "id": "49c14872",
   "metadata": {},
   "source": [
    "1234\n",
    "1234\n",
    "1234\n",
    "1234"
   ]
  },
  {
   "cell_type": "code",
   "execution_count": 7,
   "id": "11277c57",
   "metadata": {},
   "outputs": [
    {
     "name": "stdout",
     "output_type": "stream",
     "text": [
      "4\n",
      "1234\n",
      "1234\n",
      "1234\n",
      "1234\n"
     ]
    }
   ],
   "source": [
    "n = int(input())\n",
    "i = 1\n",
    "while i<=n:\n",
    "    j = 1\n",
    "    while j<=n:\n",
    "        print(j , end = '')\n",
    "        j = j + 1 \n",
    "    print()\n",
    "    i = i + 1"
   ]
  },
  {
   "cell_type": "raw",
   "id": "a98a68c7",
   "metadata": {},
   "source": [
    "4321\n",
    "4321\n",
    "4321\n",
    "4321"
   ]
  },
  {
   "cell_type": "code",
   "execution_count": 8,
   "id": "46f6c196",
   "metadata": {},
   "outputs": [
    {
     "name": "stdout",
     "output_type": "stream",
     "text": [
      "4\n",
      "4321\n",
      "4321\n",
      "4321\n",
      "4321\n"
     ]
    }
   ],
   "source": [
    "n = int(input())\n",
    "i = 1\n",
    "while i<=n:\n",
    "    j = 1\n",
    "    while j<=n:\n",
    "        print(n-j+1 , end = '')\n",
    "        j = j + 1 \n",
    "    print()\n",
    "    i = i + 1"
   ]
  },
  {
   "cell_type": "raw",
   "id": "2f98b4c9",
   "metadata": {},
   "source": [
    "55555\n",
    "55555\n",
    "55555\n",
    "55555\n",
    "55555"
   ]
  },
  {
   "cell_type": "code",
   "execution_count": 9,
   "id": "aa4afc22",
   "metadata": {},
   "outputs": [
    {
     "name": "stdout",
     "output_type": "stream",
     "text": [
      "5\n",
      "55555\n",
      "55555\n",
      "55555\n",
      "55555\n",
      "55555\n"
     ]
    }
   ],
   "source": [
    "n = int(input())\n",
    "i = 1\n",
    "while i<=n:\n",
    "    j = 1\n",
    "    while j<=n:\n",
    "        print(n , end = '')\n",
    "        j = j + 1 \n",
    "    print()\n",
    "    i = i + 1"
   ]
  },
  {
   "cell_type": "raw",
   "id": "5b0210f0",
   "metadata": {},
   "source": [
    "1\n",
    "12\n",
    "123\n",
    "1234\n",
    "12345"
   ]
  },
  {
   "cell_type": "code",
   "execution_count": 10,
   "id": "0f68a463",
   "metadata": {},
   "outputs": [
    {
     "name": "stdout",
     "output_type": "stream",
     "text": [
      "5\n",
      "1\n",
      "12\n",
      "123\n",
      "1234\n",
      "12345\n"
     ]
    }
   ],
   "source": [
    "n = int(input())\n",
    "i = 1\n",
    "while i<=n:\n",
    "    j = 1\n",
    "    while j<=i:\n",
    "        print(j , end = '')\n",
    "        j = j + 1 \n",
    "    print()\n",
    "    i = i + 1"
   ]
  },
  {
   "cell_type": "code",
   "execution_count": null,
   "id": "88313407",
   "metadata": {},
   "outputs": [],
   "source": [
    "1\n",
    "23\n",
    "345\n",
    "4567"
   ]
  },
  {
   "cell_type": "code",
   "execution_count": 12,
   "id": "cb373fa3",
   "metadata": {},
   "outputs": [
    {
     "name": "stdout",
     "output_type": "stream",
     "text": [
      "4\n",
      "1\n",
      "23\n",
      "345\n",
      "4567\n"
     ]
    }
   ],
   "source": [
    "n = int(input())\n",
    "i = 1\n",
    "while i<=n:\n",
    "    j = 1\n",
    "    k = i\n",
    "    while j<=i:\n",
    "        print(k , end = '')\n",
    "        k = k + 1\n",
    "        j = j + 1 \n",
    "    print()\n",
    "    i = i + 1"
   ]
  },
  {
   "cell_type": "raw",
   "id": "53f40e95",
   "metadata": {},
   "source": [
    "1\n",
    "23\n",
    "456\n",
    "78910"
   ]
  },
  {
   "cell_type": "code",
   "execution_count": 13,
   "id": "80a29c2c",
   "metadata": {},
   "outputs": [
    {
     "name": "stdout",
     "output_type": "stream",
     "text": [
      "4\n",
      "1\n",
      "23\n",
      "456\n",
      "78910\n"
     ]
    }
   ],
   "source": [
    "n = int(input())\n",
    "i = 1\n",
    "k = 1\n",
    "while i<=n:\n",
    "    j = 1\n",
    "    while j<=i:\n",
    "        print(k , end = '')\n",
    "        k = k + 1\n",
    "        j = j + 1 \n",
    "    print()\n",
    "    i = i + 1"
   ]
  },
  {
   "cell_type": "raw",
   "id": "114ee6e8",
   "metadata": {},
   "source": [
    "*\n",
    "**\n",
    "***\n",
    "****\n",
    "*****"
   ]
  },
  {
   "cell_type": "code",
   "execution_count": 14,
   "id": "d9badac4",
   "metadata": {},
   "outputs": [
    {
     "name": "stdout",
     "output_type": "stream",
     "text": [
      "5\n",
      "*\n",
      "**\n",
      "***\n",
      "****\n",
      "*****\n"
     ]
    }
   ],
   "source": [
    "n = int(input())\n",
    "i = 1\n",
    "while i<=n:\n",
    "    j = 1\n",
    "    while j<=i:\n",
    "        print('*' , end = '')\n",
    "        k = k + 1\n",
    "        j = j + 1 \n",
    "    print()\n",
    "    i = i + 1"
   ]
  },
  {
   "cell_type": "raw",
   "id": "f0f84c6a",
   "metadata": {},
   "source": [
    "1\n",
    "22\n",
    "333\n",
    "4444\n",
    "55555"
   ]
  },
  {
   "cell_type": "code",
   "execution_count": 15,
   "id": "31504abc",
   "metadata": {},
   "outputs": [
    {
     "name": "stdout",
     "output_type": "stream",
     "text": [
      "5\n",
      "1\n",
      "22\n",
      "333\n",
      "4444\n",
      "55555\n"
     ]
    }
   ],
   "source": [
    "n = int(input())\n",
    "i = 1\n",
    "while i<=n:\n",
    "    j = 1\n",
    "    while j<=i:\n",
    "        print(i , end = '')\n",
    "        k = k + 1\n",
    "        j = j + 1 \n",
    "    print()\n",
    "    i = i + 1"
   ]
  },
  {
   "cell_type": "raw",
   "id": "af8f03f9",
   "metadata": {},
   "source": [
    "1\n",
    "21\n",
    "321\n",
    "4321\n",
    "54321"
   ]
  },
  {
   "cell_type": "code",
   "execution_count": 16,
   "id": "dc1f0786",
   "metadata": {},
   "outputs": [
    {
     "name": "stdout",
     "output_type": "stream",
     "text": [
      "5\n",
      "1\n",
      "21\n",
      "321\n",
      "4321\n",
      "54321\n"
     ]
    }
   ],
   "source": [
    "n = int(input())\n",
    "i = 1\n",
    "while i<=n:\n",
    "    j = 1\n",
    "    k = i\n",
    "    while j<=i:\n",
    "        print(k , end = '')\n",
    "        k = k - 1\n",
    "        j = j + 1 \n",
    "    print()\n",
    "    i = i + 1"
   ]
  },
  {
   "cell_type": "code",
   "execution_count": null,
   "id": "43912494",
   "metadata": {},
   "outputs": [],
   "source": [
    "# Print kth alphabet\n",
    "k = int(input())\n",
    "ord('A')"
   ]
  },
  {
   "cell_type": "markdown",
   "id": "04ada5d2",
   "metadata": {},
   "source": [
    "## Ord Method"
   ]
  },
  {
   "cell_type": "code",
   "execution_count": 18,
   "id": "39c8cd46",
   "metadata": {},
   "outputs": [
    {
     "data": {
      "text/plain": [
       "65"
      ]
     },
     "execution_count": 18,
     "metadata": {},
     "output_type": "execute_result"
    }
   ],
   "source": [
    "asc = ord('A') # -> Gives ascii value for character\n",
    "asc"
   ]
  },
  {
   "cell_type": "markdown",
   "id": "5d95a9b5",
   "metadata": {},
   "source": [
    "## Chr Method"
   ]
  },
  {
   "cell_type": "code",
   "execution_count": 20,
   "id": "9d6ae979",
   "metadata": {},
   "outputs": [
    {
     "data": {
      "text/plain": [
       "'B'"
      ]
     },
     "execution_count": 20,
     "metadata": {},
     "output_type": "execute_result"
    }
   ],
   "source": [
    "char = chr(66)\n",
    "char"
   ]
  },
  {
   "cell_type": "raw",
   "id": "d35e40b8",
   "metadata": {},
   "source": [
    "ABCD\n",
    "ABCD\n",
    "ABCD\n",
    "ABCD"
   ]
  },
  {
   "cell_type": "code",
   "execution_count": 23,
   "id": "12eb13c6",
   "metadata": {},
   "outputs": [
    {
     "name": "stdout",
     "output_type": "stream",
     "text": [
      "4\n",
      "ABCD\n",
      "ABCD\n",
      "ABCD\n",
      "ABCD\n"
     ]
    }
   ],
   "source": [
    "n = int(input())\n",
    "i = 1\n",
    "while i<=n:\n",
    "    j = 1\n",
    "    while j<=n:\n",
    "        c = chr(ord('A') + j-1)\n",
    "        print(c , end = '')\n",
    "        j = j + 1 \n",
    "    print()\n",
    "    i = i + 1"
   ]
  },
  {
   "cell_type": "raw",
   "id": "c2321e22",
   "metadata": {},
   "source": [
    "ABCD\n",
    "BCDE\n",
    "CDEF\n",
    "DEFG"
   ]
  },
  {
   "cell_type": "code",
   "execution_count": 26,
   "id": "ce578cc0",
   "metadata": {},
   "outputs": [
    {
     "name": "stdout",
     "output_type": "stream",
     "text": [
      "4\n",
      "ABCD\n",
      "BCDE\n",
      "CDEF\n",
      "DEFG\n"
     ]
    }
   ],
   "source": [
    "n = int(input())\n",
    "i = 1\n",
    "while i<=n:\n",
    "    j = 1\n",
    "    while j<=n:\n",
    "        c = chr(ord('A') + i +j-2)\n",
    "        print(c , end = '')\n",
    "        j = j + 1 \n",
    "    print()\n",
    "    i = i + 1"
   ]
  },
  {
   "cell_type": "raw",
   "id": "b64e3909",
   "metadata": {},
   "source": [
    "A\n",
    "BB\n",
    "CCC\n",
    "DDDD\n",
    "EEEEE\n",
    "FFFFFF\n",
    "GGGGGGG"
   ]
  },
  {
   "cell_type": "code",
   "execution_count": 28,
   "id": "4e1288e9",
   "metadata": {},
   "outputs": [
    {
     "name": "stdout",
     "output_type": "stream",
     "text": [
      "6\n",
      "A\n",
      "BB\n",
      "CCC\n",
      "DDDD\n",
      "EEEEE\n",
      "FFFFFF\n"
     ]
    }
   ],
   "source": [
    "n = int(input())\n",
    "i = 1\n",
    "while i<=n:\n",
    "    j = 1\n",
    "    while j<=i:\n",
    "        c = chr(ord('A') + i -1)\n",
    "        print(c , end = '')\n",
    "        j = j + 1 \n",
    "    print()\n",
    "    i = i + 1"
   ]
  },
  {
   "cell_type": "raw",
   "id": "06ac6157",
   "metadata": {},
   "source": [
    "A\n",
    "BC\n",
    "CDE\n",
    "DEFG\n",
    "EFGHI"
   ]
  },
  {
   "cell_type": "code",
   "execution_count": 31,
   "id": "089e3103",
   "metadata": {},
   "outputs": [
    {
     "name": "stdout",
     "output_type": "stream",
     "text": [
      "5\n",
      "A\n",
      "BC\n",
      "CDE\n",
      "DEFG\n",
      "EFGHI\n"
     ]
    }
   ],
   "source": [
    "n = int(input())\n",
    "i = 1\n",
    "while i<=n:\n",
    "    j = 1\n",
    "    while j<=i:\n",
    "        c = chr(ord('A') + i + j -2)\n",
    "        print(c , end = '')\n",
    "        j = j + 1 \n",
    "    print()\n",
    "    i = i + 1"
   ]
  },
  {
   "cell_type": "markdown",
   "id": "b11f028e",
   "metadata": {},
   "source": [
    "H\n",
    "GH\n",
    "FGH\n",
    "EFGH\n",
    "DEFGH\n",
    "CDFGH\n",
    "BCDEFGH\n",
    "ABCDEFGH"
   ]
  },
  {
   "cell_type": "code",
   "execution_count": 34,
   "id": "d1145e30",
   "metadata": {},
   "outputs": [
    {
     "name": "stdout",
     "output_type": "stream",
     "text": [
      "8\n",
      "H\n",
      "GH\n",
      "FGH\n",
      "EFGH\n",
      "DEFGH\n",
      "CDEFGH\n",
      "BCDEFGH\n",
      "ABCDEFGH\n"
     ]
    }
   ],
   "source": [
    "n = int(input())\n",
    "i = 1\n",
    "while i<=n:\n",
    "    j = 1\n",
    "    while j<=i:\n",
    "        c = chr(ord('H') - i + j)\n",
    "        print(c , end = '')\n",
    "        j = j + 1 \n",
    "    print()\n",
    "    i = i + 1"
   ]
  },
  {
   "cell_type": "raw",
   "id": "919873a9",
   "metadata": {},
   "source": [
    "****\n",
    "***\n",
    "**\n",
    "*"
   ]
  },
  {
   "cell_type": "code",
   "execution_count": 36,
   "id": "71701ae7",
   "metadata": {},
   "outputs": [
    {
     "name": "stdout",
     "output_type": "stream",
     "text": [
      "4\n",
      "****\n",
      "***\n",
      "**\n",
      "*\n"
     ]
    }
   ],
   "source": [
    "n = int(input())\n",
    "i = 1\n",
    "while i<=n:\n",
    "    j = 1\n",
    "    while j<=n-i+1:\n",
    "        print('*' , end = '')\n",
    "        j = j + 1 \n",
    "    print()\n",
    "    i = i + 1"
   ]
  },
  {
   "cell_type": "markdown",
   "id": "f4fe51b9",
   "metadata": {},
   "source": [
    "## Inverted "
   ]
  },
  {
   "cell_type": "raw",
   "id": "7acee1d3",
   "metadata": {},
   "source": [
    "55555\n",
    "4444\n",
    "333\n",
    "22\n",
    "1"
   ]
  },
  {
   "cell_type": "code",
   "execution_count": 37,
   "id": "d2f3e8ce",
   "metadata": {},
   "outputs": [
    {
     "name": "stdout",
     "output_type": "stream",
     "text": [
      "5\n",
      "55555\n",
      "4444\n",
      "333\n",
      "22\n",
      "1\n"
     ]
    }
   ],
   "source": [
    "n = int(input())\n",
    "i = 1\n",
    "while i<=n:\n",
    "    j = 1\n",
    "    while j<=n-i+1:\n",
    "        print(n-i+1 , end = '')\n",
    "        j = j + 1 \n",
    "    print()\n",
    "    i = i + 1"
   ]
  },
  {
   "cell_type": "markdown",
   "id": "292bdd55",
   "metadata": {},
   "source": [
    "## Reversed"
   ]
  },
  {
   "cell_type": "raw",
   "id": "f5e7a48c",
   "metadata": {},
   "source": [
    "   *\n",
    "  **\n",
    " ***\n",
    "****"
   ]
  },
  {
   "cell_type": "code",
   "execution_count": null,
   "id": "3d585594",
   "metadata": {},
   "outputs": [],
   "source": [
    "n = int(input())\n",
    "i = 1\n",
    "while i<=n:\n",
    "    j = 1\n",
    "    k = 1\n",
    "    while k<=n-i:\n",
    "        print( , end = '')\n",
    "        k = k + 1\n",
    "    while j<=i:\n",
    "        print(j , end = '')\n",
    "        j = j + 1 \n",
    "    print()\n",
    "    i = i + 1"
   ]
  },
  {
   "cell_type": "markdown",
   "id": "27dd68ff",
   "metadata": {},
   "source": [
    "## Isosceles Pattern"
   ]
  },
  {
   "cell_type": "code",
   "execution_count": null,
   "id": "88c9cdab",
   "metadata": {},
   "outputs": [],
   "source": [
    "1\n",
    "121\n",
    "12321\n",
    "1234321"
   ]
  },
  {
   "cell_type": "code",
   "execution_count": null,
   "id": "057a2f8b",
   "metadata": {},
   "outputs": [],
   "source": [
    "n = int(input())\n",
    "i = 1\n",
    "while i<=n:\n",
    "    j = 1\n",
    "    k = 1\n",
    "    while k<=n-i:\n",
    "        print(' ', end = '')\n",
    "        k = k + 1\n",
    "    while j<=i:\n",
    "        print(j , end = '')\n",
    "        j = j + 1 \n",
    "    l = i-1\n",
    "    while l>=1:\n",
    "        print(l , end = '')\n",
    "        l = l - 1\n",
    "    print()\n",
    "    i = i + 1"
   ]
  },
  {
   "cell_type": "raw",
   "id": "91365d12",
   "metadata": {},
   "source": [
    "   *\n",
    "  ***\n",
    " *****\n",
    "*******"
   ]
  },
  {
   "cell_type": "code",
   "execution_count": 1,
   "id": "8623c235",
   "metadata": {},
   "outputs": [
    {
     "name": "stdout",
     "output_type": "stream",
     "text": [
      "4\n",
      "   *\n",
      "  ***\n",
      " *****\n",
      "*******\n"
     ]
    }
   ],
   "source": [
    "n = int(input())\n",
    "i = 1\n",
    "while i<=n:\n",
    "    j = 1\n",
    "    k = 1\n",
    "    while k<=n-i:\n",
    "        print(' ', end = '')\n",
    "        k = k + 1\n",
    "    while j<=i:\n",
    "        print('*' , end = '')\n",
    "        j = j + 1 \n",
    "    l = i-1\n",
    "    while l>=1:\n",
    "        print('*' , end = '')\n",
    "        l = l - 1\n",
    "    print()\n",
    "    i = i + 1"
   ]
  },
  {
   "cell_type": "raw",
   "id": "2966db6f",
   "metadata": {},
   "source": [
    "   1\n",
    "  232\n",
    " 34543\n",
    "4567654"
   ]
  },
  {
   "cell_type": "code",
   "execution_count": 4,
   "id": "2adb6c78",
   "metadata": {},
   "outputs": [
    {
     "name": "stdout",
     "output_type": "stream",
     "text": [
      "5\n",
      "    1\n",
      "   232\n",
      "  34543\n",
      " 4567654\n",
      "567898765\n"
     ]
    }
   ],
   "source": [
    "n = int(input())\n",
    "i = 1\n",
    "while i<=n:\n",
    "    k = 1\n",
    "    while k<=n-i:\n",
    "        print(' ', end = '')\n",
    "        k = k + 1\n",
    "    k = i\n",
    "    j = 1\n",
    "    while j<=i:\n",
    "        print(k , end = '')\n",
    "        k = k + 1 \n",
    "        j = j + 1\n",
    "    l = i-1\n",
    "    k = 2*(i-1)\n",
    "    while l>=1:\n",
    "        print(k , end = '')\n",
    "        l = l - 1\n",
    "        k = k-1\n",
    "    print()\n",
    "    i = i + 1"
   ]
  },
  {
   "cell_type": "raw",
   "id": "bbf4bd52",
   "metadata": {},
   "source": [
    "  *\n",
    " ***\n",
    "*****\n",
    " ***\n",
    "  *"
   ]
  },
  {
   "cell_type": "code",
   "execution_count": 14,
   "id": "e6f15ffe",
   "metadata": {},
   "outputs": [
    {
     "name": "stdout",
     "output_type": "stream",
     "text": [
      "5\n",
      "    *\n",
      "   ***\n",
      "  *****\n",
      " ******\n",
      "  *****\n"
     ]
    }
   ],
   "source": [
    "n = int(input())\n",
    "i = 1\n",
    "while i<=(n//2+1):\n",
    "    k = 1\n",
    "    while k<=n-i:\n",
    "        print(' ', end = '')\n",
    "        k = k + 1\n",
    "    k = i\n",
    "    j = 1\n",
    "    while j<=i:\n",
    "        print('*' , end = '')\n",
    "        k = k + 1 \n",
    "        j = j + 1\n",
    "    l = i-1\n",
    "    k = 2*(i-1)\n",
    "    while l>=1:\n",
    "        print('*' , end = '')\n",
    "        l = l - 1\n",
    "        k = k-1\n",
    "    print()\n",
    "    i = i + 1\n",
    "    a = 1\n",
    "while i<=n:\n",
    "    k = 1\n",
    "    while k<=a:\n",
    "        print(' ', end = '')\n",
    "        k = k + 1\n",
    "    k = i\n",
    "    j = 1\n",
    "    while j<=n-2*a:\n",
    "        print('*' , end = '')\n",
    "        k = k + 1 \n",
    "        j = j + 1\n",
    "    l = i-1\n",
    "    k = 2*(i-1)\n",
    "    while l>=1:\n",
    "        print('*' , end = '')\n",
    "        l = l - 1\n",
    "        k = k-1\n",
    "    print()\n",
    "    a = a + 1\n",
    "    i = i + 1"
   ]
  },
  {
   "cell_type": "code",
   "execution_count": null,
   "id": "fe11f233",
   "metadata": {},
   "outputs": [],
   "source": []
  },
  {
   "cell_type": "code",
   "execution_count": null,
   "id": "4d1dc2e8",
   "metadata": {},
   "outputs": [],
   "source": []
  },
  {
   "cell_type": "code",
   "execution_count": null,
   "id": "61e246d4",
   "metadata": {},
   "outputs": [],
   "source": []
  },
  {
   "cell_type": "code",
   "execution_count": null,
   "id": "0c737509",
   "metadata": {},
   "outputs": [],
   "source": []
  },
  {
   "cell_type": "code",
   "execution_count": null,
   "id": "5b9ad878",
   "metadata": {},
   "outputs": [],
   "source": []
  },
  {
   "cell_type": "code",
   "execution_count": null,
   "id": "22fe77d8",
   "metadata": {},
   "outputs": [],
   "source": []
  },
  {
   "cell_type": "code",
   "execution_count": null,
   "id": "282f71ce",
   "metadata": {},
   "outputs": [],
   "source": []
  },
  {
   "cell_type": "code",
   "execution_count": null,
   "id": "dc960765",
   "metadata": {},
   "outputs": [],
   "source": []
  },
  {
   "cell_type": "code",
   "execution_count": null,
   "id": "da44da18",
   "metadata": {},
   "outputs": [],
   "source": []
  }
 ],
 "metadata": {
  "kernelspec": {
   "display_name": "Python 3 (ipykernel)",
   "language": "python",
   "name": "python3"
  },
  "language_info": {
   "codemirror_mode": {
    "name": "ipython",
    "version": 3
   },
   "file_extension": ".py",
   "mimetype": "text/x-python",
   "name": "python",
   "nbconvert_exporter": "python",
   "pygments_lexer": "ipython3",
   "version": "3.11.5"
  }
 },
 "nbformat": 4,
 "nbformat_minor": 5
}
