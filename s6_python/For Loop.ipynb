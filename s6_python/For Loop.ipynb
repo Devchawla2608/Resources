{
 "cells": [
  {
   "cell_type": "markdown",
   "id": "230bcf6d",
   "metadata": {},
   "source": [
    "## For Loop"
   ]
  },
  {
   "cell_type": "markdown",
   "id": "3592e14c",
   "metadata": {},
   "source": [
    "## For loop for strings"
   ]
  },
  {
   "cell_type": "code",
   "execution_count": 2,
   "id": "fe446670",
   "metadata": {},
   "outputs": [
    {
     "name": "stdout",
     "output_type": "stream",
     "text": [
      "abcd"
     ]
    }
   ],
   "source": [
    "s = \"abcd\"\n",
    "for c in s:\n",
    "    print(c , end='')"
   ]
  },
  {
   "cell_type": "markdown",
   "id": "48fe98b2",
   "metadata": {},
   "source": [
    "## For loop for numbers Range(start , stop , stride)"
   ]
  },
  {
   "cell_type": "code",
   "execution_count": 7,
   "id": "65568122",
   "metadata": {},
   "outputs": [
    {
     "name": "stdout",
     "output_type": "stream",
     "text": [
      "5\n",
      "1 2 3 4 5 "
     ]
    }
   ],
   "source": [
    "# All Argument\n",
    "n = int(input())\n",
    "for i in range(1,n+1,1):\n",
    "    print(i , end=' ')"
   ]
  },
  {
   "cell_type": "code",
   "execution_count": null,
   "id": "2484dd0d",
   "metadata": {},
   "outputs": [],
   "source": [
    "# By default \n",
    "# start = 0\n",
    "# stride/step = 1"
   ]
  },
  {
   "cell_type": "code",
   "execution_count": 9,
   "id": "4eeb2ba1",
   "metadata": {},
   "outputs": [
    {
     "name": "stdout",
     "output_type": "stream",
     "text": [
      "5\n",
      "0 1 2 3 4 5 "
     ]
    }
   ],
   "source": [
    "# One Agrument\n",
    "n = int(input())\n",
    "for i in range(n+1):\n",
    "    print(i , end=' ')"
   ]
  },
  {
   "cell_type": "code",
   "execution_count": null,
   "id": "6059d058",
   "metadata": {},
   "outputs": [],
   "source": [
    "# It will not work becuase it will take first as start and second as end "
   ]
  },
  {
   "cell_type": "code",
   "execution_count": 10,
   "id": "22adbb21",
   "metadata": {},
   "outputs": [
    {
     "name": "stdout",
     "output_type": "stream",
     "text": [
      "5\n",
      "1 2 3 4 5 "
     ]
    }
   ],
   "source": [
    "# Two Arguments\n",
    "n = int(input())\n",
    "for i in range(1,n+1):\n",
    "    print(i , end=' ')"
   ]
  },
  {
   "cell_type": "code",
   "execution_count": 11,
   "id": "9f0461ac",
   "metadata": {},
   "outputs": [
    {
     "name": "stdout",
     "output_type": "stream",
     "text": [
      "5\n"
     ]
    }
   ],
   "source": [
    "# Two Arguments\n",
    "n = int(input())\n",
    "for i in range(n+1 , 1):\n",
    "    print(i , end=' ')\n",
    "    "
   ]
  },
  {
   "cell_type": "markdown",
   "id": "cc0ab88d",
   "metadata": {},
   "source": [
    "## Numbers from N to 1"
   ]
  },
  {
   "cell_type": "code",
   "execution_count": 13,
   "id": "0e9ef3e4",
   "metadata": {},
   "outputs": [
    {
     "name": "stdout",
     "output_type": "stream",
     "text": [
      "5\n",
      "5 4 3 2 1 "
     ]
    }
   ],
   "source": [
    "n = int(input())\n",
    "for i in range(n , 0 , -1):\n",
    "    print(i , end=' ')"
   ]
  },
  {
   "cell_type": "code",
   "execution_count": null,
   "id": "44332107",
   "metadata": {},
   "outputs": [],
   "source": [
    "# To print till 1 we have to take end as 0"
   ]
  },
  {
   "cell_type": "markdown",
   "id": "6df0da5c",
   "metadata": {},
   "source": [
    "## Numbers from a to b which are multiple of 3 "
   ]
  },
  {
   "cell_type": "code",
   "execution_count": 14,
   "id": "fc556dcd",
   "metadata": {},
   "outputs": [
    {
     "name": "stdout",
     "output_type": "stream",
     "text": [
      "1\n",
      "100\n",
      "3\n",
      "6\n",
      "9\n",
      "12\n",
      "15\n",
      "18\n",
      "21\n",
      "24\n",
      "27\n",
      "30\n",
      "33\n",
      "36\n",
      "39\n",
      "42\n",
      "45\n",
      "48\n",
      "51\n",
      "54\n",
      "57\n",
      "60\n",
      "63\n",
      "66\n",
      "69\n",
      "72\n",
      "75\n",
      "78\n",
      "81\n",
      "84\n",
      "87\n",
      "90\n",
      "93\n",
      "96\n",
      "99\n"
     ]
    }
   ],
   "source": [
    "a = int(input())\n",
    "b = int(input())\n",
    "\n",
    "for i in range(a , b+1 , 1):\n",
    "    if i%3 == 0:\n",
    "        print(i)"
   ]
  },
  {
   "cell_type": "code",
   "execution_count": 15,
   "id": "94401fbf",
   "metadata": {},
   "outputs": [
    {
     "name": "stdout",
     "output_type": "stream",
     "text": [
      "5\n",
      "100\n",
      "6\n",
      "9\n",
      "12\n",
      "15\n",
      "18\n",
      "21\n",
      "24\n",
      "27\n",
      "30\n",
      "33\n",
      "36\n",
      "39\n",
      "42\n",
      "45\n",
      "48\n",
      "51\n",
      "54\n",
      "57\n",
      "60\n",
      "63\n",
      "66\n",
      "69\n",
      "72\n",
      "75\n",
      "78\n",
      "81\n",
      "84\n",
      "87\n",
      "90\n",
      "93\n",
      "96\n",
      "99\n"
     ]
    }
   ],
   "source": [
    "a = int(input())\n",
    "b = int(input())\n",
    "s = n+3-(n+3)%3\n",
    "for i in range(s , b+1 , 3):\n",
    "    if i%3 == 0:\n",
    "        print(i)"
   ]
  },
  {
   "cell_type": "markdown",
   "id": "f1e0c818",
   "metadata": {},
   "source": [
    "## Check Number prime or not "
   ]
  },
  {
   "cell_type": "code",
   "execution_count": 20,
   "id": "b94c54be",
   "metadata": {},
   "outputs": [
    {
     "name": "stdout",
     "output_type": "stream",
     "text": [
      "6\n",
      "Not Prime\n"
     ]
    }
   ],
   "source": [
    "n = int(input())\n",
    "flag = False\n",
    "for d in range(2,n ,1):\n",
    "    if n%d == 0:\n",
    "        flag = True\n",
    "if flag == True:\n",
    "    print(\"Not Prime\")\n",
    "else:\n",
    "    print(\"Prime\")"
   ]
  },
  {
   "cell_type": "markdown",
   "id": "d09d53a0",
   "metadata": {},
   "source": [
    "## Break"
   ]
  },
  {
   "cell_type": "code",
   "execution_count": 1,
   "id": "87fc3977",
   "metadata": {},
   "outputs": [
    {
     "name": "stdout",
     "output_type": "stream",
     "text": [
      "1\n",
      "2\n",
      "3\n",
      "4\n"
     ]
    }
   ],
   "source": [
    "i = 1\n",
    "while i<10:\n",
    "    if(i == 5):\n",
    "        break\n",
    "    print(i)\n",
    "    i = i + 1"
   ]
  },
  {
   "cell_type": "code",
   "execution_count": 3,
   "id": "057fc702",
   "metadata": {},
   "outputs": [
    {
     "name": "stdout",
     "output_type": "stream",
     "text": [
      "6\n",
      "Not Prime\n"
     ]
    }
   ],
   "source": [
    "# Prime Number\n",
    "n = int(input())\n",
    "flag = False\n",
    "for d in range(2,n ,1):\n",
    "    if n%d == 0:\n",
    "        flag = True\n",
    "        break\n",
    "if flag == True:\n",
    "    print(\"Not Prime\")\n",
    "else:\n",
    "    print(\"Prime\")\n",
    "    \n",
    "# Break works same in both for loop and while loop\n",
    "# Break will break loop just above it not all in case of nested loops"
   ]
  },
  {
   "cell_type": "markdown",
   "id": "11d3936e",
   "metadata": {},
   "source": [
    "## Else with loops"
   ]
  },
  {
   "cell_type": "raw",
   "id": "9a14cf65",
   "metadata": {},
   "source": [
    "In python we can use else with loop as well. Code inside else will not run if loop end with break statement"
   ]
  },
  {
   "cell_type": "code",
   "execution_count": 10,
   "id": "e9dda8d2",
   "metadata": {},
   "outputs": [
    {
     "name": "stdout",
     "output_type": "stream",
     "text": [
      "1\n",
      "2\n",
      "3\n",
      "4\n",
      "Not Prime\n"
     ]
    }
   ],
   "source": [
    "i = 1\n",
    "while(i<10):\n",
    "    if(i == 5):\n",
    "        print(\"Not Prime\")\n",
    "        break\n",
    "    print(i)\n",
    "    i = i + 1\n",
    "else:\n",
    "    print(\"Prime\")"
   ]
  },
  {
   "cell_type": "code",
   "execution_count": 11,
   "id": "728d9530",
   "metadata": {},
   "outputs": [
    {
     "name": "stdout",
     "output_type": "stream",
     "text": [
      "5\n",
      "Prime\n"
     ]
    }
   ],
   "source": [
    "n = int(input())\n",
    "flag = False\n",
    "for d in range(2,n ,1):\n",
    "    if n%d == 0:\n",
    "        print(\"Not Prime\")\n",
    "        flag = True\n",
    "        break\n",
    "else:\n",
    "    print(\"Prime\")"
   ]
  },
  {
   "cell_type": "code",
   "execution_count": 1,
   "id": "4a80fdcc",
   "metadata": {},
   "outputs": [
    {
     "name": "stdout",
     "output_type": "stream",
     "text": [
      "5\n",
      "Prime\n"
     ]
    }
   ],
   "source": [
    "n = int(input())\n",
    "d = 2\n",
    "while(d<n):\n",
    "    if n%d == 0:\n",
    "        print(\"Not Prime\")\n",
    "        break\n",
    "    d = d + 1\n",
    "else:\n",
    "    print(\"Prime\")"
   ]
  },
  {
   "cell_type": "markdown",
   "id": "403517a0",
   "metadata": {},
   "source": [
    "## Continue"
   ]
  },
  {
   "cell_type": "raw",
   "id": "1a2af61a",
   "metadata": {},
   "source": [
    "Break is used to break the loop\n",
    "Continue used to skip an iteration in loop"
   ]
  },
  {
   "cell_type": "code",
   "execution_count": 4,
   "id": "5cfe37a9",
   "metadata": {},
   "outputs": [
    {
     "name": "stdout",
     "output_type": "stream",
     "text": [
      "1\n",
      "2\n",
      "3\n",
      "4\n",
      "6\n",
      "7\n",
      "8\n",
      "9\n"
     ]
    }
   ],
   "source": [
    "i = 1\n",
    "while(i<10):\n",
    "    if(i == 5):\n",
    "        i = i + 1\n",
    "        continue\n",
    "    print(i)\n",
    "    i = i + 1\n"
   ]
  },
  {
   "cell_type": "markdown",
   "id": "8f7b41b6",
   "metadata": {},
   "source": [
    "## Print All Even Numbers"
   ]
  },
  {
   "cell_type": "code",
   "execution_count": 5,
   "id": "2cd5b98d",
   "metadata": {},
   "outputs": [
    {
     "name": "stdout",
     "output_type": "stream",
     "text": [
      "100\n",
      "2\n",
      "4\n",
      "6\n",
      "8\n",
      "10\n",
      "12\n",
      "14\n",
      "16\n",
      "18\n",
      "20\n",
      "22\n",
      "24\n",
      "26\n",
      "28\n",
      "30\n",
      "32\n",
      "34\n",
      "36\n",
      "38\n",
      "40\n",
      "42\n",
      "44\n",
      "46\n",
      "48\n",
      "50\n",
      "52\n",
      "54\n",
      "56\n",
      "58\n",
      "60\n",
      "62\n",
      "64\n",
      "66\n",
      "68\n",
      "70\n",
      "72\n",
      "74\n",
      "76\n",
      "78\n",
      "80\n",
      "82\n",
      "84\n",
      "86\n",
      "88\n",
      "90\n",
      "92\n",
      "94\n",
      "96\n",
      "98\n",
      "100\n"
     ]
    }
   ],
   "source": [
    "n = int(input())\n",
    "for i in range(2,n+1 , 1):\n",
    "    if(i%2 != 0):\n",
    "        continue\n",
    "    print(i)\n"
   ]
  },
  {
   "cell_type": "markdown",
   "id": "d26c7ce0",
   "metadata": {},
   "source": [
    "## Pass Keyword"
   ]
  },
  {
   "cell_type": "raw",
   "id": "ffb1aa58",
   "metadata": {},
   "source": [
    "If i do not want to write something in if then we can use pass. Can be used for todo for future . Kind of dummy code"
   ]
  },
  {
   "cell_type": "code",
   "execution_count": 7,
   "id": "a40e0209",
   "metadata": {},
   "outputs": [
    {
     "name": "stdout",
     "output_type": "stream",
     "text": [
      "Hey\n"
     ]
    }
   ],
   "source": [
    "i = 3\n",
    "if i < 7:\n",
    "    pass\n",
    "print(\"Hey\")"
   ]
  },
  {
   "cell_type": "code",
   "execution_count": null,
   "id": "79fc18f6",
   "metadata": {},
   "outputs": [],
   "source": []
  },
  {
   "cell_type": "code",
   "execution_count": null,
   "id": "b12c99e8",
   "metadata": {},
   "outputs": [],
   "source": []
  },
  {
   "cell_type": "code",
   "execution_count": null,
   "id": "733153d1",
   "metadata": {},
   "outputs": [],
   "source": []
  },
  {
   "cell_type": "code",
   "execution_count": null,
   "id": "b45284a1",
   "metadata": {},
   "outputs": [],
   "source": []
  },
  {
   "cell_type": "code",
   "execution_count": null,
   "id": "afabdb48",
   "metadata": {},
   "outputs": [],
   "source": []
  },
  {
   "cell_type": "code",
   "execution_count": null,
   "id": "21813a03",
   "metadata": {},
   "outputs": [],
   "source": []
  },
  {
   "cell_type": "code",
   "execution_count": null,
   "id": "984a8be5",
   "metadata": {},
   "outputs": [],
   "source": []
  }
 ],
 "metadata": {
  "kernelspec": {
   "display_name": "Python 3 (ipykernel)",
   "language": "python",
   "name": "python3"
  },
  "language_info": {
   "codemirror_mode": {
    "name": "ipython",
    "version": 3
   },
   "file_extension": ".py",
   "mimetype": "text/x-python",
   "name": "python",
   "nbconvert_exporter": "python",
   "pygments_lexer": "ipython3",
   "version": "3.11.5"
  }
 },
 "nbformat": 4,
 "nbformat_minor": 5
}
