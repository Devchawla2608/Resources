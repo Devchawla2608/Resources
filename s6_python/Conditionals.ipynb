{
 "cells": [
  {
   "cell_type": "markdown",
   "id": "8df41d55",
   "metadata": {},
   "source": [
    "## Boolean Datatype [TRUE | FALSE]\n"
   ]
  },
  {
   "cell_type": "code",
   "execution_count": 2,
   "id": "33bb555d",
   "metadata": {},
   "outputs": [
    {
     "name": "stdout",
     "output_type": "stream",
     "text": [
      "<class 'bool'>\n",
      "<class 'str'>\n"
     ]
    }
   ],
   "source": [
    "a = True\n",
    "b = False\n",
    "\n",
    "c = \"Ninjas\"\n",
    "c\n",
    "\n",
    "# Syntax of True and False both are reserved keywords\n",
    "type(c)\n",
    "print(type(a))\n",
    "print(type(c))"
   ]
  },
  {
   "cell_type": "markdown",
   "id": "f67482b3",
   "metadata": {},
   "source": [
    "## Relationals Operators"
   ]
  },
  {
   "cell_type": "code",
   "execution_count": 11,
   "id": "7645bd3f",
   "metadata": {},
   "outputs": [],
   "source": [
    "a = 10\n",
    "b = 20"
   ]
  },
  {
   "cell_type": "code",
   "execution_count": 12,
   "id": "5bce247f",
   "metadata": {},
   "outputs": [
    {
     "name": "stdout",
     "output_type": "stream",
     "text": [
      "False\n",
      "True\n",
      "False\n",
      "True\n",
      "False\n",
      "True\n"
     ]
    }
   ],
   "source": [
    "print(a>b)\n",
    "print(a<b)\n",
    "print(a>=b)\n",
    "print(a<=b)\n",
    "print(a==b)\n",
    "print(a!=b)"
   ]
  },
  {
   "cell_type": "markdown",
   "id": "b17a8da5",
   "metadata": {},
   "source": [
    "## Logical Operators"
   ]
  },
  {
   "cell_type": "code",
   "execution_count": 17,
   "id": "72ecb601",
   "metadata": {},
   "outputs": [
    {
     "name": "stdout",
     "output_type": "stream",
     "text": [
      "False\n",
      "True\n",
      "False\n",
      "True\n",
      "True\n"
     ]
    }
   ],
   "source": [
    "# Used for multiple condition checking\n",
    "c1 = a>10\n",
    "c2 = b>10\n",
    "print(c1)\n",
    "print(c2)\n",
    "\n",
    "# and\n",
    "r1 = c1 and c2\n",
    "print(r1)\n",
    "\n",
    "# or\n",
    "r2 = c1 or c2\n",
    "print(r2)\n",
    "\n",
    "# not\n",
    "r3 = not(c1)\n",
    "print(r3)"
   ]
  },
  {
   "cell_type": "markdown",
   "id": "c104769e",
   "metadata": {},
   "source": [
    "## If Else"
   ]
  },
  {
   "cell_type": "code",
   "execution_count": 19,
   "id": "63bd7b3e",
   "metadata": {},
   "outputs": [
    {
     "name": "stdout",
     "output_type": "stream",
     "text": [
      "Inside If\n"
     ]
    }
   ],
   "source": [
    "a = True\n",
    "if(a):\n",
    "    print(\"Inside If\")\n",
    "else:\n",
    "    print(\"Inside Else\")"
   ]
  },
  {
   "cell_type": "code",
   "execution_count": 20,
   "id": "47778c66",
   "metadata": {},
   "outputs": [
    {
     "name": "stdout",
     "output_type": "stream",
     "text": [
      "Inside Else\n"
     ]
    }
   ],
   "source": [
    "a = False\n",
    "if(a):\n",
    "    print(\"Inside If\")\n",
    "else:\n",
    "    print(\"Inside Else\")"
   ]
  },
  {
   "cell_type": "code",
   "execution_count": null,
   "id": "c83ed08d",
   "metadata": {},
   "outputs": [],
   "source": [
    "# Important Notes\n",
    "#  Indendation is important . If we want to write something in if \n",
    "# then we have to take care of about indendation  "
   ]
  },
  {
   "cell_type": "code",
   "execution_count": 22,
   "id": "826de7b4",
   "metadata": {},
   "outputs": [
    {
     "name": "stdout",
     "output_type": "stream",
     "text": [
      "5\n"
     ]
    }
   ],
   "source": [
    "# Check Number to be odd or even\n",
    "n = int(input())\n",
    "if(n%2 == 0):\n",
    "    print(\"Even\")"
   ]
  },
  {
   "cell_type": "code",
   "execution_count": 23,
   "id": "b5ce1751",
   "metadata": {},
   "outputs": [
    {
     "name": "stdout",
     "output_type": "stream",
     "text": [
      "Odd\n"
     ]
    }
   ],
   "source": [
    "if(n%2 == 0):\n",
    "    print(\"Even\")\n",
    "else:\n",
    "    print(\"Odd\")"
   ]
  },
  {
   "cell_type": "markdown",
   "id": "3b638a47",
   "metadata": {},
   "source": [
    "## Practice of If Else"
   ]
  },
  {
   "cell_type": "code",
   "execution_count": null,
   "id": "851bce87",
   "metadata": {},
   "outputs": [],
   "source": [
    "a = int(input())\n",
    "b = int(input())\n",
    "\n",
    "c1 = a>10\n",
    "c2 = b>10\n",
    "\n",
    "r = c1 and c2\n",
    "if r:\n",
    "    print(\"Both > 10\")\n",
    "else:\n",
    "    print(\"No they are not\")"
   ]
  },
  {
   "cell_type": "code",
   "execution_count": 24,
   "id": "57e2badf",
   "metadata": {},
   "outputs": [
    {
     "name": "stdout",
     "output_type": "stream",
     "text": [
      "5\n",
      "6\n",
      "No they are not\n"
     ]
    }
   ],
   "source": [
    "a = int(input())\n",
    "b = int(input())\n",
    "if a>10 and b>10:\n",
    "    print(\"Both > 10\")\n",
    "else:\n",
    "    print(\"No they are not\")"
   ]
  },
  {
   "cell_type": "code",
   "execution_count": 25,
   "id": "ac3e5524",
   "metadata": {},
   "outputs": [
    {
     "name": "stdout",
     "output_type": "stream",
     "text": [
      "4\n",
      "No it is not\n"
     ]
    }
   ],
   "source": [
    "a = int(input())\n",
    "if a == 7:\n",
    "    print(\"Equalls to 7\")\n",
    "else:\n",
    "    print(\"No it is not\")"
   ]
  },
  {
   "cell_type": "markdown",
   "id": "94a8dda4",
   "metadata": {},
   "source": [
    "## Else if ladder"
   ]
  },
  {
   "cell_type": "code",
   "execution_count": 27,
   "id": "e1546491",
   "metadata": {},
   "outputs": [
    {
     "name": "stdout",
     "output_type": "stream",
     "text": [
      "5\n",
      "5\n",
      "6\n",
      "6\n"
     ]
    }
   ],
   "source": [
    "# Largest among three numbers\n",
    "a = int(input())\n",
    "b = int(input())\n",
    "c = int(input())\n",
    "\n",
    "if a>=b and a>=c:\n",
    "    print(a)\n",
    "elif b>=a and b>=c:\n",
    "    print(b)\n",
    "else:\n",
    "    print(c)"
   ]
  },
  {
   "cell_type": "code",
   "execution_count": 28,
   "id": "7031782b",
   "metadata": {},
   "outputs": [
    {
     "name": "stdout",
     "output_type": "stream",
     "text": [
      "5\n",
      "6\n",
      "8\n",
      "Green\n"
     ]
    }
   ],
   "source": [
    "# No Need Else\n",
    "a = int(input())\n",
    "b = int(input())\n",
    "c = int(input())\n",
    "\n",
    "if a>=b and a>=c:\n",
    "    print(\"Red\")\n",
    "elif b>=a and b>=c:\n",
    "    print(\"Blue\")\n",
    "elif c>=a and c>=b:\n",
    "    print(\"Green\")"
   ]
  },
  {
   "cell_type": "code",
   "execution_count": 30,
   "id": "b64d60c3",
   "metadata": {},
   "outputs": [
    {
     "name": "stdout",
     "output_type": "stream",
     "text": [
      "5\n",
      "Red\n"
     ]
    }
   ],
   "source": [
    "# No Need Else\n",
    "# Order of if else is very important\n",
    "n = int(input())\n",
    "\n",
    "if n>=5:\n",
    "    print(\"Red\")\n",
    "elif n>10:\n",
    "    print(\"Blue\")\n",
    "elif n>0:\n",
    "    print(\"Green\")"
   ]
  },
  {
   "cell_type": "markdown",
   "id": "e22c16e0",
   "metadata": {},
   "source": [
    "## Nested If Else"
   ]
  },
  {
   "cell_type": "code",
   "execution_count": 3,
   "id": "146cc283",
   "metadata": {},
   "outputs": [
    {
     "name": "stdout",
     "output_type": "stream",
     "text": [
      "4\n",
      "n is even\n"
     ]
    }
   ],
   "source": [
    "n = int(input())\n",
    "\n",
    "if n%2 == 0:\n",
    "    print(\"n is even\")\n",
    "    if n == 0:\n",
    "        print(\"n is zero\")\n",
    "else:\n",
    "    print(\"n is odd\")"
   ]
  },
  {
   "cell_type": "code",
   "execution_count": null,
   "id": "1858df3d",
   "metadata": {
    "scrolled": true
   },
   "outputs": [],
   "source": [
    "n = int(input())\n",
    "m = int(input())\n",
    "\n",
    "if n%2 == 0:\n",
    "    if m%2 == 0:\n",
    "        print(1)\n",
    "    else:\n",
    "        print(2)\n",
    "else:\n",
    "    print(3)"
   ]
  },
  {
   "cell_type": "markdown",
   "id": "b96277fc",
   "metadata": {},
   "source": [
    "## While Loop"
   ]
  },
  {
   "cell_type": "code",
   "execution_count": null,
   "id": "2ef6c3a3",
   "metadata": {},
   "outputs": [],
   "source": [
    "# Print n natural numbers\n",
    "n = int(input())\n",
    "count = 1;\n",
    "while count<=n:\n",
    "    print(count)\n",
    "    count = count + 1"
   ]
  },
  {
   "cell_type": "code",
   "execution_count": null,
   "id": "0a067f16",
   "metadata": {},
   "outputs": [],
   "source": [
    "n = int(input())\n",
    "d = 2\n",
    "flag = False\n",
    "while d < n:\n",
    "    if (n%d == 0):\n",
    "        flag = True\n",
    "    d = d + 1\n",
    "if flag == True:\n",
    "    print(\"n is not prime\")\n",
    "else:\n",
    "    print(\"n is prime\")"
   ]
  },
  {
   "cell_type": "markdown",
   "id": "d7972088",
   "metadata": {},
   "source": [
    "## Nested While Loop"
   ]
  },
  {
   "cell_type": "code",
   "execution_count": null,
   "id": "27163e3c",
   "metadata": {},
   "outputs": [],
   "source": [
    "# Print All prime number between 2 to n"
   ]
  },
  {
   "cell_type": "code",
   "execution_count": null,
   "id": "d7dfd9da",
   "metadata": {},
   "outputs": [],
   "source": [
    "n = int(input())\n",
    "k = 2\n",
    "while k<=n:\n",
    "    d = 2\n",
    "    flag = False\n",
    "    while d<k :\n",
    "        if(k%d == 0):\n",
    "            flag = True\n",
    "        d = d + 1\n",
    "    if not(flag):\n",
    "        print(k)\n",
    "    k = k + 1"
   ]
  },
  {
   "cell_type": "code",
   "execution_count": null,
   "id": "93eb2f83",
   "metadata": {},
   "outputs": [],
   "source": []
  },
  {
   "cell_type": "code",
   "execution_count": null,
   "id": "ade87ec2",
   "metadata": {},
   "outputs": [],
   "source": []
  },
  {
   "cell_type": "code",
   "execution_count": null,
   "id": "34385e30",
   "metadata": {},
   "outputs": [],
   "source": []
  },
  {
   "cell_type": "code",
   "execution_count": null,
   "id": "8641df87",
   "metadata": {},
   "outputs": [],
   "source": []
  },
  {
   "cell_type": "code",
   "execution_count": null,
   "id": "0efef8a0",
   "metadata": {},
   "outputs": [],
   "source": []
  },
  {
   "cell_type": "code",
   "execution_count": null,
   "id": "dbb8fe28",
   "metadata": {},
   "outputs": [],
   "source": []
  }
 ],
 "metadata": {
  "kernelspec": {
   "display_name": "Python 3 (ipykernel)",
   "language": "python",
   "name": "python3"
  },
  "language_info": {
   "codemirror_mode": {
    "name": "ipython",
    "version": 3
   },
   "file_extension": ".py",
   "mimetype": "text/x-python",
   "name": "python",
   "nbconvert_exporter": "python",
   "pygments_lexer": "ipython3",
   "version": "3.11.5"
  }
 },
 "nbformat": 4,
 "nbformat_minor": 5
}
